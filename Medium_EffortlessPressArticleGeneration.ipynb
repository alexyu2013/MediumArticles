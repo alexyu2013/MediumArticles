{
  "nbformat": 4,
  "nbformat_minor": 0,
  "metadata": {
    "colab": {
      "provenance": [],
      "toc_visible": true
    },
    "kernelspec": {
      "name": "python3",
      "display_name": "Python 3"
    },
    "language_info": {
      "name": "python"
    }
  },
  "cells": [
    {
      "cell_type": "markdown",
      "source": [
        "# 📰 Effortless Press Articles: Scrape, Rewrite & Format with BBC, ChatGPT & Jinja"
      ],
      "metadata": {
        "id": "ACL8kaB8X8RZ"
      }
    },
    {
      "cell_type": "markdown",
      "source": [
        "## 1) Get information from  BBC source (using scraper techniques)"
      ],
      "metadata": {
        "id": "mCrTmzbXX7Uy"
      }
    },
    {
      "cell_type": "markdown",
      "source": [
        "This same technique is valid for any source as long as we adapt the logic a little bit."
      ],
      "metadata": {
        "id": "CSDfrH91XqY1"
      }
    },
    {
      "cell_type": "code",
      "execution_count": null,
      "metadata": {
        "id": "QDt7pvTHVzNL"
      },
      "outputs": [],
      "source": [
        "import pandas as pd\n",
        "import pytz\n",
        "import requests\n",
        "from bs4 import BeautifulSoup\n",
        "from datetime import datetime, timedelta\n",
        "from urllib.parse import urlparse\n"
      ]
    },
    {
      "cell_type": "markdown",
      "source": [
        "First, we take the data from a RSS feed since it has an easily accessible xml format."
      ],
      "metadata": {
        "id": "I6hfWWHUUoQ_"
      }
    },
    {
      "cell_type": "code",
      "source": [
        "#  Define a function to parse the RSS feed items and return them as a list of dictionaries.\n",
        "\n",
        "def get_source_name(url):\n",
        "    domain = urlparse(url).netloc\n",
        "    source = domain.replace('www.', '').split('.')[0]\n",
        "    return source\n",
        "\n",
        "def parser_items_rss(url):\n",
        "    response = requests.get(url)\n",
        "    soup = BeautifulSoup(response.content, 'xml')\n",
        "    items = soup.find_all('item')\n",
        "    source = get_source_name(url)\n",
        "\n",
        "    lista_items = []\n",
        "    for item in items:\n",
        "        row = {\n",
        "            \"title\": item.find('title').text if item.find('title') else None,\n",
        "            \"description\": item.find('description').text if item.find('description') else None,\n",
        "            \"link\": item.find('link').text if item.find('link') else None,\n",
        "            \"pubDate\": item.find('pubDate').text if item.find('pubDate') else None,\n",
        "            \"source\": source\n",
        "        }\n",
        "        lista_items.append(row)\n",
        "\n",
        "    return lista_items\n",
        "\n",
        "# Feed rss\n",
        "urls = [\n",
        "    \"http://feeds.bbci.co.uk/news/technology/rss.xml\"\n",
        "]\n",
        "\n",
        "# empty list\n",
        "datos = []\n",
        "\n",
        "# Iterates over each URL and accumulates the data\n",
        "for url in urls:\n",
        "    datos.extend(parser_items_rss(url))\n",
        "\n",
        "# Creates the DataFrame from the list of data\n",
        "df = pd.DataFrame(datos)\n",
        "print (df)\n",
        "\n",
        "\n",
        "# Convertimos 'pubDate' a fecha y hora con zona horaria UTC\n",
        "df['pubDate'] = pd.to_datetime(df['pubDate'], format='%a, %d %b %Y %H:%M:%S %Z')\n",
        "\n",
        "# Order by date\n",
        "df_sorted = df.sort_values(by='pubDate', ascending=False)\n",
        "\n",
        "# Filter by last 5 days\n",
        "seven_days_ago = datetime.now(pytz.utc) - timedelta(days=7)\n",
        "df_filtered = df_sorted[df_sorted['pubDate'] > seven_days_ago]\n",
        "\n",
        "df_filtered = df_filtered.drop(columns=['pubDate', 'source'])\n",
        "\n",
        "\n"
      ],
      "metadata": {
        "colab": {
          "base_uri": "https://localhost:8080/"
        },
        "id": "xLkMhZQNX5n8",
        "outputId": "3b2b9092-7ab3-493c-b34a-98b71d437f6b"
      },
      "execution_count": null,
      "outputs": [
        {
          "output_type": "stream",
          "name": "stdout",
          "text": [
            "                                                title  \\\n",
            "0   Can we really 'reset the internet' to make it ...   \n",
            "1   Tech firms told to hide 'toxic' content from c...   \n",
            "2     E-gates back online after delays at UK airports   \n",
            "3   FTX says it has billions more than owed to vic...   \n",
            "4   US revokes licences for sales of chips to Huawei    \n",
            "..                                                ...   \n",
            "59        Could AI take the grind out of accountancy?   \n",
            "60  India in undersea race to mine world’s battery...   \n",
            "61      'Journalists are feeding the AI hype machine'   \n",
            "62  Once India's most valuable start-up, Byju's is...   \n",
            "63  'I'd heard the big, bad, scary conversation ab...   \n",
            "\n",
            "                                          description  \\\n",
            "0   Ofcom has taken a major step in setting out pl...   \n",
            "1   Social media firms like Instagram and TikTok w...   \n",
            "2   Long queues built up at airports affected by a...   \n",
            "3   The failed cryptocurrency giant says it has bi...   \n",
            "4   The move follows Huawei's release of an AI-ena...   \n",
            "..                                                ...   \n",
            "59  AI could mean fewer accountancy jobs but is al...   \n",
            "60  The country has applied for two new licences t...   \n",
            "61  AI reporters and experts discuss how well or o...   \n",
            "62  The ed-tech giant is teetering on the precipic...   \n",
            "63  The women enrolling on artificial intelligence...   \n",
            "\n",
            "                                                 link  \\\n",
            "0      https://www.bbc.com/news/articles/cxe94vpx111o   \n",
            "1      https://www.bbc.com/news/articles/czrx13jj9p3o   \n",
            "2        https://www.bbc.co.uk/news/business-68972065   \n",
            "3      https://www.bbc.com/news/articles/c9wz3wkrdj9o   \n",
            "4      https://www.bbc.com/news/articles/cgxwpql2e82o   \n",
            "..                                                ...   \n",
            "59       https://www.bbc.co.uk/news/business-68553123   \n",
            "60  https://www.bbc.co.uk/news/world-asia-india-68...   \n",
            "61       https://www.bbc.co.uk/news/business-68488924   \n",
            "62  https://www.bbc.co.uk/news/world-asia-india-68...   \n",
            "63       https://www.bbc.co.uk/news/business-68411456   \n",
            "\n",
            "                          pubDate source  \n",
            "0   Wed, 08 May 2024 13:36:18 GMT  feeds  \n",
            "1   Wed, 08 May 2024 11:09:09 GMT  feeds  \n",
            "2   Wed, 08 May 2024 09:00:02 GMT  feeds  \n",
            "3   Wed, 08 May 2024 03:43:11 GMT  feeds  \n",
            "4   Wed, 08 May 2024 05:37:35 GMT  feeds  \n",
            "..                            ...    ...  \n",
            "59  Tue, 26 Mar 2024 00:24:13 GMT  feeds  \n",
            "60  Thu, 21 Mar 2024 00:29:26 GMT  feeds  \n",
            "61  Thu, 14 Mar 2024 00:24:52 GMT  feeds  \n",
            "62  Mon, 11 Mar 2024 00:52:04 GMT  feeds  \n",
            "63  Thu, 29 Feb 2024 00:02:42 GMT  feeds  \n",
            "\n",
            "[64 rows x 5 columns]\n"
          ]
        }
      ]
    },
    {
      "cell_type": "code",
      "source": [
        "df_filtered"
      ],
      "metadata": {
        "colab": {
          "base_uri": "https://localhost:8080/",
          "height": 520
        },
        "id": "IroP5hPQY_HN",
        "outputId": "04fb390a-bc86-4302-fe1d-bee691dfb27d"
      },
      "execution_count": null,
      "outputs": [
        {
          "output_type": "execute_result",
          "data": {
            "text/plain": [
              "                                                title  \\\n",
              "0   Can we really 'reset the internet' to make it ...   \n",
              "1   Tech firms told to hide 'toxic' content from c...   \n",
              "2     E-gates back online after delays at UK airports   \n",
              "4   US revokes licences for sales of chips to Huawei    \n",
              "3   FTX says it has billions more than owed to vic...   \n",
              "6      TikTok sues to block US law that could ban app   \n",
              "32               Tech Life: The mammoth ivory problem   \n",
              "33  BBC Verify looks at fake AI-generated Met Gala...   \n",
              "5   Microsoft axes four game studios including Hi-...   \n",
              "7   UK startup gets $1bn funding for self-driving ...   \n",
              "8   Boeing crewed space launch postponed for safet...   \n",
              "10  Acclaimed photographer cracks Instagram in his...   \n",
              "9     From teenage cyber-thug to Europe’s most wanted   \n",
              "11  Instagram courts TikTok users with algorithm r...   \n",
              "12                Have the wheels come off for Tesla?   \n",
              "\n",
              "                                          description  \\\n",
              "0   Ofcom has taken a major step in setting out pl...   \n",
              "1   Social media firms like Instagram and TikTok w...   \n",
              "2   Long queues built up at airports affected by a...   \n",
              "4   The move follows Huawei's release of an AI-ena...   \n",
              "3   The failed cryptocurrency giant says it has bi...   \n",
              "6   TikTok said the measure was an \"extraordinary ...   \n",
              "32  Tech can play a role in combating the illegal ...   \n",
              "33  Fake pictures of Katy Perry and other artists ...   \n",
              "5   The Bafta award-winning game's developer is be...   \n",
              "7   The funding being given to Wayve represents th...   \n",
              "8   First crewed space flight of Boeing's Starline...   \n",
              "10  Over a seven-decade career David Hurn has phot...   \n",
              "9   Kivimaki rose through teen cyber gangs to beco...   \n",
              "11  With TikTok's future uncertain, Instagram is t...   \n",
              "12  As the electric carmaker sees sales fall and c...   \n",
              "\n",
              "                                              link  \n",
              "0   https://www.bbc.com/news/articles/cxe94vpx111o  \n",
              "1   https://www.bbc.com/news/articles/czrx13jj9p3o  \n",
              "2     https://www.bbc.co.uk/news/business-68972065  \n",
              "4   https://www.bbc.com/news/articles/cgxwpql2e82o  \n",
              "3   https://www.bbc.com/news/articles/c9wz3wkrdj9o  \n",
              "6   https://www.bbc.com/news/articles/c72pqlgqe4jo  \n",
              "32      https://www.bbc.co.uk/sounds/play/w3ct5wm2  \n",
              "33       https://www.bbc.co.uk/news/world-68973448  \n",
              "5   https://www.bbc.com/news/articles/c72p5epzj2no  \n",
              "7   https://www.bbc.com/news/articles/crgypzg4edvo  \n",
              "8   https://www.bbc.com/news/articles/cglvpd6n3d8o  \n",
              "10  https://www.bbc.com/news/articles/c89zeg04w8go  \n",
              "9   https://www.bbc.com/news/articles/cyxe9g4zlgpo  \n",
              "11  https://www.bbc.com/news/articles/cmm3yn4pr17o  \n",
              "12    https://www.bbc.co.uk/news/business-68947020  "
            ],
            "text/html": [
              "\n",
              "  <div id=\"df-ee539aa3-663e-4c69-871a-4fb681056ddd\" class=\"colab-df-container\">\n",
              "    <div>\n",
              "<style scoped>\n",
              "    .dataframe tbody tr th:only-of-type {\n",
              "        vertical-align: middle;\n",
              "    }\n",
              "\n",
              "    .dataframe tbody tr th {\n",
              "        vertical-align: top;\n",
              "    }\n",
              "\n",
              "    .dataframe thead th {\n",
              "        text-align: right;\n",
              "    }\n",
              "</style>\n",
              "<table border=\"1\" class=\"dataframe\">\n",
              "  <thead>\n",
              "    <tr style=\"text-align: right;\">\n",
              "      <th></th>\n",
              "      <th>title</th>\n",
              "      <th>description</th>\n",
              "      <th>link</th>\n",
              "    </tr>\n",
              "  </thead>\n",
              "  <tbody>\n",
              "    <tr>\n",
              "      <th>0</th>\n",
              "      <td>Can we really 'reset the internet' to make it ...</td>\n",
              "      <td>Ofcom has taken a major step in setting out pl...</td>\n",
              "      <td>https://www.bbc.com/news/articles/cxe94vpx111o</td>\n",
              "    </tr>\n",
              "    <tr>\n",
              "      <th>1</th>\n",
              "      <td>Tech firms told to hide 'toxic' content from c...</td>\n",
              "      <td>Social media firms like Instagram and TikTok w...</td>\n",
              "      <td>https://www.bbc.com/news/articles/czrx13jj9p3o</td>\n",
              "    </tr>\n",
              "    <tr>\n",
              "      <th>2</th>\n",
              "      <td>E-gates back online after delays at UK airports</td>\n",
              "      <td>Long queues built up at airports affected by a...</td>\n",
              "      <td>https://www.bbc.co.uk/news/business-68972065</td>\n",
              "    </tr>\n",
              "    <tr>\n",
              "      <th>4</th>\n",
              "      <td>US revokes licences for sales of chips to Huawei</td>\n",
              "      <td>The move follows Huawei's release of an AI-ena...</td>\n",
              "      <td>https://www.bbc.com/news/articles/cgxwpql2e82o</td>\n",
              "    </tr>\n",
              "    <tr>\n",
              "      <th>3</th>\n",
              "      <td>FTX says it has billions more than owed to vic...</td>\n",
              "      <td>The failed cryptocurrency giant says it has bi...</td>\n",
              "      <td>https://www.bbc.com/news/articles/c9wz3wkrdj9o</td>\n",
              "    </tr>\n",
              "    <tr>\n",
              "      <th>6</th>\n",
              "      <td>TikTok sues to block US law that could ban app</td>\n",
              "      <td>TikTok said the measure was an \"extraordinary ...</td>\n",
              "      <td>https://www.bbc.com/news/articles/c72pqlgqe4jo</td>\n",
              "    </tr>\n",
              "    <tr>\n",
              "      <th>32</th>\n",
              "      <td>Tech Life: The mammoth ivory problem</td>\n",
              "      <td>Tech can play a role in combating the illegal ...</td>\n",
              "      <td>https://www.bbc.co.uk/sounds/play/w3ct5wm2</td>\n",
              "    </tr>\n",
              "    <tr>\n",
              "      <th>33</th>\n",
              "      <td>BBC Verify looks at fake AI-generated Met Gala...</td>\n",
              "      <td>Fake pictures of Katy Perry and other artists ...</td>\n",
              "      <td>https://www.bbc.co.uk/news/world-68973448</td>\n",
              "    </tr>\n",
              "    <tr>\n",
              "      <th>5</th>\n",
              "      <td>Microsoft axes four game studios including Hi-...</td>\n",
              "      <td>The Bafta award-winning game's developer is be...</td>\n",
              "      <td>https://www.bbc.com/news/articles/c72p5epzj2no</td>\n",
              "    </tr>\n",
              "    <tr>\n",
              "      <th>7</th>\n",
              "      <td>UK startup gets $1bn funding for self-driving ...</td>\n",
              "      <td>The funding being given to Wayve represents th...</td>\n",
              "      <td>https://www.bbc.com/news/articles/crgypzg4edvo</td>\n",
              "    </tr>\n",
              "    <tr>\n",
              "      <th>8</th>\n",
              "      <td>Boeing crewed space launch postponed for safet...</td>\n",
              "      <td>First crewed space flight of Boeing's Starline...</td>\n",
              "      <td>https://www.bbc.com/news/articles/cglvpd6n3d8o</td>\n",
              "    </tr>\n",
              "    <tr>\n",
              "      <th>10</th>\n",
              "      <td>Acclaimed photographer cracks Instagram in his...</td>\n",
              "      <td>Over a seven-decade career David Hurn has phot...</td>\n",
              "      <td>https://www.bbc.com/news/articles/c89zeg04w8go</td>\n",
              "    </tr>\n",
              "    <tr>\n",
              "      <th>9</th>\n",
              "      <td>From teenage cyber-thug to Europe’s most wanted</td>\n",
              "      <td>Kivimaki rose through teen cyber gangs to beco...</td>\n",
              "      <td>https://www.bbc.com/news/articles/cyxe9g4zlgpo</td>\n",
              "    </tr>\n",
              "    <tr>\n",
              "      <th>11</th>\n",
              "      <td>Instagram courts TikTok users with algorithm r...</td>\n",
              "      <td>With TikTok's future uncertain, Instagram is t...</td>\n",
              "      <td>https://www.bbc.com/news/articles/cmm3yn4pr17o</td>\n",
              "    </tr>\n",
              "    <tr>\n",
              "      <th>12</th>\n",
              "      <td>Have the wheels come off for Tesla?</td>\n",
              "      <td>As the electric carmaker sees sales fall and c...</td>\n",
              "      <td>https://www.bbc.co.uk/news/business-68947020</td>\n",
              "    </tr>\n",
              "  </tbody>\n",
              "</table>\n",
              "</div>\n",
              "    <div class=\"colab-df-buttons\">\n",
              "\n",
              "  <div class=\"colab-df-container\">\n",
              "    <button class=\"colab-df-convert\" onclick=\"convertToInteractive('df-ee539aa3-663e-4c69-871a-4fb681056ddd')\"\n",
              "            title=\"Convert this dataframe to an interactive table.\"\n",
              "            style=\"display:none;\">\n",
              "\n",
              "  <svg xmlns=\"http://www.w3.org/2000/svg\" height=\"24px\" viewBox=\"0 -960 960 960\">\n",
              "    <path d=\"M120-120v-720h720v720H120Zm60-500h600v-160H180v160Zm220 220h160v-160H400v160Zm0 220h160v-160H400v160ZM180-400h160v-160H180v160Zm440 0h160v-160H620v160ZM180-180h160v-160H180v160Zm440 0h160v-160H620v160Z\"/>\n",
              "  </svg>\n",
              "    </button>\n",
              "\n",
              "  <style>\n",
              "    .colab-df-container {\n",
              "      display:flex;\n",
              "      gap: 12px;\n",
              "    }\n",
              "\n",
              "    .colab-df-convert {\n",
              "      background-color: #E8F0FE;\n",
              "      border: none;\n",
              "      border-radius: 50%;\n",
              "      cursor: pointer;\n",
              "      display: none;\n",
              "      fill: #1967D2;\n",
              "      height: 32px;\n",
              "      padding: 0 0 0 0;\n",
              "      width: 32px;\n",
              "    }\n",
              "\n",
              "    .colab-df-convert:hover {\n",
              "      background-color: #E2EBFA;\n",
              "      box-shadow: 0px 1px 2px rgba(60, 64, 67, 0.3), 0px 1px 3px 1px rgba(60, 64, 67, 0.15);\n",
              "      fill: #174EA6;\n",
              "    }\n",
              "\n",
              "    .colab-df-buttons div {\n",
              "      margin-bottom: 4px;\n",
              "    }\n",
              "\n",
              "    [theme=dark] .colab-df-convert {\n",
              "      background-color: #3B4455;\n",
              "      fill: #D2E3FC;\n",
              "    }\n",
              "\n",
              "    [theme=dark] .colab-df-convert:hover {\n",
              "      background-color: #434B5C;\n",
              "      box-shadow: 0px 1px 3px 1px rgba(0, 0, 0, 0.15);\n",
              "      filter: drop-shadow(0px 1px 2px rgba(0, 0, 0, 0.3));\n",
              "      fill: #FFFFFF;\n",
              "    }\n",
              "  </style>\n",
              "\n",
              "    <script>\n",
              "      const buttonEl =\n",
              "        document.querySelector('#df-ee539aa3-663e-4c69-871a-4fb681056ddd button.colab-df-convert');\n",
              "      buttonEl.style.display =\n",
              "        google.colab.kernel.accessAllowed ? 'block' : 'none';\n",
              "\n",
              "      async function convertToInteractive(key) {\n",
              "        const element = document.querySelector('#df-ee539aa3-663e-4c69-871a-4fb681056ddd');\n",
              "        const dataTable =\n",
              "          await google.colab.kernel.invokeFunction('convertToInteractive',\n",
              "                                                    [key], {});\n",
              "        if (!dataTable) return;\n",
              "\n",
              "        const docLinkHtml = 'Like what you see? Visit the ' +\n",
              "          '<a target=\"_blank\" href=https://colab.research.google.com/notebooks/data_table.ipynb>data table notebook</a>'\n",
              "          + ' to learn more about interactive tables.';\n",
              "        element.innerHTML = '';\n",
              "        dataTable['output_type'] = 'display_data';\n",
              "        await google.colab.output.renderOutput(dataTable, element);\n",
              "        const docLink = document.createElement('div');\n",
              "        docLink.innerHTML = docLinkHtml;\n",
              "        element.appendChild(docLink);\n",
              "      }\n",
              "    </script>\n",
              "  </div>\n",
              "\n",
              "\n",
              "<div id=\"df-f4c5d90f-c977-4acf-a697-c843620268d5\">\n",
              "  <button class=\"colab-df-quickchart\" onclick=\"quickchart('df-f4c5d90f-c977-4acf-a697-c843620268d5')\"\n",
              "            title=\"Suggest charts\"\n",
              "            style=\"display:none;\">\n",
              "\n",
              "<svg xmlns=\"http://www.w3.org/2000/svg\" height=\"24px\"viewBox=\"0 0 24 24\"\n",
              "     width=\"24px\">\n",
              "    <g>\n",
              "        <path d=\"M19 3H5c-1.1 0-2 .9-2 2v14c0 1.1.9 2 2 2h14c1.1 0 2-.9 2-2V5c0-1.1-.9-2-2-2zM9 17H7v-7h2v7zm4 0h-2V7h2v10zm4 0h-2v-4h2v4z\"/>\n",
              "    </g>\n",
              "</svg>\n",
              "  </button>\n",
              "\n",
              "<style>\n",
              "  .colab-df-quickchart {\n",
              "      --bg-color: #E8F0FE;\n",
              "      --fill-color: #1967D2;\n",
              "      --hover-bg-color: #E2EBFA;\n",
              "      --hover-fill-color: #174EA6;\n",
              "      --disabled-fill-color: #AAA;\n",
              "      --disabled-bg-color: #DDD;\n",
              "  }\n",
              "\n",
              "  [theme=dark] .colab-df-quickchart {\n",
              "      --bg-color: #3B4455;\n",
              "      --fill-color: #D2E3FC;\n",
              "      --hover-bg-color: #434B5C;\n",
              "      --hover-fill-color: #FFFFFF;\n",
              "      --disabled-bg-color: #3B4455;\n",
              "      --disabled-fill-color: #666;\n",
              "  }\n",
              "\n",
              "  .colab-df-quickchart {\n",
              "    background-color: var(--bg-color);\n",
              "    border: none;\n",
              "    border-radius: 50%;\n",
              "    cursor: pointer;\n",
              "    display: none;\n",
              "    fill: var(--fill-color);\n",
              "    height: 32px;\n",
              "    padding: 0;\n",
              "    width: 32px;\n",
              "  }\n",
              "\n",
              "  .colab-df-quickchart:hover {\n",
              "    background-color: var(--hover-bg-color);\n",
              "    box-shadow: 0 1px 2px rgba(60, 64, 67, 0.3), 0 1px 3px 1px rgba(60, 64, 67, 0.15);\n",
              "    fill: var(--button-hover-fill-color);\n",
              "  }\n",
              "\n",
              "  .colab-df-quickchart-complete:disabled,\n",
              "  .colab-df-quickchart-complete:disabled:hover {\n",
              "    background-color: var(--disabled-bg-color);\n",
              "    fill: var(--disabled-fill-color);\n",
              "    box-shadow: none;\n",
              "  }\n",
              "\n",
              "  .colab-df-spinner {\n",
              "    border: 2px solid var(--fill-color);\n",
              "    border-color: transparent;\n",
              "    border-bottom-color: var(--fill-color);\n",
              "    animation:\n",
              "      spin 1s steps(1) infinite;\n",
              "  }\n",
              "\n",
              "  @keyframes spin {\n",
              "    0% {\n",
              "      border-color: transparent;\n",
              "      border-bottom-color: var(--fill-color);\n",
              "      border-left-color: var(--fill-color);\n",
              "    }\n",
              "    20% {\n",
              "      border-color: transparent;\n",
              "      border-left-color: var(--fill-color);\n",
              "      border-top-color: var(--fill-color);\n",
              "    }\n",
              "    30% {\n",
              "      border-color: transparent;\n",
              "      border-left-color: var(--fill-color);\n",
              "      border-top-color: var(--fill-color);\n",
              "      border-right-color: var(--fill-color);\n",
              "    }\n",
              "    40% {\n",
              "      border-color: transparent;\n",
              "      border-right-color: var(--fill-color);\n",
              "      border-top-color: var(--fill-color);\n",
              "    }\n",
              "    60% {\n",
              "      border-color: transparent;\n",
              "      border-right-color: var(--fill-color);\n",
              "    }\n",
              "    80% {\n",
              "      border-color: transparent;\n",
              "      border-right-color: var(--fill-color);\n",
              "      border-bottom-color: var(--fill-color);\n",
              "    }\n",
              "    90% {\n",
              "      border-color: transparent;\n",
              "      border-bottom-color: var(--fill-color);\n",
              "    }\n",
              "  }\n",
              "</style>\n",
              "\n",
              "  <script>\n",
              "    async function quickchart(key) {\n",
              "      const quickchartButtonEl =\n",
              "        document.querySelector('#' + key + ' button');\n",
              "      quickchartButtonEl.disabled = true;  // To prevent multiple clicks.\n",
              "      quickchartButtonEl.classList.add('colab-df-spinner');\n",
              "      try {\n",
              "        const charts = await google.colab.kernel.invokeFunction(\n",
              "            'suggestCharts', [key], {});\n",
              "      } catch (error) {\n",
              "        console.error('Error during call to suggestCharts:', error);\n",
              "      }\n",
              "      quickchartButtonEl.classList.remove('colab-df-spinner');\n",
              "      quickchartButtonEl.classList.add('colab-df-quickchart-complete');\n",
              "    }\n",
              "    (() => {\n",
              "      let quickchartButtonEl =\n",
              "        document.querySelector('#df-f4c5d90f-c977-4acf-a697-c843620268d5 button');\n",
              "      quickchartButtonEl.style.display =\n",
              "        google.colab.kernel.accessAllowed ? 'block' : 'none';\n",
              "    })();\n",
              "  </script>\n",
              "</div>\n",
              "    </div>\n",
              "  </div>\n"
            ],
            "application/vnd.google.colaboratory.intrinsic+json": {
              "type": "dataframe",
              "variable_name": "df_filtered",
              "summary": "{\n  \"name\": \"df_filtered\",\n  \"rows\": 15,\n  \"fields\": [\n    {\n      \"column\": \"title\",\n      \"properties\": {\n        \"dtype\": \"string\",\n        \"num_unique_values\": 15,\n        \"samples\": [\n          \"UK startup gets $1bn funding for self-driving car tech\",\n          \"Acclaimed photographer cracks Instagram in his 80s\",\n          \"Can we really 'reset the internet' to make it safer for children?\"\n        ],\n        \"semantic_type\": \"\",\n        \"description\": \"\"\n      }\n    },\n    {\n      \"column\": \"description\",\n      \"properties\": {\n        \"dtype\": \"string\",\n        \"num_unique_values\": 15,\n        \"samples\": [\n          \"The funding being given to Wayve represents the biggest ever investment in a European AI firm.\",\n          \"Over a seven-decade career David Hurn has photographed everyone from the Beatles to Audrey Hepburn. \",\n          \"Ofcom has taken a major step in setting out plans to protect children online, but hurdles remain.\"\n        ],\n        \"semantic_type\": \"\",\n        \"description\": \"\"\n      }\n    },\n    {\n      \"column\": \"link\",\n      \"properties\": {\n        \"dtype\": \"string\",\n        \"num_unique_values\": 15,\n        \"samples\": [\n          \"https://www.bbc.com/news/articles/crgypzg4edvo\",\n          \"https://www.bbc.com/news/articles/c89zeg04w8go\",\n          \"https://www.bbc.com/news/articles/cxe94vpx111o\"\n        ],\n        \"semantic_type\": \"\",\n        \"description\": \"\"\n      }\n    }\n  ]\n}"
            }
          },
          "metadata": {},
          "execution_count": 3
        }
      ]
    },
    {
      "cell_type": "code",
      "source": [
        "# Convert DataFrame to JSON\n",
        "json_result1 = df_filtered.to_json(orient=\"records\", lines=True)\n",
        "\n",
        "print(json_result1)"
      ],
      "metadata": {
        "colab": {
          "base_uri": "https://localhost:8080/"
        },
        "id": "3X2rVtu1bK2N",
        "outputId": "5c6cd81a-b389-48d2-9a91-7f149c7e275a"
      },
      "execution_count": null,
      "outputs": [
        {
          "output_type": "stream",
          "name": "stdout",
          "text": [
            "{\"title\":\"Can we really 'reset the internet' to make it safer for children?\",\"description\":\"Ofcom has taken a major step in setting out plans to protect children online, but hurdles remain.\",\"link\":\"https:\\/\\/www.bbc.com\\/news\\/articles\\/cxe94vpx111o\"}\n",
            "{\"title\":\"Tech firms told to hide 'toxic' content from children\",\"description\":\"Social media firms like Instagram and TikTok will have to make changes to comply with new online safety laws.\",\"link\":\"https:\\/\\/www.bbc.com\\/news\\/articles\\/czrx13jj9p3o\"}\n",
            "{\"title\":\"E-gates back online after delays at UK airports\",\"description\":\"Long queues built up at airports affected by a Border Force \\\"technical issue\\\" at passport control.\",\"link\":\"https:\\/\\/www.bbc.co.uk\\/news\\/business-68972065\"}\n",
            "{\"title\":\"US revokes licences for sales of chips to Huawei \",\"description\":\"The move follows Huawei's release of an AI-enabled computer powered by a chip created by Intel.\",\"link\":\"https:\\/\\/www.bbc.com\\/news\\/articles\\/cgxwpql2e82o\"}\n",
            "{\"title\":\"FTX says it has billions more than owed to victims\",\"description\":\"The failed cryptocurrency giant says it has billions of dollars more than needed to cover its debts.\",\"link\":\"https:\\/\\/www.bbc.com\\/news\\/articles\\/c9wz3wkrdj9o\"}\n",
            "{\"title\":\"TikTok sues to block US law that could ban app\",\"description\":\"TikTok said the measure was an \\\"extraordinary intrusion on free speech rights\\\".\",\"link\":\"https:\\/\\/www.bbc.com\\/news\\/articles\\/c72pqlgqe4jo\"}\n",
            "{\"title\":\"Tech Life: The mammoth ivory problem\",\"description\":\"Tech can play a role in combating the illegal trade in elephant ivory.\",\"link\":\"https:\\/\\/www.bbc.co.uk\\/sounds\\/play\\/w3ct5wm2\"}\n",
            "{\"title\":\"BBC Verify looks at fake AI-generated Met Gala images\",\"description\":\"Fake pictures of Katy Perry and other artists at the Met Gala went viral on social media.\",\"link\":\"https:\\/\\/www.bbc.co.uk\\/news\\/world-68973448\"}\n",
            "{\"title\":\"Microsoft axes four game studios including Hi-Fi Rush developer\",\"description\":\"The Bafta award-winning game's developer is being closed alongside other studios owned by Bethesda.\",\"link\":\"https:\\/\\/www.bbc.com\\/news\\/articles\\/c72p5epzj2no\"}\n",
            "{\"title\":\"UK startup gets $1bn funding for self-driving car tech\",\"description\":\"The funding being given to Wayve represents the biggest ever investment in a European AI firm.\",\"link\":\"https:\\/\\/www.bbc.com\\/news\\/articles\\/crgypzg4edvo\"}\n",
            "{\"title\":\"Boeing crewed space launch postponed for safety check\",\"description\":\"First crewed space flight of Boeing's Starliner was postponed shortly before lift-off due to glitch.\",\"link\":\"https:\\/\\/www.bbc.com\\/news\\/articles\\/cglvpd6n3d8o\"}\n",
            "{\"title\":\"Acclaimed photographer cracks Instagram in his 80s\",\"description\":\"Over a seven-decade career David Hurn has photographed everyone from the Beatles to Audrey Hepburn. \",\"link\":\"https:\\/\\/www.bbc.com\\/news\\/articles\\/c89zeg04w8go\"}\n",
            "{\"title\":\"From teenage cyber-thug to Europe\\u2019s most wanted\",\"description\":\"Kivimaki rose through teen cyber gangs to become a Most Wanted criminal responsible for one of the most shocking hacks in history.\",\"link\":\"https:\\/\\/www.bbc.com\\/news\\/articles\\/cyxe9g4zlgpo\"}\n",
            "{\"title\":\"Instagram courts TikTok users with algorithm revamp\",\"description\":\"With TikTok's future uncertain, Instagram is trying to get more viral content on its Reels feature.\",\"link\":\"https:\\/\\/www.bbc.com\\/news\\/articles\\/cmm3yn4pr17o\"}\n",
            "{\"title\":\"Have the wheels come off for Tesla?\",\"description\":\"As the electric carmaker sees sales fall and cuts jobs, we take a closer look at its problems.\",\"link\":\"https:\\/\\/www.bbc.co.uk\\/news\\/business-68947020\"}\n",
            "\n"
          ]
        }
      ]
    },
    {
      "cell_type": "markdown",
      "source": [
        "## 2) OpenAI integration"
      ],
      "metadata": {
        "id": "_3PA7kwaWQB4"
      }
    },
    {
      "cell_type": "code",
      "source": [
        "!pip install openai\n",
        "#!pip install pytz\n",
        "from openai import OpenAI\n",
        "import os"
      ],
      "metadata": {
        "colab": {
          "base_uri": "https://localhost:8080/"
        },
        "id": "7zb9kQ2DbYy7",
        "outputId": "c2f9379d-453b-4b48-8429-18f34483d3b7"
      },
      "execution_count": null,
      "outputs": [
        {
          "output_type": "stream",
          "name": "stdout",
          "text": [
            "Collecting openai\n",
            "  Downloading openai-1.26.0-py3-none-any.whl (314 kB)\n",
            "\u001b[?25l     \u001b[90m━━━━━━━━━━━━━━━━━━━━━━━━━━━━━━━━━━━━━━━━\u001b[0m \u001b[32m0.0/314.1 kB\u001b[0m \u001b[31m?\u001b[0m eta \u001b[36m-:--:--\u001b[0m\r\u001b[2K     \u001b[91m━━━━━━━━━━━━━━━━━━━━━━━━━━━━━━━━\u001b[0m\u001b[91m╸\u001b[0m\u001b[90m━━━━━━━\u001b[0m \u001b[32m256.0/314.1 kB\u001b[0m \u001b[31m7.7 MB/s\u001b[0m eta \u001b[36m0:00:01\u001b[0m\r\u001b[2K     \u001b[90m━━━━━━━━━━━━━━━━━━━━━━━━━━━━━━━━━━━━━━━━\u001b[0m \u001b[32m314.1/314.1 kB\u001b[0m \u001b[31m6.7 MB/s\u001b[0m eta \u001b[36m0:00:00\u001b[0m\n",
            "\u001b[?25hRequirement already satisfied: anyio<5,>=3.5.0 in /usr/local/lib/python3.10/dist-packages (from openai) (3.7.1)\n",
            "Requirement already satisfied: distro<2,>=1.7.0 in /usr/lib/python3/dist-packages (from openai) (1.7.0)\n",
            "Collecting httpx<1,>=0.23.0 (from openai)\n",
            "  Downloading httpx-0.27.0-py3-none-any.whl (75 kB)\n",
            "\u001b[2K     \u001b[90m━━━━━━━━━━━━━━━━━━━━━━━━━━━━━━━━━━━━━━━━\u001b[0m \u001b[32m75.6/75.6 kB\u001b[0m \u001b[31m11.8 MB/s\u001b[0m eta \u001b[36m0:00:00\u001b[0m\n",
            "\u001b[?25hRequirement already satisfied: pydantic<3,>=1.9.0 in /usr/local/lib/python3.10/dist-packages (from openai) (2.7.1)\n",
            "Requirement already satisfied: sniffio in /usr/local/lib/python3.10/dist-packages (from openai) (1.3.1)\n",
            "Requirement already satisfied: tqdm>4 in /usr/local/lib/python3.10/dist-packages (from openai) (4.66.4)\n",
            "Requirement already satisfied: typing-extensions<5,>=4.7 in /usr/local/lib/python3.10/dist-packages (from openai) (4.11.0)\n",
            "Requirement already satisfied: idna>=2.8 in /usr/local/lib/python3.10/dist-packages (from anyio<5,>=3.5.0->openai) (3.7)\n",
            "Requirement already satisfied: exceptiongroup in /usr/local/lib/python3.10/dist-packages (from anyio<5,>=3.5.0->openai) (1.2.1)\n",
            "Requirement already satisfied: certifi in /usr/local/lib/python3.10/dist-packages (from httpx<1,>=0.23.0->openai) (2024.2.2)\n",
            "Collecting httpcore==1.* (from httpx<1,>=0.23.0->openai)\n",
            "  Downloading httpcore-1.0.5-py3-none-any.whl (77 kB)\n",
            "\u001b[2K     \u001b[90m━━━━━━━━━━━━━━━━━━━━━━━━━━━━━━━━━━━━━━━━\u001b[0m \u001b[32m77.9/77.9 kB\u001b[0m \u001b[31m12.5 MB/s\u001b[0m eta \u001b[36m0:00:00\u001b[0m\n",
            "\u001b[?25hCollecting h11<0.15,>=0.13 (from httpcore==1.*->httpx<1,>=0.23.0->openai)\n",
            "  Downloading h11-0.14.0-py3-none-any.whl (58 kB)\n",
            "\u001b[2K     \u001b[90m━━━━━━━━━━━━━━━━━━━━━━━━━━━━━━━━━━━━━━━━\u001b[0m \u001b[32m58.3/58.3 kB\u001b[0m \u001b[31m9.2 MB/s\u001b[0m eta \u001b[36m0:00:00\u001b[0m\n",
            "\u001b[?25hRequirement already satisfied: annotated-types>=0.4.0 in /usr/local/lib/python3.10/dist-packages (from pydantic<3,>=1.9.0->openai) (0.6.0)\n",
            "Requirement already satisfied: pydantic-core==2.18.2 in /usr/local/lib/python3.10/dist-packages (from pydantic<3,>=1.9.0->openai) (2.18.2)\n",
            "Installing collected packages: h11, httpcore, httpx, openai\n",
            "Successfully installed h11-0.14.0 httpcore-1.0.5 httpx-0.27.0 openai-1.26.0\n"
          ]
        }
      ]
    },
    {
      "cell_type": "code",
      "source": [
        "client = OpenAI(api_key=\"YOUR_API_KEY\")"
      ],
      "metadata": {
        "id": "J-noFdLwbZZd"
      },
      "execution_count": null,
      "outputs": []
    },
    {
      "cell_type": "code",
      "source": [
        "import json"
      ],
      "metadata": {
        "id": "wt6mMiVGfaKx"
      },
      "execution_count": null,
      "outputs": []
    },
    {
      "cell_type": "markdown",
      "source": [
        "Here is an example output for chatgpt to understand exactly what is needed"
      ],
      "metadata": {
        "id": "NMyrOTHQWkCS"
      }
    },
    {
      "cell_type": "code",
      "source": [
        "jsonExample={\n",
        "  \"title\": \"Acclaimed Photographer Cracks Instagram in His 80s\",\n",
        "  \"author\": \"Nicola Bryan\",\n",
        "  \"affiliation\": \"BBC News\",\n",
        "  \"topic\": \"photography\",\n",
        "  \"content\": {\n",
        "    \"summary\": \"David Hurn, a renowned photographer with a career spanning almost seven decades, has gained a new following on social media. Living in Tintern, South Wales, the 89-year-old has documented significant events from the Aberfan disaster to the Beatles at the height of Beatlemania. After establishing Newport’s prestigious School of Documentary Photography in the '70s, Hurn has recently ventured into Instagram, amassing over 54,000 followers and compiling his posts into a photo book.\",\n",
        "    \"why_importance\": \"Hurn’s adaptation to modern technology platforms like Instagram at the age of 89 underscores the timeless relevance of classic art forms in the digital age. His engagement on social media not only bridges generational gaps but also revitalizes interest in historical and documentary photography. It highlights how traditional artists can leverage new media to preserve and extend their legacy, engaging with a global audience and inspiring upcoming generations.\",\n",
        "    \"next_steps\": \"David Hurn plans to continue exploring the intersection of classic photography and modern digital platforms. He is currently working on two new books and has opened his home to photography students for practical sessions, offering personal mentorship in exchange for assistance with maintaining his property. This initiative not only furthers his impact on the field of photography but also directly engages the next generation of photographers in hands-on learning and discussion.\"\n",
        "  }\n",
        "}\n"
      ],
      "metadata": {
        "id": "IHnpbdOZfUWN"
      },
      "execution_count": null,
      "outputs": []
    },
    {
      "cell_type": "markdown",
      "source": [
        "System indications for the first prompt we will ask for"
      ],
      "metadata": {
        "id": "g6lFhCvnXljV"
      }
    },
    {
      "cell_type": "code",
      "source": [
        "systemPrompt1 = ('''Provide output in valid JSON. The data schema should be like this:\\n:\n",
        "                        1. title\n",
        "                        2. link\n",
        "                        3. topic''')"
      ],
      "metadata": {
        "id": "UhaY6dIXmdLI"
      },
      "execution_count": null,
      "outputs": []
    },
    {
      "cell_type": "markdown",
      "source": [
        "System indications for the second prompt we will ask for"
      ],
      "metadata": {
        "id": "2PHw38GZX0vo"
      }
    },
    {
      "cell_type": "code",
      "source": [
        "systemPrompt2 = (\"Provide output in valid JSON. The data schema should be like this:\\n\"\n",
        "                       + json.dumps(jsonExample, indent=4)\n",
        "                       + '''\\nI mean the following structure keys and subkeys\\n:\n",
        "                        1. title\n",
        "                        2. author\n",
        "                        3. affiliation\n",
        "                        4. topic\n",
        "                        5. content\n",
        "                            content.summary\n",
        "                            content.why_importance\n",
        "                            content.next_steps''')\n"
      ],
      "metadata": {
        "id": "MxfyGf77b3Rr"
      },
      "execution_count": null,
      "outputs": []
    },
    {
      "cell_type": "markdown",
      "source": [
        "In this function, the most relevant thing is that we indicate the expected format and we ask for the \"finish_reason\" that allows us to know how the request has gone, that is, if it has been completed successfully."
      ],
      "metadata": {
        "id": "qva7H1fWYLbj"
      }
    },
    {
      "cell_type": "code",
      "source": [
        "def get_completion(user_prompt, system_prompt, model=\"gpt-3.5-turbo-1106\"):\n",
        "    \"\"\"\n",
        "    Generates a response from the OpenAI model based on the user and system prompts.\n",
        "    Args:\n",
        "    - client: The OpenAI client object.\n",
        "    - user_prompt: String, the prompt from the user.\n",
        "    - system_prompt: String, the prompt from the system.\n",
        "    - model: String, the model ID to use for generating the response.\n",
        "\n",
        "    Returns:\n",
        "    - content: String, the content of the completion message.\n",
        "    - finish_reason: String, the reason the chat completion finished.\n",
        "    \"\"\"\n",
        "    chat_completion = client.chat.completions.create(\n",
        "        model=model,\n",
        "        response_format={\"type\": \"json_object\"},\n",
        "        messages=[\n",
        "            {\"role\": \"system\", \"content\": system_prompt},\n",
        "            {\"role\": \"user\", \"content\": user_prompt}\n",
        "        ]\n",
        "    )\n",
        "    content = chat_completion.choices[0].message.content\n",
        "    finish_reason = chat_completion.choices[0].finish_reason\n",
        "    return content, finish_reason"
      ],
      "metadata": {
        "id": "kDUWEuFkbfgu"
      },
      "execution_count": null,
      "outputs": []
    },
    {
      "cell_type": "markdown",
      "source": [
        "### Prompt1: We enrich each news item with its corresponding topic"
      ],
      "metadata": {
        "id": "C6bCa4Fui8si"
      }
    },
    {
      "cell_type": "code",
      "source": [
        "user_prompt1 = f'''Enrich the JSON with the field topic based on the description JSON field \\{json_result1}\\. '''"
      ],
      "metadata": {
        "id": "PQOCqG80m_Ps"
      },
      "execution_count": null,
      "outputs": []
    },
    {
      "cell_type": "code",
      "source": [
        "content,finish_reason= get_completion(user_prompt1,systemPrompt1)"
      ],
      "metadata": {
        "id": "R_9XnkiVnE85"
      },
      "execution_count": null,
      "outputs": []
    },
    {
      "cell_type": "code",
      "source": [
        "if finish_reason != \"stop\":\n",
        "  print('ChatGPT has not stopped successfully')"
      ],
      "metadata": {
        "id": "WSqFxzMbqoXg"
      },
      "execution_count": null,
      "outputs": []
    },
    {
      "cell_type": "markdown",
      "source": [
        "The response has been successful\n"
      ],
      "metadata": {
        "id": "NX1BNHQFYfEA"
      }
    },
    {
      "cell_type": "code",
      "source": [
        "finish_reason"
      ],
      "metadata": {
        "colab": {
          "base_uri": "https://localhost:8080/",
          "height": 35
        },
        "id": "xIh-VR6EqFAB",
        "outputId": "a9f834a0-a80b-47a8-afcd-4aacb0c9388f"
      },
      "execution_count": null,
      "outputs": [
        {
          "output_type": "execute_result",
          "data": {
            "text/plain": [
              "'stop'"
            ],
            "application/vnd.google.colaboratory.intrinsic+json": {
              "type": "string"
            }
          },
          "metadata": {},
          "execution_count": 36
        }
      ]
    },
    {
      "cell_type": "code",
      "source": [
        "data = json.loads(content)\n",
        "data"
      ],
      "metadata": {
        "colab": {
          "base_uri": "https://localhost:8080/"
        },
        "id": "BwInOl8eoelR",
        "outputId": "f336706e-3e68-48e9-8858-06f6986aaf66"
      },
      "execution_count": null,
      "outputs": [
        {
          "output_type": "execute_result",
          "data": {
            "text/plain": [
              "{'articles': [{'title': \"Can we really 'reset the internet' to make it safer for children?\",\n",
              "   'link': 'https://www.bbc.com/news/articles/cxe94vpx111o',\n",
              "   'topic': 'Online Safety for Children'},\n",
              "  {'title': \"Tech firms told to hide 'toxic' content from children\",\n",
              "   'link': 'https://www.bbc.com/news/articles/czrx13jj9p3o',\n",
              "   'topic': 'Online Safety for Children'},\n",
              "  {'title': 'E-gates back online after delays at UK airports',\n",
              "   'link': 'https://www.bbc.co.uk/news/business-68972065',\n",
              "   'topic': 'Airport Technology'},\n",
              "  {'title': 'US revokes licences for sales of chips to Huawei',\n",
              "   'link': 'https://www.bbc.com/news/articles/cgxwpql2e82o',\n",
              "   'topic': 'Technology Business'},\n",
              "  {'title': 'FTX says it has billions more than owed to victims',\n",
              "   'link': 'https://www.bbc.com/news/articles/c9wz3wkrdj9o',\n",
              "   'topic': 'Cryptocurrency'},\n",
              "  {'title': 'TikTok sues to block US law that could ban app',\n",
              "   'link': 'https://www.bbc.com/news/articles/c72pqlgqe4jo',\n",
              "   'topic': 'Legal Action & Social Media'},\n",
              "  {'title': 'Tech Life: The mammoth ivory problem',\n",
              "   'link': 'https://www.bbc.co.uk/sounds/play/w3ct5wm2',\n",
              "   'topic': 'Technology & Conservation'},\n",
              "  {'title': 'BBC Verify looks at fake AI-generated Met Gala images',\n",
              "   'link': 'https://www.bbc.co.uk/news/world-68973448',\n",
              "   'topic': 'AI & Fake Images'},\n",
              "  {'title': 'Microsoft axes four game studios including Hi-Fi Rush developer',\n",
              "   'link': 'https://www.bbc.com/news/articles/c72p5epzj2no',\n",
              "   'topic': 'Gaming Industry'},\n",
              "  {'title': 'UK startup gets $1bn funding for self-driving car tech',\n",
              "   'link': 'https://www.bbc.com/news/articles/crgypzg4edvo',\n",
              "   'topic': 'AI & Automotive Industry'},\n",
              "  {'title': 'Boeing crewed space launch postponed for safety check',\n",
              "   'link': 'https://www.bbc.com/news/articles/cglvpd6n3d8o',\n",
              "   'topic': 'Space Technology'},\n",
              "  {'title': 'Acclaimed photographer cracks Instagram in his 80s',\n",
              "   'link': 'https://www.bbc.com/news/articles/c89zeg04w8go',\n",
              "   'topic': 'Photography & Social Media'},\n",
              "  {'title': 'From teenage cyber-thug to Europe’s most wanted',\n",
              "   'link': 'https://www.bbc.com/news/articles/cyxe9g4zlgpo',\n",
              "   'topic': 'Cybercrime & History'},\n",
              "  {'title': 'Instagram courts TikTok users with algorithm revamp',\n",
              "   'link': 'https://www.bbc.com/news/articles/cmm3yn4pr17o',\n",
              "   'topic': 'Social Media & Algorithm'},\n",
              "  {'title': 'Have the wheels come off for Tesla?',\n",
              "   'link': 'https://www.bbc.co.uk/news/business-68947020',\n",
              "   'topic': 'Automotive Industry & Business'}]}"
            ]
          },
          "metadata": {},
          "execution_count": 14
        }
      ]
    },
    {
      "cell_type": "markdown",
      "source": [
        "Now, the new about the one we want is chosen"
      ],
      "metadata": {
        "id": "clpA5_TBpwZg"
      }
    },
    {
      "cell_type": "code",
      "source": [
        "table=pd.DataFrame(data['articles'])"
      ],
      "metadata": {
        "id": "K86BgaPVqZ0H"
      },
      "execution_count": null,
      "outputs": []
    },
    {
      "cell_type": "code",
      "source": [
        "table"
      ],
      "metadata": {
        "colab": {
          "base_uri": "https://localhost:8080/",
          "height": 520
        },
        "id": "d5H5NIWZq5Bv",
        "outputId": "358410e5-0606-4dc7-b826-dc156c5bae13"
      },
      "execution_count": null,
      "outputs": [
        {
          "output_type": "execute_result",
          "data": {
            "text/plain": [
              "                                                title  \\\n",
              "0   Can we really 'reset the internet' to make it ...   \n",
              "1   Tech firms told to hide 'toxic' content from c...   \n",
              "2     E-gates back online after delays at UK airports   \n",
              "3    US revokes licences for sales of chips to Huawei   \n",
              "4   FTX says it has billions more than owed to vic...   \n",
              "5      TikTok sues to block US law that could ban app   \n",
              "6                Tech Life: The mammoth ivory problem   \n",
              "7   BBC Verify looks at fake AI-generated Met Gala...   \n",
              "8   Microsoft axes four game studios including Hi-...   \n",
              "9   UK startup gets $1bn funding for self-driving ...   \n",
              "10  Boeing crewed space launch postponed for safet...   \n",
              "11  Acclaimed photographer cracks Instagram in his...   \n",
              "12    From teenage cyber-thug to Europe’s most wanted   \n",
              "13  Instagram courts TikTok users with algorithm r...   \n",
              "14                Have the wheels come off for Tesla?   \n",
              "\n",
              "                                              link  \\\n",
              "0   https://www.bbc.com/news/articles/cxe94vpx111o   \n",
              "1   https://www.bbc.com/news/articles/czrx13jj9p3o   \n",
              "2     https://www.bbc.co.uk/news/business-68972065   \n",
              "3   https://www.bbc.com/news/articles/cgxwpql2e82o   \n",
              "4   https://www.bbc.com/news/articles/c9wz3wkrdj9o   \n",
              "5   https://www.bbc.com/news/articles/c72pqlgqe4jo   \n",
              "6       https://www.bbc.co.uk/sounds/play/w3ct5wm2   \n",
              "7        https://www.bbc.co.uk/news/world-68973448   \n",
              "8   https://www.bbc.com/news/articles/c72p5epzj2no   \n",
              "9   https://www.bbc.com/news/articles/crgypzg4edvo   \n",
              "10  https://www.bbc.com/news/articles/cglvpd6n3d8o   \n",
              "11  https://www.bbc.com/news/articles/c89zeg04w8go   \n",
              "12  https://www.bbc.com/news/articles/cyxe9g4zlgpo   \n",
              "13  https://www.bbc.com/news/articles/cmm3yn4pr17o   \n",
              "14    https://www.bbc.co.uk/news/business-68947020   \n",
              "\n",
              "                             topic  \n",
              "0       Online Safety for Children  \n",
              "1       Online Safety for Children  \n",
              "2               Airport Technology  \n",
              "3              Technology Business  \n",
              "4                   Cryptocurrency  \n",
              "5      Legal Action & Social Media  \n",
              "6        Technology & Conservation  \n",
              "7                 AI & Fake Images  \n",
              "8                  Gaming Industry  \n",
              "9         AI & Automotive Industry  \n",
              "10                Space Technology  \n",
              "11      Photography & Social Media  \n",
              "12            Cybercrime & History  \n",
              "13        Social Media & Algorithm  \n",
              "14  Automotive Industry & Business  "
            ],
            "text/html": [
              "\n",
              "  <div id=\"df-d919ca7f-ea03-4df0-bf99-c20e7fd107c3\" class=\"colab-df-container\">\n",
              "    <div>\n",
              "<style scoped>\n",
              "    .dataframe tbody tr th:only-of-type {\n",
              "        vertical-align: middle;\n",
              "    }\n",
              "\n",
              "    .dataframe tbody tr th {\n",
              "        vertical-align: top;\n",
              "    }\n",
              "\n",
              "    .dataframe thead th {\n",
              "        text-align: right;\n",
              "    }\n",
              "</style>\n",
              "<table border=\"1\" class=\"dataframe\">\n",
              "  <thead>\n",
              "    <tr style=\"text-align: right;\">\n",
              "      <th></th>\n",
              "      <th>title</th>\n",
              "      <th>link</th>\n",
              "      <th>topic</th>\n",
              "    </tr>\n",
              "  </thead>\n",
              "  <tbody>\n",
              "    <tr>\n",
              "      <th>0</th>\n",
              "      <td>Can we really 'reset the internet' to make it ...</td>\n",
              "      <td>https://www.bbc.com/news/articles/cxe94vpx111o</td>\n",
              "      <td>Online Safety for Children</td>\n",
              "    </tr>\n",
              "    <tr>\n",
              "      <th>1</th>\n",
              "      <td>Tech firms told to hide 'toxic' content from c...</td>\n",
              "      <td>https://www.bbc.com/news/articles/czrx13jj9p3o</td>\n",
              "      <td>Online Safety for Children</td>\n",
              "    </tr>\n",
              "    <tr>\n",
              "      <th>2</th>\n",
              "      <td>E-gates back online after delays at UK airports</td>\n",
              "      <td>https://www.bbc.co.uk/news/business-68972065</td>\n",
              "      <td>Airport Technology</td>\n",
              "    </tr>\n",
              "    <tr>\n",
              "      <th>3</th>\n",
              "      <td>US revokes licences for sales of chips to Huawei</td>\n",
              "      <td>https://www.bbc.com/news/articles/cgxwpql2e82o</td>\n",
              "      <td>Technology Business</td>\n",
              "    </tr>\n",
              "    <tr>\n",
              "      <th>4</th>\n",
              "      <td>FTX says it has billions more than owed to vic...</td>\n",
              "      <td>https://www.bbc.com/news/articles/c9wz3wkrdj9o</td>\n",
              "      <td>Cryptocurrency</td>\n",
              "    </tr>\n",
              "    <tr>\n",
              "      <th>5</th>\n",
              "      <td>TikTok sues to block US law that could ban app</td>\n",
              "      <td>https://www.bbc.com/news/articles/c72pqlgqe4jo</td>\n",
              "      <td>Legal Action &amp; Social Media</td>\n",
              "    </tr>\n",
              "    <tr>\n",
              "      <th>6</th>\n",
              "      <td>Tech Life: The mammoth ivory problem</td>\n",
              "      <td>https://www.bbc.co.uk/sounds/play/w3ct5wm2</td>\n",
              "      <td>Technology &amp; Conservation</td>\n",
              "    </tr>\n",
              "    <tr>\n",
              "      <th>7</th>\n",
              "      <td>BBC Verify looks at fake AI-generated Met Gala...</td>\n",
              "      <td>https://www.bbc.co.uk/news/world-68973448</td>\n",
              "      <td>AI &amp; Fake Images</td>\n",
              "    </tr>\n",
              "    <tr>\n",
              "      <th>8</th>\n",
              "      <td>Microsoft axes four game studios including Hi-...</td>\n",
              "      <td>https://www.bbc.com/news/articles/c72p5epzj2no</td>\n",
              "      <td>Gaming Industry</td>\n",
              "    </tr>\n",
              "    <tr>\n",
              "      <th>9</th>\n",
              "      <td>UK startup gets $1bn funding for self-driving ...</td>\n",
              "      <td>https://www.bbc.com/news/articles/crgypzg4edvo</td>\n",
              "      <td>AI &amp; Automotive Industry</td>\n",
              "    </tr>\n",
              "    <tr>\n",
              "      <th>10</th>\n",
              "      <td>Boeing crewed space launch postponed for safet...</td>\n",
              "      <td>https://www.bbc.com/news/articles/cglvpd6n3d8o</td>\n",
              "      <td>Space Technology</td>\n",
              "    </tr>\n",
              "    <tr>\n",
              "      <th>11</th>\n",
              "      <td>Acclaimed photographer cracks Instagram in his...</td>\n",
              "      <td>https://www.bbc.com/news/articles/c89zeg04w8go</td>\n",
              "      <td>Photography &amp; Social Media</td>\n",
              "    </tr>\n",
              "    <tr>\n",
              "      <th>12</th>\n",
              "      <td>From teenage cyber-thug to Europe’s most wanted</td>\n",
              "      <td>https://www.bbc.com/news/articles/cyxe9g4zlgpo</td>\n",
              "      <td>Cybercrime &amp; History</td>\n",
              "    </tr>\n",
              "    <tr>\n",
              "      <th>13</th>\n",
              "      <td>Instagram courts TikTok users with algorithm r...</td>\n",
              "      <td>https://www.bbc.com/news/articles/cmm3yn4pr17o</td>\n",
              "      <td>Social Media &amp; Algorithm</td>\n",
              "    </tr>\n",
              "    <tr>\n",
              "      <th>14</th>\n",
              "      <td>Have the wheels come off for Tesla?</td>\n",
              "      <td>https://www.bbc.co.uk/news/business-68947020</td>\n",
              "      <td>Automotive Industry &amp; Business</td>\n",
              "    </tr>\n",
              "  </tbody>\n",
              "</table>\n",
              "</div>\n",
              "    <div class=\"colab-df-buttons\">\n",
              "\n",
              "  <div class=\"colab-df-container\">\n",
              "    <button class=\"colab-df-convert\" onclick=\"convertToInteractive('df-d919ca7f-ea03-4df0-bf99-c20e7fd107c3')\"\n",
              "            title=\"Convert this dataframe to an interactive table.\"\n",
              "            style=\"display:none;\">\n",
              "\n",
              "  <svg xmlns=\"http://www.w3.org/2000/svg\" height=\"24px\" viewBox=\"0 -960 960 960\">\n",
              "    <path d=\"M120-120v-720h720v720H120Zm60-500h600v-160H180v160Zm220 220h160v-160H400v160Zm0 220h160v-160H400v160ZM180-400h160v-160H180v160Zm440 0h160v-160H620v160ZM180-180h160v-160H180v160Zm440 0h160v-160H620v160Z\"/>\n",
              "  </svg>\n",
              "    </button>\n",
              "\n",
              "  <style>\n",
              "    .colab-df-container {\n",
              "      display:flex;\n",
              "      gap: 12px;\n",
              "    }\n",
              "\n",
              "    .colab-df-convert {\n",
              "      background-color: #E8F0FE;\n",
              "      border: none;\n",
              "      border-radius: 50%;\n",
              "      cursor: pointer;\n",
              "      display: none;\n",
              "      fill: #1967D2;\n",
              "      height: 32px;\n",
              "      padding: 0 0 0 0;\n",
              "      width: 32px;\n",
              "    }\n",
              "\n",
              "    .colab-df-convert:hover {\n",
              "      background-color: #E2EBFA;\n",
              "      box-shadow: 0px 1px 2px rgba(60, 64, 67, 0.3), 0px 1px 3px 1px rgba(60, 64, 67, 0.15);\n",
              "      fill: #174EA6;\n",
              "    }\n",
              "\n",
              "    .colab-df-buttons div {\n",
              "      margin-bottom: 4px;\n",
              "    }\n",
              "\n",
              "    [theme=dark] .colab-df-convert {\n",
              "      background-color: #3B4455;\n",
              "      fill: #D2E3FC;\n",
              "    }\n",
              "\n",
              "    [theme=dark] .colab-df-convert:hover {\n",
              "      background-color: #434B5C;\n",
              "      box-shadow: 0px 1px 3px 1px rgba(0, 0, 0, 0.15);\n",
              "      filter: drop-shadow(0px 1px 2px rgba(0, 0, 0, 0.3));\n",
              "      fill: #FFFFFF;\n",
              "    }\n",
              "  </style>\n",
              "\n",
              "    <script>\n",
              "      const buttonEl =\n",
              "        document.querySelector('#df-d919ca7f-ea03-4df0-bf99-c20e7fd107c3 button.colab-df-convert');\n",
              "      buttonEl.style.display =\n",
              "        google.colab.kernel.accessAllowed ? 'block' : 'none';\n",
              "\n",
              "      async function convertToInteractive(key) {\n",
              "        const element = document.querySelector('#df-d919ca7f-ea03-4df0-bf99-c20e7fd107c3');\n",
              "        const dataTable =\n",
              "          await google.colab.kernel.invokeFunction('convertToInteractive',\n",
              "                                                    [key], {});\n",
              "        if (!dataTable) return;\n",
              "\n",
              "        const docLinkHtml = 'Like what you see? Visit the ' +\n",
              "          '<a target=\"_blank\" href=https://colab.research.google.com/notebooks/data_table.ipynb>data table notebook</a>'\n",
              "          + ' to learn more about interactive tables.';\n",
              "        element.innerHTML = '';\n",
              "        dataTable['output_type'] = 'display_data';\n",
              "        await google.colab.output.renderOutput(dataTable, element);\n",
              "        const docLink = document.createElement('div');\n",
              "        docLink.innerHTML = docLinkHtml;\n",
              "        element.appendChild(docLink);\n",
              "      }\n",
              "    </script>\n",
              "  </div>\n",
              "\n",
              "\n",
              "<div id=\"df-5e7e7b7e-57ba-4431-89f0-36f46f2d469b\">\n",
              "  <button class=\"colab-df-quickchart\" onclick=\"quickchart('df-5e7e7b7e-57ba-4431-89f0-36f46f2d469b')\"\n",
              "            title=\"Suggest charts\"\n",
              "            style=\"display:none;\">\n",
              "\n",
              "<svg xmlns=\"http://www.w3.org/2000/svg\" height=\"24px\"viewBox=\"0 0 24 24\"\n",
              "     width=\"24px\">\n",
              "    <g>\n",
              "        <path d=\"M19 3H5c-1.1 0-2 .9-2 2v14c0 1.1.9 2 2 2h14c1.1 0 2-.9 2-2V5c0-1.1-.9-2-2-2zM9 17H7v-7h2v7zm4 0h-2V7h2v10zm4 0h-2v-4h2v4z\"/>\n",
              "    </g>\n",
              "</svg>\n",
              "  </button>\n",
              "\n",
              "<style>\n",
              "  .colab-df-quickchart {\n",
              "      --bg-color: #E8F0FE;\n",
              "      --fill-color: #1967D2;\n",
              "      --hover-bg-color: #E2EBFA;\n",
              "      --hover-fill-color: #174EA6;\n",
              "      --disabled-fill-color: #AAA;\n",
              "      --disabled-bg-color: #DDD;\n",
              "  }\n",
              "\n",
              "  [theme=dark] .colab-df-quickchart {\n",
              "      --bg-color: #3B4455;\n",
              "      --fill-color: #D2E3FC;\n",
              "      --hover-bg-color: #434B5C;\n",
              "      --hover-fill-color: #FFFFFF;\n",
              "      --disabled-bg-color: #3B4455;\n",
              "      --disabled-fill-color: #666;\n",
              "  }\n",
              "\n",
              "  .colab-df-quickchart {\n",
              "    background-color: var(--bg-color);\n",
              "    border: none;\n",
              "    border-radius: 50%;\n",
              "    cursor: pointer;\n",
              "    display: none;\n",
              "    fill: var(--fill-color);\n",
              "    height: 32px;\n",
              "    padding: 0;\n",
              "    width: 32px;\n",
              "  }\n",
              "\n",
              "  .colab-df-quickchart:hover {\n",
              "    background-color: var(--hover-bg-color);\n",
              "    box-shadow: 0 1px 2px rgba(60, 64, 67, 0.3), 0 1px 3px 1px rgba(60, 64, 67, 0.15);\n",
              "    fill: var(--button-hover-fill-color);\n",
              "  }\n",
              "\n",
              "  .colab-df-quickchart-complete:disabled,\n",
              "  .colab-df-quickchart-complete:disabled:hover {\n",
              "    background-color: var(--disabled-bg-color);\n",
              "    fill: var(--disabled-fill-color);\n",
              "    box-shadow: none;\n",
              "  }\n",
              "\n",
              "  .colab-df-spinner {\n",
              "    border: 2px solid var(--fill-color);\n",
              "    border-color: transparent;\n",
              "    border-bottom-color: var(--fill-color);\n",
              "    animation:\n",
              "      spin 1s steps(1) infinite;\n",
              "  }\n",
              "\n",
              "  @keyframes spin {\n",
              "    0% {\n",
              "      border-color: transparent;\n",
              "      border-bottom-color: var(--fill-color);\n",
              "      border-left-color: var(--fill-color);\n",
              "    }\n",
              "    20% {\n",
              "      border-color: transparent;\n",
              "      border-left-color: var(--fill-color);\n",
              "      border-top-color: var(--fill-color);\n",
              "    }\n",
              "    30% {\n",
              "      border-color: transparent;\n",
              "      border-left-color: var(--fill-color);\n",
              "      border-top-color: var(--fill-color);\n",
              "      border-right-color: var(--fill-color);\n",
              "    }\n",
              "    40% {\n",
              "      border-color: transparent;\n",
              "      border-right-color: var(--fill-color);\n",
              "      border-top-color: var(--fill-color);\n",
              "    }\n",
              "    60% {\n",
              "      border-color: transparent;\n",
              "      border-right-color: var(--fill-color);\n",
              "    }\n",
              "    80% {\n",
              "      border-color: transparent;\n",
              "      border-right-color: var(--fill-color);\n",
              "      border-bottom-color: var(--fill-color);\n",
              "    }\n",
              "    90% {\n",
              "      border-color: transparent;\n",
              "      border-bottom-color: var(--fill-color);\n",
              "    }\n",
              "  }\n",
              "</style>\n",
              "\n",
              "  <script>\n",
              "    async function quickchart(key) {\n",
              "      const quickchartButtonEl =\n",
              "        document.querySelector('#' + key + ' button');\n",
              "      quickchartButtonEl.disabled = true;  // To prevent multiple clicks.\n",
              "      quickchartButtonEl.classList.add('colab-df-spinner');\n",
              "      try {\n",
              "        const charts = await google.colab.kernel.invokeFunction(\n",
              "            'suggestCharts', [key], {});\n",
              "      } catch (error) {\n",
              "        console.error('Error during call to suggestCharts:', error);\n",
              "      }\n",
              "      quickchartButtonEl.classList.remove('colab-df-spinner');\n",
              "      quickchartButtonEl.classList.add('colab-df-quickchart-complete');\n",
              "    }\n",
              "    (() => {\n",
              "      let quickchartButtonEl =\n",
              "        document.querySelector('#df-5e7e7b7e-57ba-4431-89f0-36f46f2d469b button');\n",
              "      quickchartButtonEl.style.display =\n",
              "        google.colab.kernel.accessAllowed ? 'block' : 'none';\n",
              "    })();\n",
              "  </script>\n",
              "</div>\n",
              "    </div>\n",
              "  </div>\n"
            ],
            "application/vnd.google.colaboratory.intrinsic+json": {
              "type": "dataframe",
              "variable_name": "table",
              "summary": "{\n  \"name\": \"table\",\n  \"rows\": 15,\n  \"fields\": [\n    {\n      \"column\": \"title\",\n      \"properties\": {\n        \"dtype\": \"string\",\n        \"num_unique_values\": 15,\n        \"samples\": [\n          \"UK startup gets $1bn funding for self-driving car tech\",\n          \"Acclaimed photographer cracks Instagram in his 80s\",\n          \"Can we really 'reset the internet' to make it safer for children?\"\n        ],\n        \"semantic_type\": \"\",\n        \"description\": \"\"\n      }\n    },\n    {\n      \"column\": \"link\",\n      \"properties\": {\n        \"dtype\": \"string\",\n        \"num_unique_values\": 15,\n        \"samples\": [\n          \"https://www.bbc.com/news/articles/crgypzg4edvo\",\n          \"https://www.bbc.com/news/articles/c89zeg04w8go\",\n          \"https://www.bbc.com/news/articles/cxe94vpx111o\"\n        ],\n        \"semantic_type\": \"\",\n        \"description\": \"\"\n      }\n    },\n    {\n      \"column\": \"topic\",\n      \"properties\": {\n        \"dtype\": \"string\",\n        \"num_unique_values\": 14,\n        \"samples\": [\n          \"Space Technology\",\n          \"Cybercrime & History\",\n          \"Online Safety for Children\"\n        ],\n        \"semantic_type\": \"\",\n        \"description\": \"\"\n      }\n    }\n  ]\n}"
            }
          },
          "metadata": {},
          "execution_count": 87
        }
      ]
    },
    {
      "cell_type": "markdown",
      "source": [
        "For this tutorial, the 8 (9th) new is selected"
      ],
      "metadata": {
        "id": "AzRrs2LeY7N0"
      }
    },
    {
      "cell_type": "code",
      "source": [
        "selectedNew = data['articles'][8]['link']"
      ],
      "metadata": {
        "id": "UpzAZJ01rPFX"
      },
      "execution_count": null,
      "outputs": []
    },
    {
      "cell_type": "code",
      "source": [
        "selectedNewTopic=data['articles'][8]['topic']"
      ],
      "metadata": {
        "id": "75MIXcGi7GbJ"
      },
      "execution_count": null,
      "outputs": []
    },
    {
      "cell_type": "code",
      "source": [
        "Topic='The topic is ' + selectedNewTopic"
      ],
      "metadata": {
        "id": "nnsyC_TU7TKf"
      },
      "execution_count": null,
      "outputs": []
    },
    {
      "cell_type": "code",
      "source": [
        "selectedNew"
      ],
      "metadata": {
        "colab": {
          "base_uri": "https://localhost:8080/",
          "height": 35
        },
        "id": "tk7rjbAkr5zU",
        "outputId": "33407b8f-8cbf-47f1-b875-acdcd6d48daa"
      },
      "execution_count": null,
      "outputs": [
        {
          "output_type": "execute_result",
          "data": {
            "text/plain": [
              "'https://www.bbc.com/news/articles/c72p5epzj2no'"
            ],
            "application/vnd.google.colaboratory.intrinsic+json": {
              "type": "string"
            }
          },
          "metadata": {},
          "execution_count": 91
        }
      ]
    },
    {
      "cell_type": "code",
      "source": [
        "response = requests.get(selectedNew)\n",
        "soup = BeautifulSoup(response.content, 'html.parser')\n",
        "\n",
        "# Find the script that contains the JSON data\n",
        "script = soup.find('script', {'id': '__NEXT_DATA__'})\n",
        "\n",
        "# Loads the contents of the script as a JSON dictionary\n",
        "dataNews = json.loads(script.string)"
      ],
      "metadata": {
        "id": "HvmWVMnXsMeW"
      },
      "execution_count": null,
      "outputs": []
    },
    {
      "cell_type": "markdown",
      "source": [
        "The author's name is extracted"
      ],
      "metadata": {
        "id": "STWB3kmaZWvv"
      }
    },
    {
      "cell_type": "code",
      "source": [
        "contributor_value = dataNews['props']['pageProps']['metadata']['contributor']\n",
        "print(\"The author is \", contributor_value)\n",
        "author=\"The author is \"+ contributor_value"
      ],
      "metadata": {
        "colab": {
          "base_uri": "https://localhost:8080/"
        },
        "id": "X5tCbpgC6O0Z",
        "outputId": "efa4f1bd-be11-4ebc-a9c9-b18ca768959f"
      },
      "execution_count": null,
      "outputs": [
        {
          "output_type": "stream",
          "name": "stdout",
          "text": [
            "The author is  Tom Gerken\n"
          ]
        }
      ]
    },
    {
      "cell_type": "markdown",
      "source": [
        "Analyze JSON structure"
      ],
      "metadata": {
        "id": "i4NTmoXt6jtL"
      }
    },
    {
      "cell_type": "code",
      "source": [
        "def print_keys(data, prefix=''):\n",
        "    for key in data.keys():\n",
        "        print(prefix + key)\n",
        "        if isinstance(data[key], dict):\n",
        "            print_keys(data[key], prefix + key + '.')\n",
        "\n",
        "\n",
        "print_keys(dataNews)\n"
      ],
      "metadata": {
        "colab": {
          "base_uri": "https://localhost:8080/"
        },
        "id": "o2UE3Qo81heI",
        "outputId": "9445dc5c-c963-45a0-884b-d2a9221da9cd"
      },
      "execution_count": null,
      "outputs": [
        {
          "output_type": "stream",
          "name": "stdout",
          "text": [
            "props\n",
            "props.pageProps\n",
            "props.pageProps.page\n",
            "props.pageProps.page.@\"news\",\"articles\",\"c72p5epzj2no\",\n",
            "props.pageProps.page.@\"news\",\"articles\",\"c72p5epzj2no\",.id\n",
            "props.pageProps.page.@\"news\",\"articles\",\"c72p5epzj2no\",.contents\n",
            "props.pageProps.page.@\"news\",\"articles\",\"c72p5epzj2no\",.topics\n",
            "props.pageProps.page.@\"news\",\"articles\",\"c72p5epzj2no\",.onwardJourney\n",
            "props.pageProps.page.@\"news\",\"articles\",\"c72p5epzj2no\",.relatedUrls\n",
            "props.pageProps.page.@\"news\",\"articles\",\"c72p5epzj2no\",.collections\n",
            "props.pageProps.page.@\"news\",\"articles\",\"c72p5epzj2no\",.section\n",
            "props.pageProps.page.@\"news\",\"articles\",\"c72p5epzj2no\",.pillar\n",
            "props.pageProps.page.@\"news\",\"articles\",\"c72p5epzj2no\",.collection\n",
            "props.pageProps.page.@\"news\",\"articles\",\"c72p5epzj2no\",.destination\n",
            "props.pageProps.country\n",
            "props.pageProps.isUkHeader\n",
            "props.pageProps.featureFlags\n",
            "props.pageProps.featureFlags.authentication\n",
            "props.pageProps.featureFlags.bookmarking\n",
            "props.pageProps.featureFlags.client-side-routing\n",
            "props.pageProps.featureFlags.client-side-uk-redirect\n",
            "props.pageProps.featureFlags.comments\n",
            "props.pageProps.featureFlags.legacy-api\n",
            "props.pageProps.featureFlags.live-articles-in-same-tab\n",
            "props.pageProps.featureFlags.nevada-ad\n",
            "props.pageProps.featureFlags.new-navigation\n",
            "props.pageProps.featureFlags.optimizely-web\n",
            "props.pageProps.featureFlags.playlists\n",
            "props.pageProps.featureFlags.seo-allow-indexing\n",
            "props.pageProps.featureFlags.virginia-ad\n",
            "props.pageProps.featureFlags.webvitals\n",
            "props.pageProps.featureFlags.wntv\n",
            "props.pageProps.featureFlags.wntv-preroll-ad\n",
            "props.pageProps.featureFlags.zephr\n",
            "props.pageProps.authInfo\n",
            "props.pageProps.authInfo.signInUrl\n",
            "props.pageProps.authInfo.signOutUrl\n",
            "props.pageProps.authInfo.registerUrl\n",
            "props.pageProps.authInfo.statusUrl\n",
            "props.pageProps.authInfo.idSignedInCookieName\n",
            "props.pageProps.authInfo.accessTokenRefreshUrl\n",
            "props.pageProps.authInfo.accessTokenExpiredAt\n",
            "props.pageProps.mainNavigation\n",
            "props.pageProps.hamburgerNavigation\n",
            "props.pageProps.footer\n",
            "props.pageProps.footer.contentLinks\n",
            "props.pageProps.footer.languages\n",
            "props.pageProps.footer.legalLinks\n",
            "props.pageProps.footer.languageButtonText\n",
            "props.pageProps.footer.languageHeadline\n",
            "props.pageProps.footer.languageSubHeadline\n",
            "props.pageProps.footer.legalTextContent\n",
            "props.pageProps.footer.legalText\n",
            "props.pageProps.worldNewsTvPath\n",
            "props.pageProps.flagPoles\n",
            "props.pageProps.flagPoles.ops\n",
            "props.pageProps.flagPoles.ops.Metadata\n",
            "props.pageProps.flagPoles.ops.Metadata.FlagpoleBucketPrefix\n",
            "props.pageProps.flagPoles.ops.Metadata.FlagpoleDate\n",
            "props.pageProps.flagPoles.ops.Metadata.FlagpoleFileID\n",
            "props.pageProps.flagPoles.ops.Metadata.FlagpoleIdentity\n",
            "props.pageProps.flagPoles.ops.Metadata.FlagpoleSystem\n",
            "props.pageProps.flagPoles.ops.Metadata.Guid\n",
            "props.pageProps.flagPoles.ops.Metadata.urn\n",
            "props.pageProps.flagPoles.ops.Urn\n",
            "props.pageProps.flagPoles.ops.adverts\n",
            "props.pageProps.flagPoles.ops.analytics\n",
            "props.pageProps.flagPoles.ops.wwhp_feeds\n",
            "props.pageProps.flagPoles.ops.wwhp_obituary\n",
            "props.pageProps.flagPoles.ops.xproxy\n",
            "props.pageProps.flagPoles.ops.zephr\n",
            "props.pageProps.flagPoles.ops.zephrx\n",
            "props.pageProps.flagPoles.ngas\n",
            "props.pageProps.flagPoles.ngas.Metadata\n",
            "props.pageProps.flagPoles.ngas.Metadata.FlagpoleBucketPrefix\n",
            "props.pageProps.flagPoles.ngas.Metadata.FlagpoleDate\n",
            "props.pageProps.flagPoles.ngas.Metadata.FlagpoleFileID\n",
            "props.pageProps.flagPoles.ngas.Metadata.FlagpoleIdentity\n",
            "props.pageProps.flagPoles.ngas.Metadata.FlagpoleSystem\n",
            "props.pageProps.flagPoles.ngas.Metadata.Guid\n",
            "props.pageProps.flagPoles.ngas.Metadata.urn\n",
            "props.pageProps.flagPoles.ngas.Urn\n",
            "props.pageProps.flagPoles.ngas.adsense\n",
            "props.pageProps.flagPoles.ngas.aps\n",
            "props.pageProps.flagPoles.ngas.banner\n",
            "props.pageProps.flagPoles.ngas.beta\n",
            "props.pageProps.flagPoles.ngas.cmp\n",
            "props.pageProps.flagPoles.ngas.comscoremmx\n",
            "props.pageProps.flagPoles.ngas.comscoremmxeea\n",
            "props.pageProps.flagPoles.ngas.content_rec\n",
            "props.pageProps.flagPoles.ngas.covatic\n",
            "props.pageProps.flagPoles.ngas.covatic_admeta\n",
            "props.pageProps.flagPoles.ngas.doubleverify\n",
            "props.pageProps.flagPoles.ngas.effectivemeasure\n",
            "props.pageProps.flagPoles.ngas.effectivemeasureeea\n",
            "props.pageProps.flagPoles.ngas.fedid\n",
            "props.pageProps.flagPoles.ngas.fedid_all\n",
            "props.pageProps.flagPoles.ngas.fedid_google\n",
            "props.pageProps.flagPoles.ngas.fedid_permutive\n",
            "props.pageProps.flagPoles.ngas.fedid_piano\n",
            "props.pageProps.flagPoles.ngas.fpd\n",
            "props.pageProps.flagPoles.ngas.fundingchoices_cmp\n",
            "props.pageProps.flagPoles.ngas.gpp\n",
            "props.pageProps.flagPoles.ngas.grapeshot\n",
            "props.pageProps.flagPoles.ngas.ias_publisher\n",
            "props.pageProps.flagPoles.ngas.iris\n",
            "props.pageProps.flagPoles.ngas.name\n",
            "props.pageProps.flagPoles.ngas.native_size\n",
            "props.pageProps.flagPoles.ngas.newadunit\n",
            "props.pageProps.flagPoles.ngas.newkeys\n",
            "props.pageProps.flagPoles.ngas.nielsen\n",
            "props.pageProps.flagPoles.ngas.ozone\n",
            "props.pageProps.flagPoles.ngas.permutive\n",
            "props.pageProps.flagPoles.ngas.permutive_cohort\n",
            "props.pageProps.flagPoles.ngas.piano\n",
            "props.pageProps.flagPoles.ngas.platinum\n",
            "props.pageProps.flagPoles.ngas.sherlock\n",
            "props.pageProps.flagPoles.ngas.signin\n",
            "props.pageProps.flagPoles.ngas.signinnews\n",
            "props.pageProps.flagPoles.ngas.speedcurve\n",
            "props.pageProps.flagPoles.ngas.spo\n",
            "props.pageProps.flagPoles.ngas.sticky_leader\n",
            "props.pageProps.flagPoles.ngas.survey\n",
            "props.pageProps.flagPoles.ngas.surveyx\n",
            "props.pageProps.flagPoles.ngas.thirdpartyeea\n",
            "props.pageProps.flagPoles.ngas.tmt_media_filter\n",
            "props.pageProps.flagPoles.ngas.version\n",
            "props.pageProps.isMobileWebview\n",
            "props.pageProps.os\n",
            "props.pageProps.os.name\n",
            "props.pageProps.os.version\n",
            "props.pageProps.browser\n",
            "props.pageProps.browser.name\n",
            "props.pageProps.browser.version\n",
            "props.pageProps.metadata\n",
            "props.pageProps.metadata.contributor\n",
            "props.pageProps.metadata.description\n",
            "props.pageProps.metadata.firstPublished\n",
            "props.pageProps.metadata.lastPublished\n",
            "props.pageProps.metadata.lastUpdated\n",
            "props.pageProps.metadata.indexImage\n",
            "props.pageProps.metadata.indexImage.blocks\n",
            "props.pageProps.metadata.indexImage.originalSrc\n",
            "props.pageProps.metadata.indexImage.isEditorialImage\n",
            "props.pageProps.metadata.indexImage.height\n",
            "props.pageProps.metadata.indexImage.width\n",
            "props.pageProps.metadata.indexImage.alt\n",
            "props.pageProps.metadata.seoHeadline\n",
            "props.pageProps.metadata.promoHeadline\n",
            "props.pageProps.metadata.options\n",
            "props.pageProps.metadata.options.includeComments\n",
            "props.pageProps.metadata.options.allowAdvertising\n",
            "props.pageProps.pageKey\n",
            "props.pageProps.type\n",
            "props.pageProps.subtype\n",
            "props.pageProps.slug\n",
            "props.pageProps.analytics\n",
            "props.pageProps.analytics.producer\n",
            "props.pageProps.analytics.language\n",
            "props.pageProps.analytics.publicationDate\n",
            "props.pageProps.analytics.pubUpdateDate\n",
            "props.pageProps.analytics.contentId\n",
            "props.pageProps.analytics.section\n",
            "props.pageProps.analytics.name\n",
            "props.__N_SSP\n",
            "page\n",
            "query\n",
            "query.slug\n",
            "buildId\n",
            "assetPrefix\n",
            "isFallback\n",
            "dynamicIds\n",
            "gssp\n",
            "customServer\n",
            "appGip\n",
            "scriptLoader\n"
          ]
        }
      ]
    },
    {
      "cell_type": "code",
      "source": [
        "slug_id=dataNews['query']['slug'][2]"
      ],
      "metadata": {
        "id": "8Ep0Ab862CCj"
      },
      "execution_count": null,
      "outputs": []
    },
    {
      "cell_type": "code",
      "source": [
        "# Extract the specific news\n",
        "news_content = dataNews['props']['pageProps']['page'][f'@\"news\",\"articles\",\"{dataNews[\"query\"][\"slug\"][2]}\",']['contents']\n",
        "\n",
        "\n",
        "# Extract the headline in a safe way\n",
        "headline = None\n",
        "for block in news_content:\n",
        "    if block['type'] == 'headline':\n",
        "        try:\n",
        "            headline = block['model']['blocks'][0]['model']['blocks'][0]['model']['text']\n",
        "        except KeyError:\n",
        "            continue  # Si no se encuentra la estructura esperada, simplemente continua\n",
        "\n",
        "# Extract all the text content securely\n",
        "news_text = []\n",
        "for block in news_content:\n",
        "    if block['type'] == 'text':\n",
        "        for text_block in block['model']['blocks']:\n",
        "            try:\n",
        "                paragraph = text_block['model']['text']\n",
        "                news_text.append(paragraph)\n",
        "            except KeyError:\n",
        "                continue\n",
        "\n",
        "\n",
        "BBCnews =str(author + \"\\n\" + Topic + \"\\n\")\n",
        "\n",
        "print(\"Headline:\", headline)\n",
        "print(\"Content:\")\n",
        "for paragraph in news_text:\n",
        "    BBCnews += paragraph + \"\\n\"\n",
        "\n",
        "news_text_string = BBCnews.strip()\n",
        "print(BBCnews)"
      ],
      "metadata": {
        "colab": {
          "base_uri": "https://localhost:8080/"
        },
        "id": "Lgyjw-QkxmYZ",
        "outputId": "94a63809-8e80-4a70-df9d-1cd2b3393459"
      },
      "execution_count": null,
      "outputs": [
        {
          "output_type": "stream",
          "name": "stdout",
          "text": [
            "Headline: Microsoft axes four game studios including Hi-Fi Rush developer\n",
            "Content:\n",
            "The author is Tom Gerken\n",
            "The topic is Gaming Industry\n",
            "Microsoft is shutting four studios, including Tango Gameworks, the developers of Bafta award-winning Hi-Fi Rush.\n",
            "The Tokyo studio is being closed alongside Texas-based Arkane Austin and Canadian developer Alpha Dog Studios.\n",
            "Wisconsin-based Roundhouse Games will be absorbed into Elder Scrolls Online developer ZeniMax Online Studios.\n",
            "Microsoft has not said how many jobs will be cut as a result of the closures, which are all being made at subsidiary Bethesda - which the tech giant bought for $7.5bn (then £5.85bn) in 2020.\n",
            "\"I just want to say that I love all the people at Arkane Austin so much,\" said studio head Harvey Smith in a post on X. \n",
            "\"Great times, hard times, we went through so much, together.\"\n",
            "Head of Xbox Games Studios Matt Booty announced the news in an email to staff, seen by the BBC.\n",
            "He said the move meant it was ending development on Arkane Austin game Redfall,  with \"some members of the team\" joining other studios.\n",
            "The company plans to “provide make-good offers” to players who had pre-ordered downloadable content for the game that will now never see the light of day.\n",
            "“These changes are grounded in prioritising high-impact titles and further investing in Bethesda’s portfolio of blockbuster games and beloved worlds which you have nurtured over many decades,” he wrote.\n",
            "He said there would also be  \"a small number of roles\" cut across Bethesda's publishing and corporate teams.\n",
            "Hi-Fi Rush was much admired by critics when it was released in 2023 - the game went on to win several end-of-year awards for its animation and sound design.\n",
            "But alarm bells began ringing at Tango Gameworks after it was among the four games Microsoft released on rival consoles this year.\n",
            "Its founder, Shinji Mikami, had already left to start his own rival studio. \n",
            "The closure of Tango Gameworks means an end to the studio responsible for several popular games, including The Evil Within and Ghostwire: Tokyo.\n",
            "In a short post on X, formerly Twitter, the developer thanked its fans.\n",
            "\"Thank you to everyone who explored the worlds we created,\" it said.\n",
            "The move has been met with criticism from gamers as well as those within the company, with Dinga Bakaba, the studio head of Arkane Austin sister studio Arkane Lyon, calling the cuts \"absolutely terrible\".\n",
            "\"Permission to be human: to any executive reading this, friendly reminder that video games are an entertainment/cultural industry, and your business as a corporation is to take care of your artists/entertainers and help them create value for you,\" he wrote on X.\n",
            "\"For now, great teams are sunsetting before our eyes again, and it's a gut stab.\"\n",
            "It is the latest string of cuts to come in an industry that has already seen tens of thousands of jobs lost, with Bethesda itself already facing cuts announced in January 2024.\n",
            "At that point, Microsoft had around 22,000 people working in its gaming division.\n",
            "\n"
          ]
        }
      ]
    },
    {
      "cell_type": "markdown",
      "source": [
        "### Prompt2: Generate an article in JSON format for seamless pasting into a Word template"
      ],
      "metadata": {
        "id": "vbKvjxLlsMII"
      }
    },
    {
      "cell_type": "code",
      "source": [
        "user_prompt2 = f\"Take on the role of journalism expert. I send you a new between double quotation marks \\\"{BBCnews}\\\". Extract the most relevant information to generate to cvJSON format example\""
      ],
      "metadata": {
        "id": "VEBY3qssbraN"
      },
      "execution_count": null,
      "outputs": []
    },
    {
      "cell_type": "code",
      "source": [
        "content,finish_reason= get_completion(user_prompt2,systemPrompt2)"
      ],
      "metadata": {
        "id": "tuLWJpcrq8jl"
      },
      "execution_count": null,
      "outputs": []
    },
    {
      "cell_type": "code",
      "source": [
        "content"
      ],
      "metadata": {
        "colab": {
          "base_uri": "https://localhost:8080/",
          "height": 122
        },
        "id": "AILwEPjozkAV",
        "outputId": "8e8f7941-9dc5-4121-c550-7cc7c26f2b44"
      },
      "execution_count": null,
      "outputs": [
        {
          "output_type": "execute_result",
          "data": {
            "text/plain": [
              "'{\\n    \"title\": \"Microsoft Shuts Four Studios Including Tango Gameworks in Gaming Industry Restructuring\",\\n    \"author\": \"Tom Gerken\",\\n    \"affiliation\": \"BBC News\",\\n    \"topic\": \"gaming industry\",\\n    \"content\": {\\n        \"summary\": \"Microsoft is closing four studios, including Tango Gameworks known for developing the award-winning game Hi-Fi Rush. The closures will affect studios in Tokyo, Texas, Canada, and Wisconsin, with no specific details on job cuts. Head of Xbox Games Studios Matt Booty confirmed the closure and the end of development for Arkane Austin game Redfall. The company plans to provide compensation to players who pre-ordered content for the game. The move has been met with criticism from gamers and industry figures, particularly after the recent cuts at Bethesda, where Microsoft has around 22,000 people working in its gaming division.\",\\n        \"why_importance\": \"The closures and staff cuts in Microsoft\\'s gaming subsidiaries highlight ongoing challenges in the gaming industry, with thousands of jobs lost and popular studios facing shutdowns. The industry\\'s focus on high-impact titles and business priorities has raised concerns about the treatment of artists and entertainers and the impact on beloved game worlds and entertainment culture. The restructuring comes amid the acquisition of Bethesda and signifies a shift in investment towards blockbuster games.\",\\n        \"next_steps\": \"The closure of Tango Gameworks marks the end of the studio responsible for popular games such as The Evil Within and Ghostwire: Tokyo. It reflects a wider trend of popular studios facing cuts and closures. Microsoft\\'s emphasis on high-impact titles and the impact on staff and game development raises questions about the future of smaller studios and the treatment of creatives in the gaming industry.\"\\n    }\\n}'"
            ],
            "application/vnd.google.colaboratory.intrinsic+json": {
              "type": "string"
            }
          },
          "metadata": {},
          "execution_count": 109
        }
      ]
    },
    {
      "cell_type": "code",
      "source": [
        "article_press= json.loads(content)\n",
        "print(article_press)"
      ],
      "metadata": {
        "colab": {
          "base_uri": "https://localhost:8080/"
        },
        "id": "dAsZj8dqz404",
        "outputId": "405d8918-6a8c-498b-a128-a3b1517d97c7"
      },
      "execution_count": null,
      "outputs": [
        {
          "output_type": "stream",
          "name": "stdout",
          "text": [
            "{'title': 'Microsoft Shuts Four Studios Including Tango Gameworks in Gaming Industry Restructuring', 'author': 'Tom Gerken', 'affiliation': 'BBC News', 'topic': 'gaming industry', 'content': {'summary': 'Microsoft is closing four studios, including Tango Gameworks known for developing the award-winning game Hi-Fi Rush. The closures will affect studios in Tokyo, Texas, Canada, and Wisconsin, with no specific details on job cuts. Head of Xbox Games Studios Matt Booty confirmed the closure and the end of development for Arkane Austin game Redfall. The company plans to provide compensation to players who pre-ordered content for the game. The move has been met with criticism from gamers and industry figures, particularly after the recent cuts at Bethesda, where Microsoft has around 22,000 people working in its gaming division.', 'why_importance': \"The closures and staff cuts in Microsoft's gaming subsidiaries highlight ongoing challenges in the gaming industry, with thousands of jobs lost and popular studios facing shutdowns. The industry's focus on high-impact titles and business priorities has raised concerns about the treatment of artists and entertainers and the impact on beloved game worlds and entertainment culture. The restructuring comes amid the acquisition of Bethesda and signifies a shift in investment towards blockbuster games.\", 'next_steps': \"The closure of Tango Gameworks marks the end of the studio responsible for popular games such as The Evil Within and Ghostwire: Tokyo. It reflects a wider trend of popular studios facing cuts and closures. Microsoft's emphasis on high-impact titles and the impact on staff and game development raises questions about the future of smaller studios and the treatment of creatives in the gaming industry.\"}}\n"
          ]
        }
      ]
    },
    {
      "cell_type": "markdown",
      "source": [
        "##3) Generate the Word document from the template"
      ],
      "metadata": {
        "id": "3vuW1RMmrg3Z"
      }
    },
    {
      "cell_type": "markdown",
      "source": [
        "Donwload the template. In this we can see the Jinja notations"
      ],
      "metadata": {
        "id": "amRDhHMTAoXP"
      }
    },
    {
      "cell_type": "code",
      "source": [
        "!pip install gdown\n"
      ],
      "metadata": {
        "colab": {
          "base_uri": "https://localhost:8080/"
        },
        "id": "sMekP2w2D8D-",
        "outputId": "6baf1606-03ae-42bf-97b2-18309403732e"
      },
      "execution_count": null,
      "outputs": [
        {
          "output_type": "stream",
          "name": "stdout",
          "text": [
            "Requirement already satisfied: gdown in /usr/local/lib/python3.10/dist-packages (5.1.0)\n",
            "Requirement already satisfied: beautifulsoup4 in /usr/local/lib/python3.10/dist-packages (from gdown) (4.12.3)\n",
            "Requirement already satisfied: filelock in /usr/local/lib/python3.10/dist-packages (from gdown) (3.14.0)\n",
            "Requirement already satisfied: requests[socks] in /usr/local/lib/python3.10/dist-packages (from gdown) (2.31.0)\n",
            "Requirement already satisfied: tqdm in /usr/local/lib/python3.10/dist-packages (from gdown) (4.66.4)\n",
            "Requirement already satisfied: soupsieve>1.2 in /usr/local/lib/python3.10/dist-packages (from beautifulsoup4->gdown) (2.5)\n",
            "Requirement already satisfied: charset-normalizer<4,>=2 in /usr/local/lib/python3.10/dist-packages (from requests[socks]->gdown) (3.3.2)\n",
            "Requirement already satisfied: idna<4,>=2.5 in /usr/local/lib/python3.10/dist-packages (from requests[socks]->gdown) (3.7)\n",
            "Requirement already satisfied: urllib3<3,>=1.21.1 in /usr/local/lib/python3.10/dist-packages (from requests[socks]->gdown) (2.0.7)\n",
            "Requirement already satisfied: certifi>=2017.4.17 in /usr/local/lib/python3.10/dist-packages (from requests[socks]->gdown) (2024.2.2)\n",
            "Requirement already satisfied: PySocks!=1.5.7,>=1.5.6 in /usr/local/lib/python3.10/dist-packages (from requests[socks]->gdown) (1.7.1)\n"
          ]
        }
      ]
    },
    {
      "cell_type": "code",
      "source": [
        "# file ID of Google Drive\n",
        "file_id = '1np54DP-9brZD9kYBSGnavXlFGpDw2pCb'\n",
        "\n",
        "!gdown \"https://drive.google.com/uc?id={file_id}\" -O \"template.docx\"\n",
        "\n"
      ],
      "metadata": {
        "colab": {
          "base_uri": "https://localhost:8080/"
        },
        "id": "PMihzRD6ETYD",
        "outputId": "75109491-cd4a-4c5c-fd3b-100468b686ef"
      },
      "execution_count": null,
      "outputs": [
        {
          "output_type": "stream",
          "name": "stdout",
          "text": [
            "Downloading...\n",
            "From: https://drive.google.com/uc?id=1np54DP-9brZD9kYBSGnavXlFGpDw2pCb\n",
            "To: /content/template.docx\n",
            "\r  0% 0.00/15.2k [00:00<?, ?B/s]\r100% 15.2k/15.2k [00:00<00:00, 28.2MB/s]\n"
          ]
        }
      ]
    },
    {
      "cell_type": "markdown",
      "source": [
        "**Jinja Template Preview**"
      ],
      "metadata": {
        "id": "Jh8N3_Vra2Uk"
      }
    },
    {
      "cell_type": "markdown",
      "source": [
        "![image.png](data:image/png;base64,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)"
      ],
      "metadata": {
        "id": "5Zk2gd0dabfv"
      }
    },
    {
      "cell_type": "code",
      "source": [
        "pip install docxtpl"
      ],
      "metadata": {
        "colab": {
          "base_uri": "https://localhost:8080/"
        },
        "id": "gwjGG85Krq-9",
        "outputId": "de77f1ba-eac2-496d-cbf5-cb91d3f0d891"
      },
      "execution_count": null,
      "outputs": [
        {
          "output_type": "stream",
          "name": "stdout",
          "text": [
            "Collecting docxtpl\n",
            "  Downloading docxtpl-0.17.0-py2.py3-none-any.whl (28 kB)\n",
            "Requirement already satisfied: six in /usr/local/lib/python3.10/dist-packages (from docxtpl) (1.16.0)\n",
            "Collecting python-docx>=1.1.1 (from docxtpl)\n",
            "  Downloading python_docx-1.1.2-py3-none-any.whl (244 kB)\n",
            "\u001b[?25l     \u001b[90m━━━━━━━━━━━━━━━━━━━━━━━━━━━━━━━━━━━━━━━━\u001b[0m \u001b[32m0.0/244.3 kB\u001b[0m \u001b[31m?\u001b[0m eta \u001b[36m-:--:--\u001b[0m\r\u001b[2K     \u001b[90m━━━━━━━━━━━━━━━━━━━━━━━━━━━━━━━━━━━━━━━━\u001b[0m \u001b[32m244.3/244.3 kB\u001b[0m \u001b[31m9.3 MB/s\u001b[0m eta \u001b[36m0:00:00\u001b[0m\n",
            "\u001b[?25hCollecting docxcompose (from docxtpl)\n",
            "  Downloading docxcompose-1.4.0.tar.gz (20 kB)\n",
            "  Preparing metadata (setup.py) ... \u001b[?25l\u001b[?25hdone\n",
            "Requirement already satisfied: jinja2 in /usr/local/lib/python3.10/dist-packages (from docxtpl) (3.1.3)\n",
            "Requirement already satisfied: lxml in /usr/local/lib/python3.10/dist-packages (from docxtpl) (4.9.4)\n",
            "Requirement already satisfied: typing-extensions>=4.9.0 in /usr/local/lib/python3.10/dist-packages (from python-docx>=1.1.1->docxtpl) (4.11.0)\n",
            "Requirement already satisfied: setuptools in /usr/local/lib/python3.10/dist-packages (from docxcompose->docxtpl) (67.7.2)\n",
            "Requirement already satisfied: babel in /usr/local/lib/python3.10/dist-packages (from docxcompose->docxtpl) (2.14.0)\n",
            "Requirement already satisfied: MarkupSafe>=2.0 in /usr/local/lib/python3.10/dist-packages (from jinja2->docxtpl) (2.1.5)\n",
            "Building wheels for collected packages: docxcompose\n",
            "  Building wheel for docxcompose (setup.py) ... \u001b[?25l\u001b[?25hdone\n",
            "  Created wheel for docxcompose: filename=docxcompose-1.4.0-py3-none-any.whl size=23267 sha256=a1d9fab8deb200656e0a198b24c848f714e66b6f7db004e58e980d42293e3fc6\n",
            "  Stored in directory: /root/.cache/pip/wheels/28/0e/78/2dc28f2d5b192d1a3ec237ec60e9d65654a078dfe07ce3a714\n",
            "Successfully built docxcompose\n",
            "Installing collected packages: python-docx, docxcompose, docxtpl\n",
            "Successfully installed docxcompose-1.4.0 docxtpl-0.17.0 python-docx-1.1.2\n"
          ]
        }
      ]
    },
    {
      "cell_type": "code",
      "source": [
        "from docxtpl import DocxTemplate"
      ],
      "metadata": {
        "id": "ewNzA73urmgX"
      },
      "execution_count": null,
      "outputs": []
    },
    {
      "cell_type": "markdown",
      "source": [
        "Copy the JSON generated by ChatGPT into the Word template."
      ],
      "metadata": {
        "id": "u2nPFpYXbGsH"
      }
    },
    {
      "cell_type": "code",
      "source": [
        "doc = DocxTemplate(\"template.docx\")\n",
        "\n",
        "doc.render(article_press)\n",
        "doc.save(\"article_press.docx\")"
      ],
      "metadata": {
        "id": "9W8rut2trjw0"
      },
      "execution_count": null,
      "outputs": []
    },
    {
      "cell_type": "markdown",
      "source": [
        "![image.png](data:image/png;base64,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)"
      ],
      "metadata": {
        "id": "je0Y2BZ7bUoB"
      }
    },
    {
      "cell_type": "markdown",
      "source": [
        "Thanks for making it to the end, and happy coding! 🎉💻"
      ],
      "metadata": {
        "id": "7dg_v-WzbiXZ"
      }
    }
  ]
}
