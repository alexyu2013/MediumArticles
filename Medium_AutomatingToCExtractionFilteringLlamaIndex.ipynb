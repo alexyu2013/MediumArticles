{
  "nbformat": 4,
  "nbformat_minor": 0,
  "metadata": {
    "colab": {
      "provenance": [],
      "toc_visible": true
    },
    "kernelspec": {
      "name": "python3",
      "display_name": "Python 3"
    },
    "language_info": {
      "name": "python"
    }
  },
  "cells": [
    {
      "cell_type": "markdown",
      "source": [
        "#"
      ],
      "metadata": {
        "id": "cu9doki3MkTL"
      }
    },
    {
      "cell_type": "markdown",
      "source": [
        "## 1) Setup"
      ],
      "metadata": {
        "id": "5B4QohJN6fPp"
      }
    },
    {
      "cell_type": "code",
      "execution_count": 1,
      "metadata": {
        "colab": {
          "base_uri": "https://localhost:8080/"
        },
        "id": "tJaaU0b-5Z3Q",
        "outputId": "d9c804df-c3bc-4506-ff0e-abda5e72bfb0"
      },
      "outputs": [
        {
          "output_type": "stream",
          "name": "stdout",
          "text": [
            "Collecting llama-index\n",
            "  Downloading llama_index-0.11.0-py3-none-any.whl.metadata (11 kB)\n",
            "Collecting llama-index-agent-openai<0.4.0,>=0.3.0 (from llama-index)\n",
            "  Downloading llama_index_agent_openai-0.3.0-py3-none-any.whl.metadata (728 bytes)\n",
            "Collecting llama-index-cli<0.4.0,>=0.3.0 (from llama-index)\n",
            "  Downloading llama_index_cli-0.3.0-py3-none-any.whl.metadata (1.5 kB)\n",
            "Collecting llama-index-core==0.11.0.post1 (from llama-index)\n",
            "  Downloading llama_index_core-0.11.0.post1-py3-none-any.whl.metadata (2.4 kB)\n",
            "Collecting llama-index-embeddings-openai<0.3.0,>=0.2.0 (from llama-index)\n",
            "  Downloading llama_index_embeddings_openai-0.2.3-py3-none-any.whl.metadata (635 bytes)\n",
            "Collecting llama-index-indices-managed-llama-cloud>=0.3.0 (from llama-index)\n",
            "  Downloading llama_index_indices_managed_llama_cloud-0.3.0-py3-none-any.whl.metadata (3.8 kB)\n",
            "Collecting llama-index-legacy<0.10.0,>=0.9.48 (from llama-index)\n",
            "  Downloading llama_index_legacy-0.9.48.post3-py3-none-any.whl.metadata (8.5 kB)\n",
            "Collecting llama-index-llms-openai<0.3.0,>=0.2.0 (from llama-index)\n",
            "  Downloading llama_index_llms_openai-0.2.0-py3-none-any.whl.metadata (648 bytes)\n",
            "Collecting llama-index-multi-modal-llms-openai<0.3.0,>=0.2.0 (from llama-index)\n",
            "  Downloading llama_index_multi_modal_llms_openai-0.2.0-py3-none-any.whl.metadata (728 bytes)\n",
            "Collecting llama-index-program-openai<0.3.0,>=0.2.0 (from llama-index)\n",
            "  Downloading llama_index_program_openai-0.2.0-py3-none-any.whl.metadata (766 bytes)\n",
            "Collecting llama-index-question-gen-openai<0.3.0,>=0.2.0 (from llama-index)\n",
            "  Downloading llama_index_question_gen_openai-0.2.0-py3-none-any.whl.metadata (785 bytes)\n",
            "Collecting llama-index-readers-file<0.3.0,>=0.2.0 (from llama-index)\n",
            "  Downloading llama_index_readers_file-0.2.0-py3-none-any.whl.metadata (5.4 kB)\n",
            "Collecting llama-index-readers-llama-parse>=0.2.0 (from llama-index)\n",
            "  Downloading llama_index_readers_llama_parse-0.2.0-py3-none-any.whl.metadata (3.6 kB)\n",
            "Collecting nltk>3.8.1 (from llama-index)\n",
            "  Downloading nltk-3.9.1-py3-none-any.whl.metadata (2.9 kB)\n",
            "Requirement already satisfied: PyYAML>=6.0.1 in /usr/local/lib/python3.10/dist-packages (from llama-index-core==0.11.0.post1->llama-index) (6.0.2)\n",
            "Requirement already satisfied: SQLAlchemy>=1.4.49 in /usr/local/lib/python3.10/dist-packages (from SQLAlchemy[asyncio]>=1.4.49->llama-index-core==0.11.0.post1->llama-index) (2.0.32)\n",
            "Requirement already satisfied: aiohttp<4.0.0,>=3.8.6 in /usr/local/lib/python3.10/dist-packages (from llama-index-core==0.11.0.post1->llama-index) (3.10.5)\n",
            "Collecting dataclasses-json (from llama-index-core==0.11.0.post1->llama-index)\n",
            "  Downloading dataclasses_json-0.6.7-py3-none-any.whl.metadata (25 kB)\n",
            "Collecting deprecated>=1.2.9.3 (from llama-index-core==0.11.0.post1->llama-index)\n",
            "  Downloading Deprecated-1.2.14-py2.py3-none-any.whl.metadata (5.4 kB)\n",
            "Collecting dirtyjson<2.0.0,>=1.0.8 (from llama-index-core==0.11.0.post1->llama-index)\n",
            "  Downloading dirtyjson-1.0.8-py3-none-any.whl.metadata (11 kB)\n",
            "Requirement already satisfied: fsspec>=2023.5.0 in /usr/local/lib/python3.10/dist-packages (from llama-index-core==0.11.0.post1->llama-index) (2024.6.1)\n",
            "Collecting httpx (from llama-index-core==0.11.0.post1->llama-index)\n",
            "  Downloading httpx-0.27.0-py3-none-any.whl.metadata (7.2 kB)\n",
            "Requirement already satisfied: nest-asyncio<2.0.0,>=1.5.8 in /usr/local/lib/python3.10/dist-packages (from llama-index-core==0.11.0.post1->llama-index) (1.6.0)\n",
            "Requirement already satisfied: networkx>=3.0 in /usr/local/lib/python3.10/dist-packages (from llama-index-core==0.11.0.post1->llama-index) (3.3)\n",
            "Requirement already satisfied: numpy<2.0.0 in /usr/local/lib/python3.10/dist-packages (from llama-index-core==0.11.0.post1->llama-index) (1.26.4)\n",
            "Requirement already satisfied: pillow>=9.0.0 in /usr/local/lib/python3.10/dist-packages (from llama-index-core==0.11.0.post1->llama-index) (9.4.0)\n",
            "Requirement already satisfied: pydantic<3.0.0,>=2.0.0 in /usr/local/lib/python3.10/dist-packages (from llama-index-core==0.11.0.post1->llama-index) (2.8.2)\n",
            "Requirement already satisfied: requests>=2.31.0 in /usr/local/lib/python3.10/dist-packages (from llama-index-core==0.11.0.post1->llama-index) (2.32.3)\n",
            "Collecting tenacity!=8.4.0,<9.0.0,>=8.2.0 (from llama-index-core==0.11.0.post1->llama-index)\n",
            "  Downloading tenacity-8.5.0-py3-none-any.whl.metadata (1.2 kB)\n",
            "Collecting tiktoken>=0.3.3 (from llama-index-core==0.11.0.post1->llama-index)\n",
            "  Downloading tiktoken-0.7.0-cp310-cp310-manylinux_2_17_x86_64.manylinux2014_x86_64.whl.metadata (6.6 kB)\n",
            "Requirement already satisfied: tqdm<5.0.0,>=4.66.1 in /usr/local/lib/python3.10/dist-packages (from llama-index-core==0.11.0.post1->llama-index) (4.66.5)\n",
            "Requirement already satisfied: typing-extensions>=4.5.0 in /usr/local/lib/python3.10/dist-packages (from llama-index-core==0.11.0.post1->llama-index) (4.12.2)\n",
            "Collecting typing-inspect>=0.8.0 (from llama-index-core==0.11.0.post1->llama-index)\n",
            "  Downloading typing_inspect-0.9.0-py3-none-any.whl.metadata (1.5 kB)\n",
            "Requirement already satisfied: wrapt in /usr/local/lib/python3.10/dist-packages (from llama-index-core==0.11.0.post1->llama-index) (1.16.0)\n",
            "Collecting openai>=1.14.0 (from llama-index-agent-openai<0.4.0,>=0.3.0->llama-index)\n",
            "  Downloading openai-1.42.0-py3-none-any.whl.metadata (22 kB)\n",
            "Collecting llama-cloud>=0.0.11 (from llama-index-indices-managed-llama-cloud>=0.3.0->llama-index)\n",
            "  Downloading llama_cloud-0.0.15-py3-none-any.whl.metadata (751 bytes)\n",
            "Requirement already satisfied: pandas in /usr/local/lib/python3.10/dist-packages (from llama-index-legacy<0.10.0,>=0.9.48->llama-index) (2.1.4)\n",
            "Requirement already satisfied: beautifulsoup4<5.0.0,>=4.12.3 in /usr/local/lib/python3.10/dist-packages (from llama-index-readers-file<0.3.0,>=0.2.0->llama-index) (4.12.3)\n",
            "Collecting pypdf<5.0.0,>=4.0.1 (from llama-index-readers-file<0.3.0,>=0.2.0->llama-index)\n",
            "  Downloading pypdf-4.3.1-py3-none-any.whl.metadata (7.4 kB)\n",
            "Collecting striprtf<0.0.27,>=0.0.26 (from llama-index-readers-file<0.3.0,>=0.2.0->llama-index)\n",
            "  Downloading striprtf-0.0.26-py3-none-any.whl.metadata (2.1 kB)\n",
            "Collecting llama-parse>=0.4.0 (from llama-index-readers-llama-parse>=0.2.0->llama-index)\n",
            "  Downloading llama_parse-0.5.0-py3-none-any.whl.metadata (4.4 kB)\n",
            "Requirement already satisfied: click in /usr/local/lib/python3.10/dist-packages (from nltk>3.8.1->llama-index) (8.1.7)\n",
            "Requirement already satisfied: joblib in /usr/local/lib/python3.10/dist-packages (from nltk>3.8.1->llama-index) (1.4.2)\n",
            "Requirement already satisfied: regex>=2021.8.3 in /usr/local/lib/python3.10/dist-packages (from nltk>3.8.1->llama-index) (2024.5.15)\n",
            "Requirement already satisfied: aiohappyeyeballs>=2.3.0 in /usr/local/lib/python3.10/dist-packages (from aiohttp<4.0.0,>=3.8.6->llama-index-core==0.11.0.post1->llama-index) (2.4.0)\n",
            "Requirement already satisfied: aiosignal>=1.1.2 in /usr/local/lib/python3.10/dist-packages (from aiohttp<4.0.0,>=3.8.6->llama-index-core==0.11.0.post1->llama-index) (1.3.1)\n",
            "Requirement already satisfied: attrs>=17.3.0 in /usr/local/lib/python3.10/dist-packages (from aiohttp<4.0.0,>=3.8.6->llama-index-core==0.11.0.post1->llama-index) (24.2.0)\n",
            "Requirement already satisfied: frozenlist>=1.1.1 in /usr/local/lib/python3.10/dist-packages (from aiohttp<4.0.0,>=3.8.6->llama-index-core==0.11.0.post1->llama-index) (1.4.1)\n",
            "Requirement already satisfied: multidict<7.0,>=4.5 in /usr/local/lib/python3.10/dist-packages (from aiohttp<4.0.0,>=3.8.6->llama-index-core==0.11.0.post1->llama-index) (6.0.5)\n",
            "Requirement already satisfied: yarl<2.0,>=1.0 in /usr/local/lib/python3.10/dist-packages (from aiohttp<4.0.0,>=3.8.6->llama-index-core==0.11.0.post1->llama-index) (1.9.4)\n",
            "Requirement already satisfied: async-timeout<5.0,>=4.0 in /usr/local/lib/python3.10/dist-packages (from aiohttp<4.0.0,>=3.8.6->llama-index-core==0.11.0.post1->llama-index) (4.0.3)\n",
            "Requirement already satisfied: soupsieve>1.2 in /usr/local/lib/python3.10/dist-packages (from beautifulsoup4<5.0.0,>=4.12.3->llama-index-readers-file<0.3.0,>=0.2.0->llama-index) (2.6)\n",
            "Requirement already satisfied: anyio in /usr/local/lib/python3.10/dist-packages (from httpx->llama-index-core==0.11.0.post1->llama-index) (3.7.1)\n",
            "Requirement already satisfied: certifi in /usr/local/lib/python3.10/dist-packages (from httpx->llama-index-core==0.11.0.post1->llama-index) (2024.7.4)\n",
            "Collecting httpcore==1.* (from httpx->llama-index-core==0.11.0.post1->llama-index)\n",
            "  Downloading httpcore-1.0.5-py3-none-any.whl.metadata (20 kB)\n",
            "Requirement already satisfied: idna in /usr/local/lib/python3.10/dist-packages (from httpx->llama-index-core==0.11.0.post1->llama-index) (3.7)\n",
            "Requirement already satisfied: sniffio in /usr/local/lib/python3.10/dist-packages (from httpx->llama-index-core==0.11.0.post1->llama-index) (1.3.1)\n",
            "Collecting h11<0.15,>=0.13 (from httpcore==1.*->httpx->llama-index-core==0.11.0.post1->llama-index)\n",
            "  Downloading h11-0.14.0-py3-none-any.whl.metadata (8.2 kB)\n",
            "Requirement already satisfied: distro<2,>=1.7.0 in /usr/lib/python3/dist-packages (from openai>=1.14.0->llama-index-agent-openai<0.4.0,>=0.3.0->llama-index) (1.7.0)\n",
            "Collecting jiter<1,>=0.4.0 (from openai>=1.14.0->llama-index-agent-openai<0.4.0,>=0.3.0->llama-index)\n",
            "  Downloading jiter-0.5.0-cp310-cp310-manylinux_2_17_x86_64.manylinux2014_x86_64.whl.metadata (3.6 kB)\n",
            "Requirement already satisfied: annotated-types>=0.4.0 in /usr/local/lib/python3.10/dist-packages (from pydantic<3.0.0,>=2.0.0->llama-index-core==0.11.0.post1->llama-index) (0.7.0)\n",
            "Requirement already satisfied: pydantic-core==2.20.1 in /usr/local/lib/python3.10/dist-packages (from pydantic<3.0.0,>=2.0.0->llama-index-core==0.11.0.post1->llama-index) (2.20.1)\n",
            "Requirement already satisfied: charset-normalizer<4,>=2 in /usr/local/lib/python3.10/dist-packages (from requests>=2.31.0->llama-index-core==0.11.0.post1->llama-index) (3.3.2)\n",
            "Requirement already satisfied: urllib3<3,>=1.21.1 in /usr/local/lib/python3.10/dist-packages (from requests>=2.31.0->llama-index-core==0.11.0.post1->llama-index) (2.0.7)\n",
            "Requirement already satisfied: greenlet!=0.4.17 in /usr/local/lib/python3.10/dist-packages (from SQLAlchemy>=1.4.49->SQLAlchemy[asyncio]>=1.4.49->llama-index-core==0.11.0.post1->llama-index) (3.0.3)\n",
            "Collecting mypy-extensions>=0.3.0 (from typing-inspect>=0.8.0->llama-index-core==0.11.0.post1->llama-index)\n",
            "  Downloading mypy_extensions-1.0.0-py3-none-any.whl.metadata (1.1 kB)\n",
            "Collecting marshmallow<4.0.0,>=3.18.0 (from dataclasses-json->llama-index-core==0.11.0.post1->llama-index)\n",
            "  Downloading marshmallow-3.22.0-py3-none-any.whl.metadata (7.2 kB)\n",
            "Requirement already satisfied: python-dateutil>=2.8.2 in /usr/local/lib/python3.10/dist-packages (from pandas->llama-index-legacy<0.10.0,>=0.9.48->llama-index) (2.8.2)\n",
            "Requirement already satisfied: pytz>=2020.1 in /usr/local/lib/python3.10/dist-packages (from pandas->llama-index-legacy<0.10.0,>=0.9.48->llama-index) (2024.1)\n",
            "Requirement already satisfied: tzdata>=2022.1 in /usr/local/lib/python3.10/dist-packages (from pandas->llama-index-legacy<0.10.0,>=0.9.48->llama-index) (2024.1)\n",
            "Requirement already satisfied: exceptiongroup in /usr/local/lib/python3.10/dist-packages (from anyio->httpx->llama-index-core==0.11.0.post1->llama-index) (1.2.2)\n",
            "Requirement already satisfied: packaging>=17.0 in /usr/local/lib/python3.10/dist-packages (from marshmallow<4.0.0,>=3.18.0->dataclasses-json->llama-index-core==0.11.0.post1->llama-index) (24.1)\n",
            "Requirement already satisfied: six>=1.5 in /usr/local/lib/python3.10/dist-packages (from python-dateutil>=2.8.2->pandas->llama-index-legacy<0.10.0,>=0.9.48->llama-index) (1.16.0)\n",
            "Downloading llama_index-0.11.0-py3-none-any.whl (6.8 kB)\n",
            "Downloading llama_index_core-0.11.0.post1-py3-none-any.whl (1.6 MB)\n",
            "\u001b[2K   \u001b[90m━━━━━━━━━━━━━━━━━━━━━━━━━━━━━━━━━━━━━━━━\u001b[0m \u001b[32m1.6/1.6 MB\u001b[0m \u001b[31m33.0 MB/s\u001b[0m eta \u001b[36m0:00:00\u001b[0m\n",
            "\u001b[?25hDownloading llama_index_agent_openai-0.3.0-py3-none-any.whl (13 kB)\n",
            "Downloading llama_index_cli-0.3.0-py3-none-any.whl (27 kB)\n",
            "Downloading llama_index_embeddings_openai-0.2.3-py3-none-any.whl (6.3 kB)\n",
            "Downloading llama_index_indices_managed_llama_cloud-0.3.0-py3-none-any.whl (9.5 kB)\n",
            "Downloading llama_index_legacy-0.9.48.post3-py3-none-any.whl (1.2 MB)\n",
            "\u001b[2K   \u001b[90m━━━━━━━━━━━━━━━━━━━━━━━━━━━━━━━━━━━━━━━━\u001b[0m \u001b[32m1.2/1.2 MB\u001b[0m \u001b[31m33.5 MB/s\u001b[0m eta \u001b[36m0:00:00\u001b[0m\n",
            "\u001b[?25hDownloading llama_index_llms_openai-0.2.0-py3-none-any.whl (12 kB)\n",
            "Downloading llama_index_multi_modal_llms_openai-0.2.0-py3-none-any.whl (5.9 kB)\n",
            "Downloading llama_index_program_openai-0.2.0-py3-none-any.whl (5.3 kB)\n",
            "Downloading llama_index_question_gen_openai-0.2.0-py3-none-any.whl (2.9 kB)\n",
            "Downloading llama_index_readers_file-0.2.0-py3-none-any.whl (38 kB)\n",
            "Downloading llama_index_readers_llama_parse-0.2.0-py3-none-any.whl (2.5 kB)\n",
            "Downloading nltk-3.9.1-py3-none-any.whl (1.5 MB)\n",
            "\u001b[2K   \u001b[90m━━━━━━━━━━━━━━━━━━━━━━━━━━━━━━━━━━━━━━━━\u001b[0m \u001b[32m1.5/1.5 MB\u001b[0m \u001b[31m32.9 MB/s\u001b[0m eta \u001b[36m0:00:00\u001b[0m\n",
            "\u001b[?25hDownloading Deprecated-1.2.14-py2.py3-none-any.whl (9.6 kB)\n",
            "Downloading dirtyjson-1.0.8-py3-none-any.whl (25 kB)\n",
            "Downloading llama_cloud-0.0.15-py3-none-any.whl (180 kB)\n",
            "\u001b[2K   \u001b[90m━━━━━━━━━━━━━━━━━━━━━━━━━━━━━━━━━━━━━━━━\u001b[0m \u001b[32m180.2/180.2 kB\u001b[0m \u001b[31m11.9 MB/s\u001b[0m eta \u001b[36m0:00:00\u001b[0m\n",
            "\u001b[?25hDownloading httpx-0.27.0-py3-none-any.whl (75 kB)\n",
            "\u001b[2K   \u001b[90m━━━━━━━━━━━━━━━━━━━━━━━━━━━━━━━━━━━━━━━━\u001b[0m \u001b[32m75.6/75.6 kB\u001b[0m \u001b[31m4.9 MB/s\u001b[0m eta \u001b[36m0:00:00\u001b[0m\n",
            "\u001b[?25hDownloading httpcore-1.0.5-py3-none-any.whl (77 kB)\n",
            "\u001b[2K   \u001b[90m━━━━━━━━━━━━━━━━━━━━━━━━━━━━━━━━━━━━━━━━\u001b[0m \u001b[32m77.9/77.9 kB\u001b[0m \u001b[31m5.3 MB/s\u001b[0m eta \u001b[36m0:00:00\u001b[0m\n",
            "\u001b[?25hDownloading llama_parse-0.5.0-py3-none-any.whl (9.4 kB)\n",
            "Downloading openai-1.42.0-py3-none-any.whl (362 kB)\n",
            "\u001b[2K   \u001b[90m━━━━━━━━━━━━━━━━━━━━━━━━━━━━━━━━━━━━━━━━\u001b[0m \u001b[32m362.9/362.9 kB\u001b[0m \u001b[31m20.4 MB/s\u001b[0m eta \u001b[36m0:00:00\u001b[0m\n",
            "\u001b[?25hDownloading pypdf-4.3.1-py3-none-any.whl (295 kB)\n",
            "\u001b[2K   \u001b[90m━━━━━━━━━━━━━━━━━━━━━━━━━━━━━━━━━━━━━━━━\u001b[0m \u001b[32m295.8/295.8 kB\u001b[0m \u001b[31m15.7 MB/s\u001b[0m eta \u001b[36m0:00:00\u001b[0m\n",
            "\u001b[?25hDownloading striprtf-0.0.26-py3-none-any.whl (6.9 kB)\n",
            "Downloading tenacity-8.5.0-py3-none-any.whl (28 kB)\n",
            "Downloading tiktoken-0.7.0-cp310-cp310-manylinux_2_17_x86_64.manylinux2014_x86_64.whl (1.1 MB)\n",
            "\u001b[2K   \u001b[90m━━━━━━━━━━━━━━━━━━━━━━━━━━━━━━━━━━━━━━━━\u001b[0m \u001b[32m1.1/1.1 MB\u001b[0m \u001b[31m29.5 MB/s\u001b[0m eta \u001b[36m0:00:00\u001b[0m\n",
            "\u001b[?25hDownloading typing_inspect-0.9.0-py3-none-any.whl (8.8 kB)\n",
            "Downloading dataclasses_json-0.6.7-py3-none-any.whl (28 kB)\n",
            "Downloading jiter-0.5.0-cp310-cp310-manylinux_2_17_x86_64.manylinux2014_x86_64.whl (318 kB)\n",
            "\u001b[2K   \u001b[90m━━━━━━━━━━━━━━━━━━━━━━━━━━━━━━━━━━━━━━━━\u001b[0m \u001b[32m318.9/318.9 kB\u001b[0m \u001b[31m18.0 MB/s\u001b[0m eta \u001b[36m0:00:00\u001b[0m\n",
            "\u001b[?25hDownloading marshmallow-3.22.0-py3-none-any.whl (49 kB)\n",
            "\u001b[2K   \u001b[90m━━━━━━━━━━━━━━━━━━━━━━━━━━━━━━━━━━━━━━━━\u001b[0m \u001b[32m49.3/49.3 kB\u001b[0m \u001b[31m3.5 MB/s\u001b[0m eta \u001b[36m0:00:00\u001b[0m\n",
            "\u001b[?25hDownloading mypy_extensions-1.0.0-py3-none-any.whl (4.7 kB)\n",
            "Downloading h11-0.14.0-py3-none-any.whl (58 kB)\n",
            "\u001b[2K   \u001b[90m━━━━━━━━━━━━━━━━━━━━━━━━━━━━━━━━━━━━━━━━\u001b[0m \u001b[32m58.3/58.3 kB\u001b[0m \u001b[31m4.0 MB/s\u001b[0m eta \u001b[36m0:00:00\u001b[0m\n",
            "\u001b[?25hInstalling collected packages: striprtf, dirtyjson, tenacity, pypdf, nltk, mypy-extensions, marshmallow, jiter, h11, deprecated, typing-inspect, tiktoken, httpcore, httpx, dataclasses-json, openai, llama-index-core, llama-cloud, llama-parse, llama-index-readers-file, llama-index-llms-openai, llama-index-legacy, llama-index-indices-managed-llama-cloud, llama-index-embeddings-openai, llama-index-readers-llama-parse, llama-index-multi-modal-llms-openai, llama-index-cli, llama-index-agent-openai, llama-index-program-openai, llama-index-question-gen-openai, llama-index\n",
            "  Attempting uninstall: tenacity\n",
            "    Found existing installation: tenacity 9.0.0\n",
            "    Uninstalling tenacity-9.0.0:\n",
            "      Successfully uninstalled tenacity-9.0.0\n",
            "  Attempting uninstall: nltk\n",
            "    Found existing installation: nltk 3.8.1\n",
            "    Uninstalling nltk-3.8.1:\n",
            "      Successfully uninstalled nltk-3.8.1\n",
            "Successfully installed dataclasses-json-0.6.7 deprecated-1.2.14 dirtyjson-1.0.8 h11-0.14.0 httpcore-1.0.5 httpx-0.27.0 jiter-0.5.0 llama-cloud-0.0.15 llama-index-0.11.0 llama-index-agent-openai-0.3.0 llama-index-cli-0.3.0 llama-index-core-0.11.0.post1 llama-index-embeddings-openai-0.2.3 llama-index-indices-managed-llama-cloud-0.3.0 llama-index-legacy-0.9.48.post3 llama-index-llms-openai-0.2.0 llama-index-multi-modal-llms-openai-0.2.0 llama-index-program-openai-0.2.0 llama-index-question-gen-openai-0.2.0 llama-index-readers-file-0.2.0 llama-index-readers-llama-parse-0.2.0 llama-parse-0.5.0 marshmallow-3.22.0 mypy-extensions-1.0.0 nltk-3.9.1 openai-1.42.0 pypdf-4.3.1 striprtf-0.0.26 tenacity-8.5.0 tiktoken-0.7.0 typing-inspect-0.9.0\n"
          ]
        }
      ],
      "source": [
        "!pip install llama-index"
      ]
    },
    {
      "cell_type": "code",
      "source": [
        "!pip install llama-index-readers-file\n",
        "!pip install llama-index-llms-openai\n",
        "!apt-get install poppler-utils"
      ],
      "metadata": {
        "colab": {
          "base_uri": "https://localhost:8080/"
        },
        "id": "yEGzDswf9wlU",
        "outputId": "2a4a462f-853a-4e8a-cd0e-f7fd84159dff"
      },
      "execution_count": 2,
      "outputs": [
        {
          "output_type": "stream",
          "name": "stdout",
          "text": [
            "Requirement already satisfied: llama-index-readers-file in /usr/local/lib/python3.10/dist-packages (0.2.0)\n",
            "Requirement already satisfied: beautifulsoup4<5.0.0,>=4.12.3 in /usr/local/lib/python3.10/dist-packages (from llama-index-readers-file) (4.12.3)\n",
            "Requirement already satisfied: llama-index-core<0.12.0,>=0.11.0 in /usr/local/lib/python3.10/dist-packages (from llama-index-readers-file) (0.11.0.post1)\n",
            "Requirement already satisfied: pandas in /usr/local/lib/python3.10/dist-packages (from llama-index-readers-file) (2.1.4)\n",
            "Requirement already satisfied: pypdf<5.0.0,>=4.0.1 in /usr/local/lib/python3.10/dist-packages (from llama-index-readers-file) (4.3.1)\n",
            "Requirement already satisfied: striprtf<0.0.27,>=0.0.26 in /usr/local/lib/python3.10/dist-packages (from llama-index-readers-file) (0.0.26)\n",
            "Requirement already satisfied: soupsieve>1.2 in /usr/local/lib/python3.10/dist-packages (from beautifulsoup4<5.0.0,>=4.12.3->llama-index-readers-file) (2.6)\n",
            "Requirement already satisfied: PyYAML>=6.0.1 in /usr/local/lib/python3.10/dist-packages (from llama-index-core<0.12.0,>=0.11.0->llama-index-readers-file) (6.0.2)\n",
            "Requirement already satisfied: SQLAlchemy>=1.4.49 in /usr/local/lib/python3.10/dist-packages (from SQLAlchemy[asyncio]>=1.4.49->llama-index-core<0.12.0,>=0.11.0->llama-index-readers-file) (2.0.32)\n",
            "Requirement already satisfied: aiohttp<4.0.0,>=3.8.6 in /usr/local/lib/python3.10/dist-packages (from llama-index-core<0.12.0,>=0.11.0->llama-index-readers-file) (3.10.5)\n",
            "Requirement already satisfied: dataclasses-json in /usr/local/lib/python3.10/dist-packages (from llama-index-core<0.12.0,>=0.11.0->llama-index-readers-file) (0.6.7)\n",
            "Requirement already satisfied: deprecated>=1.2.9.3 in /usr/local/lib/python3.10/dist-packages (from llama-index-core<0.12.0,>=0.11.0->llama-index-readers-file) (1.2.14)\n",
            "Requirement already satisfied: dirtyjson<2.0.0,>=1.0.8 in /usr/local/lib/python3.10/dist-packages (from llama-index-core<0.12.0,>=0.11.0->llama-index-readers-file) (1.0.8)\n",
            "Requirement already satisfied: fsspec>=2023.5.0 in /usr/local/lib/python3.10/dist-packages (from llama-index-core<0.12.0,>=0.11.0->llama-index-readers-file) (2024.6.1)\n",
            "Requirement already satisfied: httpx in /usr/local/lib/python3.10/dist-packages (from llama-index-core<0.12.0,>=0.11.0->llama-index-readers-file) (0.27.0)\n",
            "Requirement already satisfied: nest-asyncio<2.0.0,>=1.5.8 in /usr/local/lib/python3.10/dist-packages (from llama-index-core<0.12.0,>=0.11.0->llama-index-readers-file) (1.6.0)\n",
            "Requirement already satisfied: networkx>=3.0 in /usr/local/lib/python3.10/dist-packages (from llama-index-core<0.12.0,>=0.11.0->llama-index-readers-file) (3.3)\n",
            "Requirement already satisfied: nltk>3.8.1 in /usr/local/lib/python3.10/dist-packages (from llama-index-core<0.12.0,>=0.11.0->llama-index-readers-file) (3.9.1)\n",
            "Requirement already satisfied: numpy<2.0.0 in /usr/local/lib/python3.10/dist-packages (from llama-index-core<0.12.0,>=0.11.0->llama-index-readers-file) (1.26.4)\n",
            "Requirement already satisfied: pillow>=9.0.0 in /usr/local/lib/python3.10/dist-packages (from llama-index-core<0.12.0,>=0.11.0->llama-index-readers-file) (9.4.0)\n",
            "Requirement already satisfied: pydantic<3.0.0,>=2.0.0 in /usr/local/lib/python3.10/dist-packages (from llama-index-core<0.12.0,>=0.11.0->llama-index-readers-file) (2.8.2)\n",
            "Requirement already satisfied: requests>=2.31.0 in /usr/local/lib/python3.10/dist-packages (from llama-index-core<0.12.0,>=0.11.0->llama-index-readers-file) (2.32.3)\n",
            "Requirement already satisfied: tenacity!=8.4.0,<9.0.0,>=8.2.0 in /usr/local/lib/python3.10/dist-packages (from llama-index-core<0.12.0,>=0.11.0->llama-index-readers-file) (8.5.0)\n",
            "Requirement already satisfied: tiktoken>=0.3.3 in /usr/local/lib/python3.10/dist-packages (from llama-index-core<0.12.0,>=0.11.0->llama-index-readers-file) (0.7.0)\n",
            "Requirement already satisfied: tqdm<5.0.0,>=4.66.1 in /usr/local/lib/python3.10/dist-packages (from llama-index-core<0.12.0,>=0.11.0->llama-index-readers-file) (4.66.5)\n",
            "Requirement already satisfied: typing-extensions>=4.5.0 in /usr/local/lib/python3.10/dist-packages (from llama-index-core<0.12.0,>=0.11.0->llama-index-readers-file) (4.12.2)\n",
            "Requirement already satisfied: typing-inspect>=0.8.0 in /usr/local/lib/python3.10/dist-packages (from llama-index-core<0.12.0,>=0.11.0->llama-index-readers-file) (0.9.0)\n",
            "Requirement already satisfied: wrapt in /usr/local/lib/python3.10/dist-packages (from llama-index-core<0.12.0,>=0.11.0->llama-index-readers-file) (1.16.0)\n",
            "Requirement already satisfied: python-dateutil>=2.8.2 in /usr/local/lib/python3.10/dist-packages (from pandas->llama-index-readers-file) (2.8.2)\n",
            "Requirement already satisfied: pytz>=2020.1 in /usr/local/lib/python3.10/dist-packages (from pandas->llama-index-readers-file) (2024.1)\n",
            "Requirement already satisfied: tzdata>=2022.1 in /usr/local/lib/python3.10/dist-packages (from pandas->llama-index-readers-file) (2024.1)\n",
            "Requirement already satisfied: aiohappyeyeballs>=2.3.0 in /usr/local/lib/python3.10/dist-packages (from aiohttp<4.0.0,>=3.8.6->llama-index-core<0.12.0,>=0.11.0->llama-index-readers-file) (2.4.0)\n",
            "Requirement already satisfied: aiosignal>=1.1.2 in /usr/local/lib/python3.10/dist-packages (from aiohttp<4.0.0,>=3.8.6->llama-index-core<0.12.0,>=0.11.0->llama-index-readers-file) (1.3.1)\n",
            "Requirement already satisfied: attrs>=17.3.0 in /usr/local/lib/python3.10/dist-packages (from aiohttp<4.0.0,>=3.8.6->llama-index-core<0.12.0,>=0.11.0->llama-index-readers-file) (24.2.0)\n",
            "Requirement already satisfied: frozenlist>=1.1.1 in /usr/local/lib/python3.10/dist-packages (from aiohttp<4.0.0,>=3.8.6->llama-index-core<0.12.0,>=0.11.0->llama-index-readers-file) (1.4.1)\n",
            "Requirement already satisfied: multidict<7.0,>=4.5 in /usr/local/lib/python3.10/dist-packages (from aiohttp<4.0.0,>=3.8.6->llama-index-core<0.12.0,>=0.11.0->llama-index-readers-file) (6.0.5)\n",
            "Requirement already satisfied: yarl<2.0,>=1.0 in /usr/local/lib/python3.10/dist-packages (from aiohttp<4.0.0,>=3.8.6->llama-index-core<0.12.0,>=0.11.0->llama-index-readers-file) (1.9.4)\n",
            "Requirement already satisfied: async-timeout<5.0,>=4.0 in /usr/local/lib/python3.10/dist-packages (from aiohttp<4.0.0,>=3.8.6->llama-index-core<0.12.0,>=0.11.0->llama-index-readers-file) (4.0.3)\n",
            "Requirement already satisfied: click in /usr/local/lib/python3.10/dist-packages (from nltk>3.8.1->llama-index-core<0.12.0,>=0.11.0->llama-index-readers-file) (8.1.7)\n",
            "Requirement already satisfied: joblib in /usr/local/lib/python3.10/dist-packages (from nltk>3.8.1->llama-index-core<0.12.0,>=0.11.0->llama-index-readers-file) (1.4.2)\n",
            "Requirement already satisfied: regex>=2021.8.3 in /usr/local/lib/python3.10/dist-packages (from nltk>3.8.1->llama-index-core<0.12.0,>=0.11.0->llama-index-readers-file) (2024.5.15)\n",
            "Requirement already satisfied: annotated-types>=0.4.0 in /usr/local/lib/python3.10/dist-packages (from pydantic<3.0.0,>=2.0.0->llama-index-core<0.12.0,>=0.11.0->llama-index-readers-file) (0.7.0)\n",
            "Requirement already satisfied: pydantic-core==2.20.1 in /usr/local/lib/python3.10/dist-packages (from pydantic<3.0.0,>=2.0.0->llama-index-core<0.12.0,>=0.11.0->llama-index-readers-file) (2.20.1)\n",
            "Requirement already satisfied: six>=1.5 in /usr/local/lib/python3.10/dist-packages (from python-dateutil>=2.8.2->pandas->llama-index-readers-file) (1.16.0)\n",
            "Requirement already satisfied: charset-normalizer<4,>=2 in /usr/local/lib/python3.10/dist-packages (from requests>=2.31.0->llama-index-core<0.12.0,>=0.11.0->llama-index-readers-file) (3.3.2)\n",
            "Requirement already satisfied: idna<4,>=2.5 in /usr/local/lib/python3.10/dist-packages (from requests>=2.31.0->llama-index-core<0.12.0,>=0.11.0->llama-index-readers-file) (3.7)\n",
            "Requirement already satisfied: urllib3<3,>=1.21.1 in /usr/local/lib/python3.10/dist-packages (from requests>=2.31.0->llama-index-core<0.12.0,>=0.11.0->llama-index-readers-file) (2.0.7)\n",
            "Requirement already satisfied: certifi>=2017.4.17 in /usr/local/lib/python3.10/dist-packages (from requests>=2.31.0->llama-index-core<0.12.0,>=0.11.0->llama-index-readers-file) (2024.7.4)\n",
            "Requirement already satisfied: greenlet!=0.4.17 in /usr/local/lib/python3.10/dist-packages (from SQLAlchemy>=1.4.49->SQLAlchemy[asyncio]>=1.4.49->llama-index-core<0.12.0,>=0.11.0->llama-index-readers-file) (3.0.3)\n",
            "Requirement already satisfied: mypy-extensions>=0.3.0 in /usr/local/lib/python3.10/dist-packages (from typing-inspect>=0.8.0->llama-index-core<0.12.0,>=0.11.0->llama-index-readers-file) (1.0.0)\n",
            "Requirement already satisfied: marshmallow<4.0.0,>=3.18.0 in /usr/local/lib/python3.10/dist-packages (from dataclasses-json->llama-index-core<0.12.0,>=0.11.0->llama-index-readers-file) (3.22.0)\n",
            "Requirement already satisfied: anyio in /usr/local/lib/python3.10/dist-packages (from httpx->llama-index-core<0.12.0,>=0.11.0->llama-index-readers-file) (3.7.1)\n",
            "Requirement already satisfied: httpcore==1.* in /usr/local/lib/python3.10/dist-packages (from httpx->llama-index-core<0.12.0,>=0.11.0->llama-index-readers-file) (1.0.5)\n",
            "Requirement already satisfied: sniffio in /usr/local/lib/python3.10/dist-packages (from httpx->llama-index-core<0.12.0,>=0.11.0->llama-index-readers-file) (1.3.1)\n",
            "Requirement already satisfied: h11<0.15,>=0.13 in /usr/local/lib/python3.10/dist-packages (from httpcore==1.*->httpx->llama-index-core<0.12.0,>=0.11.0->llama-index-readers-file) (0.14.0)\n",
            "Requirement already satisfied: packaging>=17.0 in /usr/local/lib/python3.10/dist-packages (from marshmallow<4.0.0,>=3.18.0->dataclasses-json->llama-index-core<0.12.0,>=0.11.0->llama-index-readers-file) (24.1)\n",
            "Requirement already satisfied: exceptiongroup in /usr/local/lib/python3.10/dist-packages (from anyio->httpx->llama-index-core<0.12.0,>=0.11.0->llama-index-readers-file) (1.2.2)\n",
            "Requirement already satisfied: llama-index-llms-openai in /usr/local/lib/python3.10/dist-packages (0.2.0)\n",
            "Requirement already satisfied: llama-index-core<0.12.0,>=0.11.0 in /usr/local/lib/python3.10/dist-packages (from llama-index-llms-openai) (0.11.0.post1)\n",
            "Requirement already satisfied: openai<2.0.0,>=1.40.0 in /usr/local/lib/python3.10/dist-packages (from llama-index-llms-openai) (1.42.0)\n",
            "Requirement already satisfied: PyYAML>=6.0.1 in /usr/local/lib/python3.10/dist-packages (from llama-index-core<0.12.0,>=0.11.0->llama-index-llms-openai) (6.0.2)\n",
            "Requirement already satisfied: SQLAlchemy>=1.4.49 in /usr/local/lib/python3.10/dist-packages (from SQLAlchemy[asyncio]>=1.4.49->llama-index-core<0.12.0,>=0.11.0->llama-index-llms-openai) (2.0.32)\n",
            "Requirement already satisfied: aiohttp<4.0.0,>=3.8.6 in /usr/local/lib/python3.10/dist-packages (from llama-index-core<0.12.0,>=0.11.0->llama-index-llms-openai) (3.10.5)\n",
            "Requirement already satisfied: dataclasses-json in /usr/local/lib/python3.10/dist-packages (from llama-index-core<0.12.0,>=0.11.0->llama-index-llms-openai) (0.6.7)\n",
            "Requirement already satisfied: deprecated>=1.2.9.3 in /usr/local/lib/python3.10/dist-packages (from llama-index-core<0.12.0,>=0.11.0->llama-index-llms-openai) (1.2.14)\n",
            "Requirement already satisfied: dirtyjson<2.0.0,>=1.0.8 in /usr/local/lib/python3.10/dist-packages (from llama-index-core<0.12.0,>=0.11.0->llama-index-llms-openai) (1.0.8)\n",
            "Requirement already satisfied: fsspec>=2023.5.0 in /usr/local/lib/python3.10/dist-packages (from llama-index-core<0.12.0,>=0.11.0->llama-index-llms-openai) (2024.6.1)\n",
            "Requirement already satisfied: httpx in /usr/local/lib/python3.10/dist-packages (from llama-index-core<0.12.0,>=0.11.0->llama-index-llms-openai) (0.27.0)\n",
            "Requirement already satisfied: nest-asyncio<2.0.0,>=1.5.8 in /usr/local/lib/python3.10/dist-packages (from llama-index-core<0.12.0,>=0.11.0->llama-index-llms-openai) (1.6.0)\n",
            "Requirement already satisfied: networkx>=3.0 in /usr/local/lib/python3.10/dist-packages (from llama-index-core<0.12.0,>=0.11.0->llama-index-llms-openai) (3.3)\n",
            "Requirement already satisfied: nltk>3.8.1 in /usr/local/lib/python3.10/dist-packages (from llama-index-core<0.12.0,>=0.11.0->llama-index-llms-openai) (3.9.1)\n",
            "Requirement already satisfied: numpy<2.0.0 in /usr/local/lib/python3.10/dist-packages (from llama-index-core<0.12.0,>=0.11.0->llama-index-llms-openai) (1.26.4)\n",
            "Requirement already satisfied: pillow>=9.0.0 in /usr/local/lib/python3.10/dist-packages (from llama-index-core<0.12.0,>=0.11.0->llama-index-llms-openai) (9.4.0)\n",
            "Requirement already satisfied: pydantic<3.0.0,>=2.0.0 in /usr/local/lib/python3.10/dist-packages (from llama-index-core<0.12.0,>=0.11.0->llama-index-llms-openai) (2.8.2)\n",
            "Requirement already satisfied: requests>=2.31.0 in /usr/local/lib/python3.10/dist-packages (from llama-index-core<0.12.0,>=0.11.0->llama-index-llms-openai) (2.32.3)\n",
            "Requirement already satisfied: tenacity!=8.4.0,<9.0.0,>=8.2.0 in /usr/local/lib/python3.10/dist-packages (from llama-index-core<0.12.0,>=0.11.0->llama-index-llms-openai) (8.5.0)\n",
            "Requirement already satisfied: tiktoken>=0.3.3 in /usr/local/lib/python3.10/dist-packages (from llama-index-core<0.12.0,>=0.11.0->llama-index-llms-openai) (0.7.0)\n",
            "Requirement already satisfied: tqdm<5.0.0,>=4.66.1 in /usr/local/lib/python3.10/dist-packages (from llama-index-core<0.12.0,>=0.11.0->llama-index-llms-openai) (4.66.5)\n",
            "Requirement already satisfied: typing-extensions>=4.5.0 in /usr/local/lib/python3.10/dist-packages (from llama-index-core<0.12.0,>=0.11.0->llama-index-llms-openai) (4.12.2)\n",
            "Requirement already satisfied: typing-inspect>=0.8.0 in /usr/local/lib/python3.10/dist-packages (from llama-index-core<0.12.0,>=0.11.0->llama-index-llms-openai) (0.9.0)\n",
            "Requirement already satisfied: wrapt in /usr/local/lib/python3.10/dist-packages (from llama-index-core<0.12.0,>=0.11.0->llama-index-llms-openai) (1.16.0)\n",
            "Requirement already satisfied: anyio<5,>=3.5.0 in /usr/local/lib/python3.10/dist-packages (from openai<2.0.0,>=1.40.0->llama-index-llms-openai) (3.7.1)\n",
            "Requirement already satisfied: distro<2,>=1.7.0 in /usr/lib/python3/dist-packages (from openai<2.0.0,>=1.40.0->llama-index-llms-openai) (1.7.0)\n",
            "Requirement already satisfied: jiter<1,>=0.4.0 in /usr/local/lib/python3.10/dist-packages (from openai<2.0.0,>=1.40.0->llama-index-llms-openai) (0.5.0)\n",
            "Requirement already satisfied: sniffio in /usr/local/lib/python3.10/dist-packages (from openai<2.0.0,>=1.40.0->llama-index-llms-openai) (1.3.1)\n",
            "Requirement already satisfied: aiohappyeyeballs>=2.3.0 in /usr/local/lib/python3.10/dist-packages (from aiohttp<4.0.0,>=3.8.6->llama-index-core<0.12.0,>=0.11.0->llama-index-llms-openai) (2.4.0)\n",
            "Requirement already satisfied: aiosignal>=1.1.2 in /usr/local/lib/python3.10/dist-packages (from aiohttp<4.0.0,>=3.8.6->llama-index-core<0.12.0,>=0.11.0->llama-index-llms-openai) (1.3.1)\n",
            "Requirement already satisfied: attrs>=17.3.0 in /usr/local/lib/python3.10/dist-packages (from aiohttp<4.0.0,>=3.8.6->llama-index-core<0.12.0,>=0.11.0->llama-index-llms-openai) (24.2.0)\n",
            "Requirement already satisfied: frozenlist>=1.1.1 in /usr/local/lib/python3.10/dist-packages (from aiohttp<4.0.0,>=3.8.6->llama-index-core<0.12.0,>=0.11.0->llama-index-llms-openai) (1.4.1)\n",
            "Requirement already satisfied: multidict<7.0,>=4.5 in /usr/local/lib/python3.10/dist-packages (from aiohttp<4.0.0,>=3.8.6->llama-index-core<0.12.0,>=0.11.0->llama-index-llms-openai) (6.0.5)\n",
            "Requirement already satisfied: yarl<2.0,>=1.0 in /usr/local/lib/python3.10/dist-packages (from aiohttp<4.0.0,>=3.8.6->llama-index-core<0.12.0,>=0.11.0->llama-index-llms-openai) (1.9.4)\n",
            "Requirement already satisfied: async-timeout<5.0,>=4.0 in /usr/local/lib/python3.10/dist-packages (from aiohttp<4.0.0,>=3.8.6->llama-index-core<0.12.0,>=0.11.0->llama-index-llms-openai) (4.0.3)\n",
            "Requirement already satisfied: idna>=2.8 in /usr/local/lib/python3.10/dist-packages (from anyio<5,>=3.5.0->openai<2.0.0,>=1.40.0->llama-index-llms-openai) (3.7)\n",
            "Requirement already satisfied: exceptiongroup in /usr/local/lib/python3.10/dist-packages (from anyio<5,>=3.5.0->openai<2.0.0,>=1.40.0->llama-index-llms-openai) (1.2.2)\n",
            "Requirement already satisfied: certifi in /usr/local/lib/python3.10/dist-packages (from httpx->llama-index-core<0.12.0,>=0.11.0->llama-index-llms-openai) (2024.7.4)\n",
            "Requirement already satisfied: httpcore==1.* in /usr/local/lib/python3.10/dist-packages (from httpx->llama-index-core<0.12.0,>=0.11.0->llama-index-llms-openai) (1.0.5)\n",
            "Requirement already satisfied: h11<0.15,>=0.13 in /usr/local/lib/python3.10/dist-packages (from httpcore==1.*->httpx->llama-index-core<0.12.0,>=0.11.0->llama-index-llms-openai) (0.14.0)\n",
            "Requirement already satisfied: click in /usr/local/lib/python3.10/dist-packages (from nltk>3.8.1->llama-index-core<0.12.0,>=0.11.0->llama-index-llms-openai) (8.1.7)\n",
            "Requirement already satisfied: joblib in /usr/local/lib/python3.10/dist-packages (from nltk>3.8.1->llama-index-core<0.12.0,>=0.11.0->llama-index-llms-openai) (1.4.2)\n",
            "Requirement already satisfied: regex>=2021.8.3 in /usr/local/lib/python3.10/dist-packages (from nltk>3.8.1->llama-index-core<0.12.0,>=0.11.0->llama-index-llms-openai) (2024.5.15)\n",
            "Requirement already satisfied: annotated-types>=0.4.0 in /usr/local/lib/python3.10/dist-packages (from pydantic<3.0.0,>=2.0.0->llama-index-core<0.12.0,>=0.11.0->llama-index-llms-openai) (0.7.0)\n",
            "Requirement already satisfied: pydantic-core==2.20.1 in /usr/local/lib/python3.10/dist-packages (from pydantic<3.0.0,>=2.0.0->llama-index-core<0.12.0,>=0.11.0->llama-index-llms-openai) (2.20.1)\n",
            "Requirement already satisfied: charset-normalizer<4,>=2 in /usr/local/lib/python3.10/dist-packages (from requests>=2.31.0->llama-index-core<0.12.0,>=0.11.0->llama-index-llms-openai) (3.3.2)\n",
            "Requirement already satisfied: urllib3<3,>=1.21.1 in /usr/local/lib/python3.10/dist-packages (from requests>=2.31.0->llama-index-core<0.12.0,>=0.11.0->llama-index-llms-openai) (2.0.7)\n",
            "Requirement already satisfied: greenlet!=0.4.17 in /usr/local/lib/python3.10/dist-packages (from SQLAlchemy>=1.4.49->SQLAlchemy[asyncio]>=1.4.49->llama-index-core<0.12.0,>=0.11.0->llama-index-llms-openai) (3.0.3)\n",
            "Requirement already satisfied: mypy-extensions>=0.3.0 in /usr/local/lib/python3.10/dist-packages (from typing-inspect>=0.8.0->llama-index-core<0.12.0,>=0.11.0->llama-index-llms-openai) (1.0.0)\n",
            "Requirement already satisfied: marshmallow<4.0.0,>=3.18.0 in /usr/local/lib/python3.10/dist-packages (from dataclasses-json->llama-index-core<0.12.0,>=0.11.0->llama-index-llms-openai) (3.22.0)\n",
            "Requirement already satisfied: packaging>=17.0 in /usr/local/lib/python3.10/dist-packages (from marshmallow<4.0.0,>=3.18.0->dataclasses-json->llama-index-core<0.12.0,>=0.11.0->llama-index-llms-openai) (24.1)\n",
            "Reading package lists... Done\n",
            "Building dependency tree... Done\n",
            "Reading state information... Done\n",
            "The following NEW packages will be installed:\n",
            "  poppler-utils\n",
            "0 upgraded, 1 newly installed, 0 to remove and 45 not upgraded.\n",
            "Need to get 186 kB of archives.\n",
            "After this operation, 696 kB of additional disk space will be used.\n",
            "Get:1 http://archive.ubuntu.com/ubuntu jammy-updates/main amd64 poppler-utils amd64 22.02.0-2ubuntu0.5 [186 kB]\n",
            "Fetched 186 kB in 0s (1,565 kB/s)\n",
            "Selecting previously unselected package poppler-utils.\n",
            "(Reading database ... 123595 files and directories currently installed.)\n",
            "Preparing to unpack .../poppler-utils_22.02.0-2ubuntu0.5_amd64.deb ...\n",
            "Unpacking poppler-utils (22.02.0-2ubuntu0.5) ...\n",
            "Setting up poppler-utils (22.02.0-2ubuntu0.5) ...\n",
            "Processing triggers for man-db (2.10.2-1) ...\n"
          ]
        }
      ]
    },
    {
      "cell_type": "code",
      "source": [
        "from pathlib import Path\n",
        "import re,os\n",
        "import csv\n",
        "from bs4 import BeautifulSoup\n",
        "import pandas as pd\n",
        "import subprocess\n",
        "from pathlib import Path\n",
        "from llama_index.core.node_parser import HTMLNodeParser, SentenceSplitter, SimpleFileNodeParser\n",
        "from llama_index.readers.file import FlatReader"
      ],
      "metadata": {
        "id": "Tno4jX0f-BlR"
      },
      "execution_count": 5,
      "outputs": []
    },
    {
      "cell_type": "markdown",
      "source": [
        "## 2) Download the data files"
      ],
      "metadata": {
        "id": "8CIlUR1Z6qeK"
      }
    },
    {
      "cell_type": "code",
      "source": [
        "!mkdir -p 'data/'\n",
        "!wget 'https://arxiv.org/pdf/2403.16971' -O 'data/AIOS.pdf'\n",
        "!wget 'https://arxiv.org/pdf/2406.04692' -O 'data/Mixture_of_Agents.pdf'"
      ],
      "metadata": {
        "colab": {
          "base_uri": "https://localhost:8080/"
        },
        "id": "p9yi6a9K6tOz",
        "outputId": "4dc14ddc-33fd-4bd5-d363-ac5c402216c8"
      },
      "execution_count": 166,
      "outputs": [
        {
          "output_type": "stream",
          "name": "stdout",
          "text": [
            "--2024-08-23 17:04:07--  https://arxiv.org/pdf/2403.16971\n",
            "Resolving arxiv.org (arxiv.org)... 151.101.195.42, 151.101.3.42, 151.101.131.42, ...\n",
            "Connecting to arxiv.org (arxiv.org)|151.101.195.42|:443... connected.\n",
            "HTTP request sent, awaiting response... 200 OK\n",
            "Length: 569103 (556K) [application/pdf]\n",
            "Saving to: ‘data/AIOS.pdf’\n",
            "\n",
            "\rdata/AIOS.pdf         0%[                    ]       0  --.-KB/s               \rdata/AIOS.pdf       100%[===================>] 555.76K  --.-KB/s    in 0.01s   \n",
            "\n",
            "2024-08-23 17:04:07 (51.0 MB/s) - ‘data/AIOS.pdf’ saved [569103/569103]\n",
            "\n",
            "--2024-08-23 17:04:08--  https://arxiv.org/pdf/2406.04692\n",
            "Resolving arxiv.org (arxiv.org)... 151.101.195.42, 151.101.3.42, 151.101.131.42, ...\n",
            "Connecting to arxiv.org (arxiv.org)|151.101.195.42|:443... connected.\n",
            "HTTP request sent, awaiting response... 200 OK\n",
            "Length: 1157463 (1.1M) [application/pdf]\n",
            "Saving to: ‘data/Mixture_of_Agents.pdf’\n",
            "\n",
            "data/Mixture_of_Age 100%[===================>]   1.10M  --.-KB/s    in 0.008s  \n",
            "\n",
            "2024-08-23 17:04:08 (134 MB/s) - ‘data/Mixture_of_Agents.pdf’ saved [1157463/1157463]\n",
            "\n"
          ]
        }
      ]
    },
    {
      "cell_type": "markdown",
      "source": [
        "## 3) Define the PDF processor to extract the Table of content automatically"
      ],
      "metadata": {
        "id": "uaM-uCdJo4uE"
      }
    },
    {
      "cell_type": "code",
      "source": [
        "class PDFContentProcessor:\n",
        "    def __init__(self, source_pdf):\n",
        "        self.source_pdf = source_pdf\n",
        "        self.base_name = source_pdf.rstrip('.pdf')\n",
        "        self.file_name = Path(source_pdf).name\n",
        "\n",
        "    def transform_pdf_to_html(self):\n",
        "        # Command to convert PDF to HTML using pdftohtml tool\n",
        "      # First command to generate the main HTML file\n",
        "        command = f\"pdftohtml -s -i -enc UTF-8 '{self.source_pdf}' '{self.base_name}.html'\"\n",
        "       # Second command to generate the HTML file with the table of contents (ToC)\n",
        "        command1 = f\"pdftohtml -s -i -c -hidden -noframes -zoom 1.5 '{self.source_pdf}' '{self.base_name}.html'\"\n",
        "\n",
        "\n",
        "        try:\n",
        "            subprocess.run(command, check=True, shell=True)\n",
        "            subprocess.run(command1, check=True, shell=True)\n",
        "        except subprocess.CalledProcessError as e:\n",
        "            print(f\"Error executing command: {e}\")\n",
        "        except Exception as e:\n",
        "            print(f\"An error occurred: {e}\")\n",
        "\n",
        "    def load_and_process_html(self):\n",
        "        html_path = Path(f\"./{self.base_name}.html\")\n",
        "        html_docs = FlatReader().load_data(html_path)\n",
        "        parser = HTMLNodeParser(tags=[\"p\"])\n",
        "        nodes = parser.get_nodes_from_documents(html_docs)\n",
        "        return self.improve_format(nodes[0].text)\n",
        "\n",
        "    def improve_format(self, texto):\n",
        "        texto = texto.replace('\\xa0', ' ')\n",
        "        texto = texto.replace('&#160;', ' ')\n",
        "        texto = texto.replace('\\n\\n', '\\n')\n",
        "        texto = re.sub(r'(\\.\\n)', '.\\n\\n', texto)\n",
        "        return texto\n",
        "\n",
        "    def write_in_file(self, contenido):\n",
        "        with open(f\"{self.base_name}.txt\", 'w', encoding='utf-8') as fichero:\n",
        "            fichero.write(contenido)\n",
        "\n",
        "    def split_text(self):\n",
        "        txt_path = Path(f\"{self.base_name}.txt\")\n",
        "        txt_docs = FlatReader().load_data(txt_path)\n",
        "        splitter = SentenceSplitter(chunk_size=512, chunk_overlap=20)\n",
        "        return splitter.get_nodes_from_documents(txt_docs)\n",
        "\n",
        "    def process_html_toc(self):\n",
        "          with open(f\"{self.base_name}s.html\", 'r', encoding='utf-8') as file:\n",
        "              soup = BeautifulSoup(file, 'html.parser')\n",
        "\n",
        "          main_ul = soup.find('ul')\n",
        "          if not main_ul:\n",
        "              return []\n",
        "\n",
        "          list_lenght = len(main_ul.find_all('li', recursive=False))\n",
        "\n",
        "          # Setting to handle HTML structure correctly\n",
        "          if list_lenght == 1:\n",
        "              main_ul = main_ul.find('ul')\n",
        "          else:\n",
        "              if main_ul and main_ul.li:\n",
        "                  # Additional check to prevent deletion of a valid item\n",
        "                  if not main_ul.li.a or main_ul.li.a.text.strip().lower() != 'introduction':\n",
        "                      main_ul.li.decompose()\n",
        "\n",
        "          if not main_ul:\n",
        "              return []\n",
        "\n",
        "          entries = []\n",
        "          self.parse_list_items(main_ul, entries)\n",
        "          return entries\n",
        "\n",
        "    def parse_list_items(self, ul, entries, level=1):\n",
        "        items = ul.find_all('li', recursive=False)\n",
        "        for item in items:\n",
        "            a_tag = item.find('a')\n",
        "            if a_tag and 'href' in a_tag.attrs:\n",
        "                page = a_tag['href'].split('#')[1]\n",
        "                title = a_tag.text.strip()\n",
        "                levels = [False] * 3\n",
        "                if level <= 3:\n",
        "                    levels[level - 1] = True\n",
        "                entries.append([int(page), title] + levels)\n",
        "\n",
        "            nested_ul = item.find('ul')\n",
        "            if nested_ul:\n",
        "                self.parse_list_items(nested_ul, entries, level + 1)\n",
        "\n",
        "    def write_toc_to_csv(self, toc_entries):\n",
        "        with open(f\"{self.base_name}_output.csv\", 'w', newline='', encoding='utf-8') as csvfile:\n",
        "            csvwriter = csv.writer(csvfile)\n",
        "            csvwriter.writerow(['page', 'title', 'first_level', 'second_level', 'third_level'])\n",
        "            csvwriter.writerows(toc_entries)\n",
        "\n",
        "    def read_and_prepare_sections(self):\n",
        "        df = pd.read_csv(f\"{self.base_name}_output.csv\")\n",
        "        sections_info = [{\n",
        "            'title': row['title'],\n",
        "            'page': row['page'],\n",
        "            'level': 1 if row['first_level'] else 2 if row['second_level'] else 3 if row['third_level'] else None\n",
        "        } for index, row in df.iterrows()]\n",
        "        return sections_info\n",
        "\n",
        "    def add_metadata_to_nodes(self, nodes, sections_info):\n",
        "        last_index_found_global = 0\n",
        "        for node_index, node in enumerate(nodes):\n",
        "            text_content = node.text\n",
        "            node.metadata = {\"page\": [], \"section\": [], \"file_name\": self.file_name}\n",
        "\n",
        "            found = False\n",
        "            last_index_found = last_index_found_global\n",
        "\n",
        "            for info in sections_info[last_index_found:]:\n",
        "                pattern = re.escape(info['title']) + r'\\n'\n",
        "                match = re.search(pattern, text_content)\n",
        "                if match:\n",
        "                    last_index_found_global += 1\n",
        "                    node.metadata['section'].append(info['title'])\n",
        "                    node.metadata['page'].append(info['page'])\n",
        "                    superiors = self.get_superior_sections(info['title'], sections_info)\n",
        "                    for sup_title, sup_page in superiors:\n",
        "                        if sup_title not in node.metadata['section']:\n",
        "                            node.metadata['section'].insert(0, sup_title)\n",
        "                            node.metadata['page'].insert(0, sup_page)\n",
        "                    found = True\n",
        "                    break\n",
        "\n",
        "            if not found and node_index > 0:\n",
        "                node.metadata = nodes[node_index - 1].metadata.copy()\n",
        "\n",
        "    def get_superior_sections(self, section_title, sections_info):\n",
        "        results = []\n",
        "        current_entry = next((entry for entry in sections_info if entry['title'] == section_title), None)\n",
        "\n",
        "        if not current_entry:\n",
        "            return results\n",
        "\n",
        "        current_level = current_entry['level']\n",
        "        if current_level > 1:\n",
        "            index_of_current = sections_info.index(current_entry)\n",
        "            for entry in reversed(sections_info[:index_of_current]):\n",
        "                if entry['level'] == current_level - 1:\n",
        "                    results.insert(0, (entry['title'], entry['page']))\n",
        "                    current_level -= 1\n",
        "                    if current_level == 1:\n",
        "                        break\n",
        "\n",
        "        return results\n",
        "\n",
        "\n",
        "    def cleanup(self):\n",
        "            # Get the directory where the PDF file is located\n",
        "            directory = Path(self.source_pdf).parent\n",
        "            base_name = Path(self.base_name).name\n",
        "\n",
        "\n",
        "            for file in directory.iterdir():\n",
        "                #  Check if the file starts with the base name and it is not a PDF file\n",
        "                if file.is_file():\n",
        "                    if file.stem.startswith(base_name) and file.suffix != '.pdf':\n",
        "                        try:\n",
        "                            os.remove(file)\n",
        "                            print(f\"Deleted: {file}\")\n",
        "                        except Exception as e:\n",
        "                            print(f\"Error deleting {file}: {e}\")\n",
        "                    else:\n",
        "                        print(f\"Skipped (not matching criteria): {file}\")\n",
        "                else:\n",
        "                    print(f\"Skipped (not a file): {file}\")\n",
        "\n",
        "    @classmethod\n",
        "    def process_multiple_pdfs(cls, pdf_directory):\n",
        "        all_nodes = []\n",
        "        for pdf_file in Path(pdf_directory).glob(\"*.pdf\"):\n",
        "            processor = cls(str(pdf_file))\n",
        "            processor.transform_pdf_to_html()\n",
        "            clean_text = processor.load_and_process_html()\n",
        "            processor.write_in_file(clean_text)\n",
        "            nodes = processor.split_text()\n",
        "            toc_entries = processor.process_html_toc()\n",
        "            processor.write_toc_to_csv(toc_entries)\n",
        "            sections_info = processor.read_and_prepare_sections()\n",
        "            processor.add_metadata_to_nodes(nodes, sections_info)\n",
        "            all_nodes.extend(nodes)\n",
        "            processor.cleanup()  # Clean additional files\n",
        "\n",
        "        all_nodes_dict = {n.node_id: n for n in all_nodes}\n",
        "        return all_nodes_dict, all_nodes\n"
      ],
      "metadata": {
        "id": "e9PgkEoC-Yyy"
      },
      "execution_count": 111,
      "outputs": []
    },
    {
      "cell_type": "markdown",
      "source": [
        "Process one file"
      ],
      "metadata": {
        "id": "RKGFwS_oMHsT"
      }
    },
    {
      "cell_type": "code",
      "source": [
        "\n",
        "pdf_directory_or_file = \"./data/Mixture_of_Agents.pdf\"\n",
        "\n",
        "if os.path.isfile(pdf_directory_or_file):\n",
        "    processor = PDFContentProcessor(pdf_directory_or_file)\n",
        "    processor.transform_pdf_to_html()\n",
        "    clean_text = processor.load_and_process_html()\n",
        "    processor.write_in_file(clean_text)\n",
        "    nodes = processor.split_text()\n",
        "    toc_entries = processor.process_html_toc()\n",
        "    processor.write_toc_to_csv(toc_entries)\n",
        "    sections_info = processor.read_and_prepare_sections()\n",
        "    processor.add_metadata_to_nodes(nodes, sections_info)\n",
        "    all_nodes_dict = {n.node_id: n for n in nodes}\n",
        "    processor.cleanup()  # Limpiar archivos adicionales\n",
        "else:\n",
        "    all_nodes_dict,nodes  = PDFContentProcessor.process_multiple_pdfs(pdf_directory_or_file)\n",
        "\n",
        "for node_id, node in all_nodes_dict.items():\n",
        "    print(node_id, node.metadata)"
      ],
      "metadata": {
        "colab": {
          "base_uri": "https://localhost:8080/"
        },
        "id": "nP8LV76j-fd_",
        "outputId": "5068fd7b-6b67-4a11-f626-c8968489ead3"
      },
      "execution_count": 112,
      "outputs": [
        {
          "output_type": "stream",
          "name": "stdout",
          "text": [
            "Deleted: data/Mixture_of_Agents.html\n",
            "Skipped (not matching criteria): data/Mixture_of_Agents.pdf\n",
            "Skipped (not a file): data/.ipynb_checkpoints\n",
            "Deleted: data/Mixture_of_Agents_output.csv\n",
            "Deleted: data/Mixture_of_Agents.txt\n",
            "Deleted: data/Mixture_of_Agents-html.html\n",
            "Skipped (not matching criteria): data/AIOS.pdf\n",
            "Deleted: data/Mixture_of_Agentss.html\n",
            "27d3f48d-3ff2-4451-bb74-c1dc8db5b9b0 {'page': [1], 'section': ['Introduction'], 'file_name': 'Mixture_of_Agents.pdf'}\n",
            "effa3e5c-be5e-4298-abab-6487daca706b {'page': [1], 'section': ['Introduction'], 'file_name': 'Mixture_of_Agents.pdf'}\n",
            "7a1dc31f-f75a-452b-b336-8a1e6e2e5ce1 {'page': [1], 'section': ['Introduction'], 'file_name': 'Mixture_of_Agents.pdf'}\n",
            "07cfffd6-7c11-4432-99f8-67f915c88172 {'page': [3], 'section': ['Mixture-of-Agents Methodology'], 'file_name': 'Mixture_of_Agents.pdf'}\n",
            "56348caa-7ef4-4fc9-885c-635caacc206a {'page': [3, 3], 'section': ['Mixture-of-Agents Methodology', 'Mixture-of-Agents'], 'file_name': 'Mixture_of_Agents.pdf'}\n",
            "dbce06db-d24f-49dd-abd9-27b1aadd34e2 {'page': [3, 4], 'section': ['Mixture-of-Agents Methodology', 'Analogy to Mixture-of-Experts'], 'file_name': 'Mixture_of_Agents.pdf'}\n",
            "b0d2d0e4-f0ae-472a-959c-0e6a7a50f063 {'page': [4], 'section': ['Evaluation'], 'file_name': 'Mixture_of_Agents.pdf'}\n",
            "f8dc5c41-e6fe-466c-8b8e-cc5630a6098d {'page': [4], 'section': ['Evaluation'], 'file_name': 'Mixture_of_Agents.pdf'}\n",
            "0cd966e3-93cc-4c26-8f20-56e92744cc75 {'page': [4, 5], 'section': ['Evaluation', 'Setup'], 'file_name': 'Mixture_of_Agents.pdf'}\n",
            "02688c6d-0061-4038-b02b-2999437606b6 {'page': [4, 5], 'section': ['Evaluation', 'Benchmark Results'], 'file_name': 'Mixture_of_Agents.pdf'}\n",
            "f58bbc1c-3336-43e0-aa60-ab2fc6ccc730 {'page': [4, 5], 'section': ['Evaluation', 'Benchmark Results'], 'file_name': 'Mixture_of_Agents.pdf'}\n",
            "d95c7801-fd94-4765-b5df-79743c014a94 {'page': [4, 6], 'section': ['Evaluation', 'What Makes Mixture-of-Agents Work Well?'], 'file_name': 'Mixture_of_Agents.pdf'}\n",
            "86e0b1f5-8fc2-41bd-a1bc-289fe068128a {'page': [4, 6], 'section': ['Evaluation', 'What Makes Mixture-of-Agents Work Well?'], 'file_name': 'Mixture_of_Agents.pdf'}\n",
            "21e3f32c-d910-4822-bbc3-3c88157cfdac {'page': [4, 6], 'section': ['Evaluation', 'What Makes Mixture-of-Agents Work Well?'], 'file_name': 'Mixture_of_Agents.pdf'}\n",
            "811ebe42-0248-4e63-b93f-cf983d306981 {'page': [4, 7], 'section': ['Evaluation', 'Budget and Token Analysis'], 'file_name': 'Mixture_of_Agents.pdf'}\n",
            "402112ef-8940-4b16-aff2-d91c75ee7e4e {'page': [8], 'section': ['Related Work'], 'file_name': 'Mixture_of_Agents.pdf'}\n",
            "fdb0f00b-8782-40a8-a008-c46ccf5ca98c {'page': [8, 9], 'section': ['Related Work', 'Model Ensemble'], 'file_name': 'Mixture_of_Agents.pdf'}\n",
            "53952ce7-bbbd-40fb-935a-94738004fb8c {'page': [9], 'section': ['Conclusion'], 'file_name': 'Mixture_of_Agents.pdf'}\n",
            "dafa3c82-dc49-49d6-841a-5350d6a00039 {'page': [9], 'section': ['Conclusion'], 'file_name': 'Mixture_of_Agents.pdf'}\n",
            "037d1518-9ca7-4f04-bad6-ceb01bbec31c {'page': [9], 'section': ['Conclusion'], 'file_name': 'Mixture_of_Agents.pdf'}\n",
            "5cd5f87f-248f-489f-a6a6-f0b0f9a88643 {'page': [9], 'section': ['Conclusion'], 'file_name': 'Mixture_of_Agents.pdf'}\n",
            "8f2f68b8-7035-4ec8-b8c8-d0d7bed8e920 {'page': [9], 'section': ['Conclusion'], 'file_name': 'Mixture_of_Agents.pdf'}\n",
            "b60db362-869f-48d4-b54c-96b5a51df846 {'page': [9], 'section': ['Conclusion'], 'file_name': 'Mixture_of_Agents.pdf'}\n",
            "1a257528-afaf-4f28-9efc-a402fc992fe2 {'page': [9], 'section': ['Conclusion'], 'file_name': 'Mixture_of_Agents.pdf'}\n",
            "96601926-bb07-4f67-a07f-8323cfce7f5e {'page': [9], 'section': ['Conclusion'], 'file_name': 'Mixture_of_Agents.pdf'}\n",
            "be15175a-16a7-4f60-8ed2-1afb653ad2b5 {'page': [12], 'section': ['Spearman Correlation using Different Similarity Functions'], 'file_name': 'Mixture_of_Agents.pdf'}\n",
            "a3dc5d58-ed10-4c47-b34a-d89f23a0b725 {'page': [13], 'section': ['LLM Ranker'], 'file_name': 'Mixture_of_Agents.pdf'}\n",
            "a76f39c9-9baf-42ef-bb11-7530ce2f0e57 {'page': [14], 'section': ['Case Study'], 'file_name': 'Mixture_of_Agents.pdf'}\n",
            "d39af2ec-9873-40ec-80a3-d49cb3ffe4c9 {'page': [14], 'section': ['MATH Task'], 'file_name': 'Mixture_of_Agents.pdf'}\n",
            "e7dcca85-0658-4d44-a3a2-bff57e65ebf1 {'page': [14], 'section': ['MATH Task'], 'file_name': 'Mixture_of_Agents.pdf'}\n"
          ]
        }
      ]
    },
    {
      "cell_type": "markdown",
      "source": [
        "Process multiple files"
      ],
      "metadata": {
        "id": "4ZuCMrXdMRxu"
      }
    },
    {
      "cell_type": "code",
      "source": [
        "pdf_directory_or_file = \"./data/\"\n",
        "\n",
        "if os.path.isfile(pdf_directory_or_file):\n",
        "    processor = PDFContentProcessor(pdf_directory_or_file)\n",
        "    processor.transform_pdf_to_html()\n",
        "    clean_text = processor.load_and_process_html()\n",
        "    processor.write_in_file(clean_text)\n",
        "    nodes = processor.split_text()\n",
        "    toc_entries = processor.process_html_toc()\n",
        "    processor.write_toc_to_csv(toc_entries)\n",
        "    sections_info = processor.read_and_prepare_sections()\n",
        "    processor.add_metadata_to_nodes(nodes, sections_info)\n",
        "    all_nodes_dict = {n.node_id: n for n in nodes}\n",
        "    processor.cleanup()  # Limpiar archivos adicionales\n",
        "else:\n",
        "    all_nodes_dict,nodes  = PDFContentProcessor.process_multiple_pdfs(pdf_directory_or_file)\n",
        "\n",
        "for node_id, node in all_nodes_dict.items():\n",
        "    print(node_id, node.metadata)"
      ],
      "metadata": {
        "colab": {
          "base_uri": "https://localhost:8080/"
        },
        "id": "vWBOkxMlLixt",
        "outputId": "85396754-e1b5-4e82-f419-af5da9deee21"
      },
      "execution_count": 113,
      "outputs": [
        {
          "output_type": "stream",
          "name": "stdout",
          "text": [
            "Deleted: data/Mixture_of_Agents.html\n",
            "Skipped (not matching criteria): data/Mixture_of_Agents.pdf\n",
            "Skipped (not a file): data/.ipynb_checkpoints\n",
            "Deleted: data/Mixture_of_Agents_output.csv\n",
            "Deleted: data/Mixture_of_Agents.txt\n",
            "Deleted: data/Mixture_of_Agents-html.html\n",
            "Skipped (not matching criteria): data/AIOS.pdf\n",
            "Deleted: data/Mixture_of_Agentss.html\n",
            "Skipped (not matching criteria): data/Mixture_of_Agents.pdf\n",
            "Skipped (not a file): data/.ipynb_checkpoints\n",
            "Deleted: data/AIOSs.html\n",
            "Deleted: data/AIOS_output.csv\n",
            "Skipped (not matching criteria): data/AIOS.pdf\n",
            "Deleted: data/AIOS.txt\n",
            "Deleted: data/AIOS-html.html\n",
            "Deleted: data/AIOS.html\n",
            "68742f8d-8572-4dde-9f89-614f64b30ab6 {'page': [1], 'section': ['Introduction'], 'file_name': 'Mixture_of_Agents.pdf'}\n",
            "294b0f49-7d4e-48a2-b6ca-b550d1bc5dbf {'page': [1], 'section': ['Introduction'], 'file_name': 'Mixture_of_Agents.pdf'}\n",
            "9c1dea86-a69b-40fd-a42c-202b7e9628ad {'page': [1], 'section': ['Introduction'], 'file_name': 'Mixture_of_Agents.pdf'}\n",
            "f65bf8c5-304b-4306-8b28-b40345598e5e {'page': [3], 'section': ['Mixture-of-Agents Methodology'], 'file_name': 'Mixture_of_Agents.pdf'}\n",
            "8c95e107-d001-4abf-9893-ceedef8cbe9a {'page': [3, 3], 'section': ['Mixture-of-Agents Methodology', 'Mixture-of-Agents'], 'file_name': 'Mixture_of_Agents.pdf'}\n",
            "3690169a-d099-4f72-9c5d-4d7116051fa4 {'page': [3, 4], 'section': ['Mixture-of-Agents Methodology', 'Analogy to Mixture-of-Experts'], 'file_name': 'Mixture_of_Agents.pdf'}\n",
            "9f5a3689-3832-4c2b-a2e9-4ee9e9802969 {'page': [4], 'section': ['Evaluation'], 'file_name': 'Mixture_of_Agents.pdf'}\n",
            "0b7c6213-07ad-4ff7-973f-598e136af393 {'page': [4], 'section': ['Evaluation'], 'file_name': 'Mixture_of_Agents.pdf'}\n",
            "49e55b2f-2904-4177-9747-425ed6dea201 {'page': [4, 5], 'section': ['Evaluation', 'Setup'], 'file_name': 'Mixture_of_Agents.pdf'}\n",
            "ef7f4472-5eb5-448e-8112-a3e6a4ea580d {'page': [4, 5], 'section': ['Evaluation', 'Benchmark Results'], 'file_name': 'Mixture_of_Agents.pdf'}\n",
            "c49cd2c2-a2be-4b5f-b667-272e36dda34a {'page': [4, 5], 'section': ['Evaluation', 'Benchmark Results'], 'file_name': 'Mixture_of_Agents.pdf'}\n",
            "16e1908f-0518-4d54-8119-8bf67013c9b4 {'page': [4, 6], 'section': ['Evaluation', 'What Makes Mixture-of-Agents Work Well?'], 'file_name': 'Mixture_of_Agents.pdf'}\n",
            "e902b774-9ad1-4747-b502-8a50d44938e9 {'page': [4, 6], 'section': ['Evaluation', 'What Makes Mixture-of-Agents Work Well?'], 'file_name': 'Mixture_of_Agents.pdf'}\n",
            "9eb2848b-6914-4406-8aa0-50e1a1be637c {'page': [4, 6], 'section': ['Evaluation', 'What Makes Mixture-of-Agents Work Well?'], 'file_name': 'Mixture_of_Agents.pdf'}\n",
            "83478ae5-4c9f-4c32-8c6e-212cec1fad53 {'page': [4, 7], 'section': ['Evaluation', 'Budget and Token Analysis'], 'file_name': 'Mixture_of_Agents.pdf'}\n",
            "a5793494-e819-4b82-a85f-a618fe091c0a {'page': [8], 'section': ['Related Work'], 'file_name': 'Mixture_of_Agents.pdf'}\n",
            "16928fa2-6351-456c-bda4-a26374ff03cf {'page': [8, 9], 'section': ['Related Work', 'Model Ensemble'], 'file_name': 'Mixture_of_Agents.pdf'}\n",
            "5264c765-fccf-4dad-b83b-ebbb8e2a8d4c {'page': [9], 'section': ['Conclusion'], 'file_name': 'Mixture_of_Agents.pdf'}\n",
            "9248a7b0-18ed-4aa0-bbb9-472794f35924 {'page': [9], 'section': ['Conclusion'], 'file_name': 'Mixture_of_Agents.pdf'}\n",
            "029ee15b-9156-44aa-9182-dacdff605697 {'page': [9], 'section': ['Conclusion'], 'file_name': 'Mixture_of_Agents.pdf'}\n",
            "0e1682b0-ab1f-4d5a-aeda-805fd9fa17f5 {'page': [9], 'section': ['Conclusion'], 'file_name': 'Mixture_of_Agents.pdf'}\n",
            "05a5c3ca-2316-4792-bc2d-8efd86d2dc9f {'page': [9], 'section': ['Conclusion'], 'file_name': 'Mixture_of_Agents.pdf'}\n",
            "63817316-3783-42ec-a561-e08d14063fce {'page': [9], 'section': ['Conclusion'], 'file_name': 'Mixture_of_Agents.pdf'}\n",
            "2ecbec1f-656e-42c7-b82a-a35ec1653041 {'page': [9], 'section': ['Conclusion'], 'file_name': 'Mixture_of_Agents.pdf'}\n",
            "abd6eff2-322e-44ca-8304-dcfa834203bf {'page': [9], 'section': ['Conclusion'], 'file_name': 'Mixture_of_Agents.pdf'}\n",
            "41196de7-0102-41a8-8b47-7f0508d83420 {'page': [12], 'section': ['Spearman Correlation using Different Similarity Functions'], 'file_name': 'Mixture_of_Agents.pdf'}\n",
            "5fe91341-be24-44bd-b6b4-199bb3060b49 {'page': [13], 'section': ['LLM Ranker'], 'file_name': 'Mixture_of_Agents.pdf'}\n",
            "d3fb3b81-6bd9-4186-b317-198329fe68a7 {'page': [14], 'section': ['Case Study'], 'file_name': 'Mixture_of_Agents.pdf'}\n",
            "0ba41809-799d-4441-8016-8d2a142ec47e {'page': [14], 'section': ['MATH Task'], 'file_name': 'Mixture_of_Agents.pdf'}\n",
            "7f0f306f-88c2-4f5c-b40d-7e5688304507 {'page': [14], 'section': ['MATH Task'], 'file_name': 'Mixture_of_Agents.pdf'}\n",
            "8ac619d6-d39d-49b4-b269-40a25a36835f {'page': [1], 'section': ['Introduction'], 'file_name': 'AIOS.pdf'}\n",
            "5cbfc73c-56f6-4050-b365-99a54cdf9397 {'page': [1], 'section': ['Introduction'], 'file_name': 'AIOS.pdf'}\n",
            "15ff0bc2-da25-4783-992d-0d1c75567434 {'page': [1], 'section': ['Introduction'], 'file_name': 'AIOS.pdf'}\n",
            "2821893d-bb4d-4877-984f-e883f7a50fc9 {'page': [5, 5], 'section': ['AIOS Implementation', 'Agent Scheduler'], 'file_name': 'AIOS.pdf'}\n",
            "f357bb7f-dd7b-45a9-b33d-18a8f823a69e {'page': [3, 3], 'section': ['Related Work', 'Evolution of Operating Systems'], 'file_name': 'AIOS.pdf'}\n",
            "2582c3a5-1965-4164-a445-9f7b8a5b7b19 {'page': [3, 3], 'section': ['Related Work', 'Evolution of Operating Systems'], 'file_name': 'AIOS.pdf'}\n",
            "4c038c4f-4774-4656-9957-0baf1b31c698 {'page': [4], 'section': ['AIOS Layers'], 'file_name': 'AIOS.pdf'}\n",
            "90c1b4f6-86c4-467a-bd9a-52ca6aec2200 {'page': [5], 'section': ['AIOS Implementation'], 'file_name': 'AIOS.pdf'}\n",
            "87878c8c-f578-4194-9e31-9c866878b2cc {'page': [5, 5], 'section': ['AIOS Implementation', 'Context Manager'], 'file_name': 'AIOS.pdf'}\n",
            "955ca4e2-6d68-47a0-89bf-a95010e7de03 {'page': [5, 5], 'section': ['AIOS Implementation', 'Context Manager'], 'file_name': 'AIOS.pdf'}\n",
            "540291e7-92f2-4102-8c55-09f436a5476b {'page': [5, 5], 'section': ['AIOS Implementation', 'Context Manager'], 'file_name': 'AIOS.pdf'}\n",
            "f6effab5-e792-4699-b02d-ffd9b907885b {'page': [5, 6], 'section': ['AIOS Implementation', 'Memory Manager'], 'file_name': 'AIOS.pdf'}\n",
            "58213ed1-b8f2-4a33-b2fa-fcd0428030c5 {'page': [5, 7], 'section': ['AIOS Implementation', 'Tool Manager'], 'file_name': 'AIOS.pdf'}\n",
            "2fbf6259-bee9-43cd-83bf-7c1459dbc680 {'page': [5, 7], 'section': ['AIOS Implementation', 'Access Manager'], 'file_name': 'AIOS.pdf'}\n",
            "bd1f430f-1aac-4ba0-b34a-16b8d1dc88f9 {'page': [5, 8], 'section': ['AIOS Implementation', 'AIOS SDK'], 'file_name': 'AIOS.pdf'}\n",
            "686695db-d0ac-4c28-a7ac-2eac69fc51a9 {'page': [5, 8], 'section': ['AIOS Implementation', 'AIOS SDK'], 'file_name': 'AIOS.pdf'}\n",
            "60ff1dfc-2a9e-48dc-aff0-8536d4f23604 {'page': [8, 8], 'section': ['Evaluation', 'Experimental Results'], 'file_name': 'AIOS.pdf'}\n",
            "12978e29-82b5-463d-bd4b-a7a05d6a81ce {'page': [8, 8], 'section': ['Evaluation', 'Experimental Results'], 'file_name': 'AIOS.pdf'}\n",
            "975c7562-8dbb-48db-b361-8c1612f1a359 {'page': [9], 'section': ['Conclusions'], 'file_name': 'AIOS.pdf'}\n",
            "a6ee01bd-0792-4c44-9f48-59a3228d25a0 {'page': [9], 'section': ['Future Work'], 'file_name': 'AIOS.pdf'}\n",
            "294d7be3-37e6-4341-83f2-c22aa6ae3f28 {'page': [9], 'section': ['Future Work'], 'file_name': 'AIOS.pdf'}\n",
            "be756734-533c-45d1-978e-3633811f30a2 {'page': [9], 'section': ['Future Work'], 'file_name': 'AIOS.pdf'}\n",
            "31aaba79-33d7-4164-b02f-8299d2bd22d6 {'page': [9], 'section': ['Future Work'], 'file_name': 'AIOS.pdf'}\n",
            "d8cdb18c-50ab-4db8-aa31-d5a7df1880fb {'page': [9], 'section': ['Future Work'], 'file_name': 'AIOS.pdf'}\n",
            "e7c4adbc-7293-4012-a4ab-783324dbb544 {'page': [9], 'section': ['Future Work'], 'file_name': 'AIOS.pdf'}\n",
            "ea6fb833-37d0-4cc4-8975-4644db224d66 {'page': [9], 'section': ['Future Work'], 'file_name': 'AIOS.pdf'}\n",
            "827753f7-fe37-4b65-a365-6bd25eacb0ec {'page': [9], 'section': ['Future Work'], 'file_name': 'AIOS.pdf'}\n",
            "b37f2cb6-050d-4599-8cc5-7c6e9b164763 {'page': [9], 'section': ['Future Work'], 'file_name': 'AIOS.pdf'}\n",
            "fc119c46-0920-4c0b-aed2-49730c7fde86 {'page': [9], 'section': ['Future Work'], 'file_name': 'AIOS.pdf'}\n",
            "3fe212c5-be61-4651-9041-b0788e12d715 {'page': [9], 'section': ['Future Work'], 'file_name': 'AIOS.pdf'}\n"
          ]
        }
      ]
    },
    {
      "cell_type": "code",
      "source": [
        "len(nodes)"
      ],
      "metadata": {
        "colab": {
          "base_uri": "https://localhost:8080/"
        },
        "id": "c4E0Y8HmAdlc",
        "outputId": "bc452459-ebbf-49ec-8e14-b6140e44183e"
      },
      "execution_count": 114,
      "outputs": [
        {
          "output_type": "execute_result",
          "data": {
            "text/plain": [
              "60"
            ]
          },
          "metadata": {},
          "execution_count": 114
        }
      ]
    },
    {
      "cell_type": "markdown",
      "source": [
        "## 4) Create a Vector Store Index"
      ],
      "metadata": {
        "id": "zdWX7tXZFc-4"
      }
    },
    {
      "cell_type": "markdown",
      "source": [
        "Set up the OpenAI API for the LLM and the embedding model."
      ],
      "metadata": {
        "id": "zlFKlG_vMp7U"
      }
    },
    {
      "cell_type": "code",
      "source": [
        "os.environ[\"OPENAI_API_KEY\"] = 'YOUR_API_KEY'"
      ],
      "metadata": {
        "id": "yI6j9iv1F2j8"
      },
      "execution_count": 55,
      "outputs": []
    },
    {
      "cell_type": "code",
      "source": [
        "import logging\n",
        "import sys\n",
        "from llama_index.core.callbacks import CallbackManager, LlamaDebugHandler\n",
        "from llama_index.core import Settings\n",
        "\n",
        "logging.basicConfig(filename='app.log',\n",
        "                    level=logging.DEBUG,\n",
        "                    force=True, # Resets any previous configuration\n",
        "                    )\n",
        "\n",
        "# Using the LlamaDebugHandler to print the trace\n",
        "llama_debug = LlamaDebugHandler(print_trace_on_end=True)\n",
        "callback_manager = CallbackManager([llama_debug])\n",
        "\n",
        "Settings.callback_manager = callback_manager"
      ],
      "metadata": {
        "id": "uRZF_RAuGPTO"
      },
      "execution_count": 56,
      "outputs": []
    },
    {
      "cell_type": "code",
      "source": [
        "from llama_index.llms.openai import OpenAI\n",
        "from llama_index.core.settings import Settings\n",
        "\n",
        "from llama_index.core.callbacks import CallbackManager, LlamaDebugHandler\n",
        "\n",
        "llm_gpt35t = OpenAI(temperature=0.0, model=\"gpt-3.5-turbo\", callback_manager=callback_manager)"
      ],
      "metadata": {
        "id": "yIiG09DXGIST"
      },
      "execution_count": 115,
      "outputs": []
    },
    {
      "cell_type": "code",
      "source": [
        "from llama_index.core import VectorStoreIndex\n",
        "index_chunk = VectorStoreIndex(nodes, callback_manager=callback_manager)"
      ],
      "metadata": {
        "colab": {
          "base_uri": "https://localhost:8080/"
        },
        "id": "hsjWIx91FmxO",
        "outputId": "828971c1-6586-43d0-f75b-4649ad5d68b0"
      },
      "execution_count": 116,
      "outputs": [
        {
          "output_type": "stream",
          "name": "stdout",
          "text": [
            "**********\n",
            "Trace: index_construction\n",
            "    |_embedding -> 0.735582 seconds\n",
            "**********\n"
          ]
        }
      ]
    },
    {
      "cell_type": "code",
      "source": [
        "retriever = index_chunk.as_retriever(similarity_top_k=5)"
      ],
      "metadata": {
        "id": "n5rq1DAIH4lN"
      },
      "execution_count": 162,
      "outputs": []
    },
    {
      "cell_type": "code",
      "source": [
        "from llama_index.core.query_engine import RetrieverQueryEngine\n",
        "query_engine_base = RetrieverQueryEngine.from_args(retriever, llm=llm_gpt35t)"
      ],
      "metadata": {
        "id": "TumGWVXBH9aR"
      },
      "execution_count": 163,
      "outputs": []
    },
    {
      "cell_type": "markdown",
      "source": [
        "### 4.1) Test with no metafilters"
      ],
      "metadata": {
        "id": "detf6vYlK-fm"
      }
    },
    {
      "cell_type": "code",
      "source": [
        "response = query_engine_base.query(\n",
        "   \"Who are the authors of the papers?\"\n",
        ")\n",
        "print(response)"
      ],
      "metadata": {
        "colab": {
          "base_uri": "https://localhost:8080/"
        },
        "id": "4ldIbOoqII6U",
        "outputId": "71b3340b-742e-491e-cd65-c2aa8c74981a"
      },
      "execution_count": 164,
      "outputs": [
        {
          "output_type": "stream",
          "name": "stdout",
          "text": [
            "**********\n",
            "Trace: query\n",
            "    |_query -> 9.186156 seconds\n",
            "      |_retrieve -> 0.168859 seconds\n",
            "        |_embedding -> 0.161118 seconds\n",
            "      |_synthesize -> 9.016586 seconds\n",
            "        |_templating -> 2.3e-05 seconds\n",
            "        |_llm -> 8.999911 seconds\n",
            "**********\n",
            "Hendrycks, D., Burns, C., Kadavath, S., Arora, A., Basart, S., Tang, E., Song, D., Steinhardt, J., Jiang, A. Q., Sablayrolles, A., Roux, A., Mensch, A., Savary, B., Bamford, C., Chaplot, D. S., de Las Casas, D., Hanna, E. B., Bressand, F., Lengyel, G., Bour, G., Lample, G., Lavaud, L. R., Saulnier, L., Lachaux, M., Stock, P., Subramanian, S., Yang, S., Antoniak, S., Scao, T. L., Gervet, T., Lavril, T., Wang, T., Lacroix, T., Sayed, W. E., Jiang, D., Ren, X., Lin, B. Y., Touvron, H., Martin, L., Stone, K., Albert, P., Almahairi, A., Babaei, Y., Bashlykov, N., Batra, S., Bhargava, P., Bhosale, S., Wang, H., Polo, F. M., Sun, Y., Kundu, S., Xing, E., Yurochkin, M., Wang, L., Xu, W., Lan, Y., Hu, Z., Lee, R. K.-W., Lim, E.-P., Wang, Q., Wang, Z., Su, Y., Tong, H., Song, Y., Wang, X., Wei, J., Schuurmans, D., Le, Q., Chi, E., Narang, S., Chowdhery, A., Zhou, D., Wei, J., Bosma, M., Xia, F., Chan, W., Yu, J., Xue, W., Zhang, S., Fu, J., Kojima, T., Gu, S. S., Reid, M., Matsuo, Y., Iwasawa, Y., Liang, T., He, Z., Jiao, W., Wang, X., Wang, Y., Wang, R., Yang, Y., Tu, Z., Shi, S., Ling, Z., Fang, Y., Li, X., Huang, Z., Lee, M., Memisevic, R., Su, H., Lu, K., Yuan, H., Lin, R., Lin, J., Yuan, Z., Zhou, C., Zhou, J., Ouyang, L., Wu, J., Jiang, X., Almeida, D., Wainwright, C., Mishkin, P., Zhang, C., Agarwal, S., Slama, K., Ray, A., Papineni, K., Roukos, S., Ward, T., Zhu, W.\n"
          ]
        }
      ]
    },
    {
      "cell_type": "markdown",
      "source": [
        "As we can see, the answer is not correct"
      ],
      "metadata": {
        "id": "4ETenOxn78Xd"
      }
    },
    {
      "cell_type": "markdown",
      "source": [
        "![image.png](data:image/png;base64,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)"
      ],
      "metadata": {
        "id": "CXZ6PcyR8ddv"
      }
    },
    {
      "cell_type": "markdown",
      "source": [
        "![image.png](data:image/png;base64,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)"
      ],
      "metadata": {
        "id": "dVG70Oyl8mO5"
      }
    },
    {
      "cell_type": "code",
      "source": [
        "from llama_index.core.response.notebook_utils import display_source_node"
      ],
      "metadata": {
        "id": "gHVOU5KkIvzg"
      },
      "execution_count": 161,
      "outputs": []
    },
    {
      "cell_type": "markdown",
      "source": [
        "Showing the retriever nodes. This retrieves information from the references section of research papers. One of the challenges RAG (Retrieval-Augmented Generation) faces is akin to finding a needle in a haystack. When there's too much context, the LLM (Large Language Model) can get confused and perform poorly."
      ],
      "metadata": {
        "id": "o68C1WSOLGc1"
      }
    },
    {
      "cell_type": "code",
      "source": [
        "retrieval=query_engine_base.retrieve('Who are the authors of the papers?')\n",
        "for n in retrieval:\n",
        "  display_source_node(n, source_length=10050)"
      ],
      "metadata": {
        "colab": {
          "base_uri": "https://localhost:8080/",
          "height": 1000
        },
        "id": "o0bZ7phiJI6z",
        "outputId": "5f6e0471-3483-41e1-c6ec-6c96d65ef436"
      },
      "execution_count": 165,
      "outputs": [
        {
          "output_type": "stream",
          "name": "stdout",
          "text": [
            "**********\n",
            "Trace: query\n",
            "    |_retrieve -> 0.193744 seconds\n",
            "      |_embedding -> 0.186615 seconds\n",
            "**********\n"
          ]
        },
        {
          "output_type": "display_data",
          "data": {
            "text/plain": [
              "<IPython.core.display.Markdown object>"
            ],
            "text/markdown": "**Node ID:** 0e1682b0-ab1f-4d5a-aeda-805fd9fa17f5<br>**Similarity:** 0.7726008048281279<br>**Text:** arXiv preprint arXiv:2401.14196\n, 2024.\n\nHendrycks, D., Burns, C., Kadavath, S., Arora, A., Basart, S., Tang, E., Song, D., and Steinhardt, J.\n\nMeasuring mathematical problem solving with the math dataset.\n\narXiv preprint arXiv:2103.03874\n,\n2021.\n\nHuang, Y., Feng, X., Li, B., Xiang, Y., Wang, H., Qin, B., and Liu, T. Enabling ensemble learn-\ning for heterogeneous large language models with deep parallel collaboration.\n\narXiv preprint\narXiv:2404.12715\n, 2024.\n\nJiang, A. Q., Sablayrolles, A., Roux, A., Mensch, A., Savary, B., Bamford, C., Chaplot, D. S.,\nde Las Casas, D., Hanna, E. B., Bressand, F., Lengyel, G., Bour, G., Lample, G., Lavaud, L. R.,\nSaulnier, L., Lachaux, M., Stock, P., Subramanian, S., Yang, S., Antoniak, S., Scao, T. L., Gervet, T.,\nLavril, T., Wang, T., Lacroix, T., and Sayed, W. E. Mixtral of experts.\n\nCoRR\n, abs/2401.04088, 2024.\n\ndoi: 10.48550/ARXIV.2401.04088. URL\nhttps://doi.org/10.48550/arXiv.2401.04088\n.\n\nJiang, D., Ren, X., and Lin, B. Y. LLM-blender: Ensembling large language models with pairwise\nranking and generative fusion. In Rogers, A., Boyd-Graber, J., and Okazaki, N. (eds.),\nProceedings\nof the 61st Annual Meeting of the Association for Computational Linguistics (Volume 1: Long\nPapers)\n, pp. 14165–14178, Toronto, Canada, July 2023. Association for Computational Linguistics.<br>"
          },
          "metadata": {}
        },
        {
          "output_type": "display_data",
          "data": {
            "text/plain": [
              "<IPython.core.display.Markdown object>"
            ],
            "text/markdown": "**Node ID:** 2ecbec1f-656e-42c7-b82a-a35ec1653041<br>**Similarity:** 0.7650769559477965<br>**Text:** Llama: Open and efficient foundation language models.\n\narXiv\npreprint arXiv:2302.13971\n, 2023a.\n\nTouvron, H., Martin, L., Stone, K., Albert, P., Almahairi, A., Babaei, Y., Bashlykov, N., Batra, S.,\nBhargava, P., Bhosale, S., et al. Llama 2: Open foundation and fine-tuned chat models.\n\narXiv\npreprint arXiv:2307.09288\n, 2023b.\n\nWang, H., Polo, F. M., Sun, Y., Kundu, S., Xing, E., and Yurochkin, M. Fusing models with\ncomplementary expertise. In\nThe Twelfth International Conference on Learning Representations\n,\n2024a. URL\nhttps://openreview.net/forum?id=PhMrGCMIRL\n.\n\nWang, L., Xu, W., Lan, Y., Hu, Z., Lan, Y., Lee, R. K.-W., and Lim, E.-P. Plan-and-solve prompt-\ning: Improving zero-shot chain-of-thought reasoning by large language models.\n\narXiv preprint\narXiv:2305.04091\n, 2023.\n\nWang, Q., Wang, Z., Su, Y., Tong, H., and Song, Y. Rethinking the bounds of llm reasoning: Are\nmulti-agent discussions the key?\narXiv preprint arXiv:2402.18272\n, 2024b.\n\nWang, X., Wei, J., Schuurmans, D., Le, Q., Chi, E., Narang, S., Chowdhery, A., and Zhou,\nD. Self-consistency improves chain of thought reasoning in language models.\n\narXiv preprint\narXiv:2203.11171\n, 2022.\n\nWei, J., Wang, X., Schuurmans, D., Bosma, M., Xia, F., Chi, E., Le, Q. V., Zhou, D., et al. Chain-of-\nthought prompting elicits reasoning in large language models.\n\nAdvances in Neural Information\nProcessing Systems\n, 35:24824–24837, 2022.<br>"
          },
          "metadata": {}
        },
        {
          "output_type": "display_data",
          "data": {
            "text/plain": [
              "<IPython.core.display.Markdown object>"
            ],
            "text/markdown": "**Node ID:** 7f0f306f-88c2-4f5c-b40d-7e5688304507<br>**Similarity:** 0.761624717129846<br>**Text:** **Cul-\ntivate a Love for Writing and Reading**:... 4. **Choose Your\nNiche**:... 5. **Finish Your Work**:... 10. **Self-Publishing**:...\n\n11. **Marketing and Promotion**:... 12. **Continuous Learning\nand Writing**:...\n\nTable 8: Results on the MATH task. We evaluate different aggregators, with all six models serving as\nproposers in each MoA layer.\n\nAggregator\nLayer 1\nLayer 2\nLayer 3\nQwen1.5-72B-Chat\n0.428\n0.526\n0.552\nQwen1.5-110B-Chat\n0.500\n0.570\n0.576\nWizard 8x22b\n0.544\n0.574\n0.580\nMixtral-8x22B-Instruct-v0.1\n0.282\n0.534\n0.556\nLlama-3-70B-Instruct\n0.456\n0.584\n0.578\ndbrx-instruct\n0.314\n0.456\n0.522\n15<br>"
          },
          "metadata": {}
        },
        {
          "output_type": "display_data",
          "data": {
            "text/plain": [
              "<IPython.core.display.Markdown object>"
            ],
            "text/markdown": "**Node ID:** b37f2cb6-050d-4599-8cc5-7c6e9b164763<br>**Similarity:** 0.7615838119334416<br>**Text:** In\nThe Twelfth International Conference on Learning\nRepresentations\n, 2023.\n\n[49] Chen Qian, Xin Cong, Cheng Yang, Weize Chen, Yusheng Su, Juyuan Xu, Zhiyuan Liu,\nand Maosong Sun.\n\nCommunicative agents for software development.\n\narXiv preprint\narXiv:2307.07924\n, 2023.\n\n[50] Qingyun Wu, Gagan Bansal, Jieyu Zhang, Yiran Wu, Shaokun Zhang, Erkang Zhu, Beibin Li,\nLi Jiang, Xiaoyun Zhang, and Chi Wang. Autogen: Enabling next-gen llm applications via\nmulti-agent conversation framework.\n\narXiv preprint arXiv:2308.08155\n, 2023.\n\n[51] Martin Josifoski, Lars Klein, Maxime Peyrard, Yifei Li, Saibo Geng, Julian Paul Schnitzler,\nYuxing Yao, Jiheng Wei, Debjit Paul, and Robert West. Flows: Building blocks of reasoning\nand collaborating ai.\n\narXiv preprint arXiv:2308.01285\n, 2023.\n\n[52] Yao Fu, Hao Peng, Tushar Khot, and Mirella Lapata. Improving language model negotiation\nwith self-play and in-context learning from ai feedback.\n\narXiv preprint arXiv:2305.10142\n, 2023.\n\n[53] Yilun Du, Shuang Li, Antonio Torralba, Joshua B Tenenbaum, and Igor Mordatch. Improv-\ning factuality and reasoning in language models through multiagent debate.\n\narXiv preprint\narXiv:2305.14325\n, 2023.\n\n[54] Chi-Min Chan, Weize Chen, Yusheng Su, Jianxuan Yu, Wei Xue, Shanghang Zhang, Jie Fu,\nand Zhiyuan Liu. Chateval: Towards better llm-based evaluators through multi-agent debate. In\nThe Twelfth International Conference on Learning Representations\n, 2023.<br>"
          },
          "metadata": {}
        },
        {
          "output_type": "display_data",
          "data": {
            "text/plain": [
              "<IPython.core.display.Markdown object>"
            ],
            "text/markdown": "**Node ID:** 05a5c3ca-2316-4792-bc2d-8efd86d2dc9f<br>**Similarity:** 0.7599722794822272<br>**Text:** Association for Computational Linguistics.\n\ndoi: 10.18653/v1/2023.acl-long.792. URL\nhttps://aclanthology.org/2023.acl-long.\n\n792\n.\n\nKojima, T., Gu, S. S., Reid, M., Matsuo, Y., and Iwasawa, Y. Large language models are zero-shot\nreasoners.\n\nAdvances in neural information processing systems\n, 35:22199–22213, 2022.\n\nLiang, T., He, Z., Jiao, W., Wang, X., Wang, Y., Wang, R., Yang, Y., Tu, Z., and Shi, S. Encour-\naging divergent thinking in large language models through multi-agent debate.\n\narXiv preprint\narXiv:2305.19118\n, 2023.\n\n10\nLing, Z., Fang, Y., Li, X., Huang, Z., Lee, M., Memisevic, R., and Su, H. Deductive verification of\nchain-of-thought reasoning.\n\narXiv preprint arXiv:2306.03872\n, 2023.\n\nLu, K., Yuan, H., Lin, R., Lin, J., Yuan, Z., Zhou, C., and Zhou, J. Routing to the expert: Efficient\nreward-guided ensemble of large language models, 2023.\n\nOpenAI. Gpt-4 technical report, 2023.\n\nOuyang, L., Wu, J., Jiang, X., Almeida, D., Wainwright, C., Mishkin, P., Zhang, C., Agarwal, S.,\nSlama, K., Ray, A., et al. Training language models to follow instructions with human feedback.\n\nAdvances in neural information processing systems\n, 35:27730–27744, 2022.\n\nPapineni, K., Roukos, S., Ward, T., and Zhu, W. Bleu: a method for automatic evaluation of machine\ntranslation. In\nProceedings of the 40th Annual Meeting of the Association for Computational\nLinguistics, July 6-12, 2002, Philadelphia, PA, USA\n, pp. 311–318. ACL, 2002. doi: 10.3115/\n1073083.1073135.<br>"
          },
          "metadata": {}
        }
      ]
    },
    {
      "cell_type": "markdown",
      "source": [
        "Let's try asking separately for each of the papers."
      ],
      "metadata": {
        "id": "ncmGk4eY8xTz"
      }
    },
    {
      "cell_type": "code",
      "source": [
        "response = query_engine_base.query(\n",
        "    'Who are the authors of the paper \"Mixture-of-Agents Enhances Large Language Model Capabilities\"?'\n",
        ")\n",
        "print(response)"
      ],
      "metadata": {
        "colab": {
          "base_uri": "https://localhost:8080/"
        },
        "id": "njXPHy_f9UPA",
        "outputId": "1326da56-7975-4bb6-d184-b704b3c5c703"
      },
      "execution_count": 120,
      "outputs": [
        {
          "output_type": "stream",
          "name": "stdout",
          "text": [
            "**********\n",
            "Trace: query\n",
            "    |_query -> 0.976588 seconds\n",
            "      |_retrieve -> 0.181821 seconds\n",
            "        |_embedding -> 0.174943 seconds\n",
            "      |_synthesize -> 0.794099 seconds\n",
            "        |_templating -> 2.3e-05 seconds\n",
            "        |_llm -> 0.783508 seconds\n",
            "**********\n",
            "Junlin Wang, Jue Wang, Ben Athiwaratkun, Ce Zhang, and James Zou\n"
          ]
        }
      ]
    },
    {
      "cell_type": "code",
      "source": [
        "response = query_engine_base.query(\n",
        "    'Who are the authors of the paper \"AIOS: LLM Agent Operating System\"?'\n",
        ")\n",
        "print(response)\n"
      ],
      "metadata": {
        "colab": {
          "base_uri": "https://localhost:8080/"
        },
        "id": "feFXnK1k80ni",
        "outputId": "e4853bf9-9da4-4e4f-e1b2-7baa26cc3447"
      },
      "execution_count": 121,
      "outputs": [
        {
          "output_type": "stream",
          "name": "stdout",
          "text": [
            "**********\n",
            "Trace: query\n",
            "    |_query -> 1.137017 seconds\n",
            "      |_retrieve -> 0.122258 seconds\n",
            "        |_embedding -> 0.115581 seconds\n",
            "      |_synthesize -> 1.01413 seconds\n",
            "        |_templating -> 2.2e-05 seconds\n",
            "        |_llm -> 1.002909 seconds\n",
            "**********\n",
            "Kai Mei, Zelong Li, Shuyuan Xu, Ruosong Ye, Yingqiang Ge, and Yongfeng Zhang are the authors of the paper \"AIOS: LLM Agent Operating System.\"\n"
          ]
        }
      ]
    },
    {
      "cell_type": "markdown",
      "source": [
        "By separating the question by paper, the model has answered correctly."
      ],
      "metadata": {
        "id": "VZR6QZk1Cu6d"
      }
    },
    {
      "cell_type": "markdown",
      "source": [
        "## 5) Metafilters"
      ],
      "metadata": {
        "id": "Ty-OVBvwN_9v"
      }
    },
    {
      "cell_type": "code",
      "source": [
        "nodes[0].text"
      ],
      "metadata": {
        "colab": {
          "base_uri": "https://localhost:8080/",
          "height": 127
        },
        "id": "3PsW48ZXPSSV",
        "outputId": "a2327b72-d9c3-4620-924d-d9d19e34580c"
      },
      "execution_count": 62,
      "outputs": [
        {
          "output_type": "execute_result",
          "data": {
            "text/plain": [
              "'Mixture-of-Agents Enhances Large Language Model\\nCapabilities\\nJunlin Wang\\nDuke University\\nTogether AI\\njunlin.wang2@duke.edu\\nJue Wang\\nTogether AI\\njue@together.ai\\nBen Athiwaratkun\\nTogether AI\\nben@together.ai\\nCe Zhang\\nUniversity of Chicago\\nTogether AI\\ncez@uchicago.edu\\nJames Zou\\nStanford University\\nTogether AI\\njamesz@stanford.edu\\nAbstract\\nRecent advances in large language models (LLMs) demonstrate substantial capa-\\nbilities in natural language understanding and generation tasks. With the growing\\nnumber of LLMs, how to harness the collective expertise of multiple LLMs is an\\nexciting open direction. Toward this goal, we propose a new approach that lever-\\nages the collective strengths of multiple LLMs through a Mixture-of-Agents (MoA)\\nmethodology. In our approach, we construct a layered MoA architecture wherein\\neach layer comprises multiple LLM agents. Each agent takes all the outputs from\\nagents in the previous layer as auxiliary information in generating its response.\\n\\nMoA models achieves state-of-art performance on AlpacaEval 2.0, MT-Bench and\\nFLASK, surpassing GPT-4 Omni. For example, our MoA using only open-source\\nLLMs is the leader of AlpacaEval 2.0 by a substantial gap, achieving a score of\\n65.1% compared to 57.5% by GPT-4\\nOmni.\\n\\n1\\n1\\nIntroduction\\nLarge language models (LLMs)\\n(Zhang et al., 2022a;\\nChowdhery et al., 2022;\\nTouvron et al., 2023a;\\nTeam et al., 2023;\\nBrown et al., 2020;\\nOpenAI, 2023)\\nhave significantly advanced the field of natural\\nlanguage understanding and generation in recent years. These models are pretrained on vast amounts\\nof data and subsequently aligned with human preferences to generate helpful and coherent outputs\\n(Ouyang et al., 2022).\\n\\nHowever, despite the plethora of LLMs and their impressive achievements,\\nthey still face inherent constraints on model size and training data. Further scaling up these models is\\nexceptionally costly, often requiring extensive retraining on several trillion tokens.'"
            ],
            "application/vnd.google.colaboratory.intrinsic+json": {
              "type": "string"
            }
          },
          "metadata": {},
          "execution_count": 62
        }
      ]
    },
    {
      "cell_type": "code",
      "source": [
        "nodes[0].metadata"
      ],
      "metadata": {
        "colab": {
          "base_uri": "https://localhost:8080/"
        },
        "id": "OcXDfXnnOBd7",
        "outputId": "4e9c6e4c-1dcd-4da4-9b05-8b0028f7dd8b"
      },
      "execution_count": 65,
      "outputs": [
        {
          "output_type": "execute_result",
          "data": {
            "text/plain": [
              "{'page': [1],\n",
              " 'section': ['Introduction'],\n",
              " 'file_name': 'Mixture_of_Agents.pdf'}"
            ]
          },
          "metadata": {},
          "execution_count": 65
        }
      ]
    },
    {
      "cell_type": "code",
      "source": [
        "nodes[30].text"
      ],
      "metadata": {
        "colab": {
          "base_uri": "https://localhost:8080/",
          "height": 127
        },
        "id": "BOBuH2vkPIe3",
        "outputId": "14a761f7-e0b3-499f-fb6b-6f7bdb547487"
      },
      "execution_count": 122,
      "outputs": [
        {
          "output_type": "execute_result",
          "data": {
            "text/plain": [
              "'AIOS: LLM Agent Operating System\\nKai Mei\\nRutgers University\\nZelong Li\\nRutgers University\\nShuyuan Xu\\nRutgers University\\nRuosong Ye\\nRutgers University\\nYingqiang Ge\\nRutgers University\\nYongfeng Zhang\\nRutgers University\\nAbstract\\nThe integration and deployment of large language model (LLM)-based intelligent\\nagents have been fraught with challenges that compromise their efficiency and\\nefficacy. Among these issues are sub-optimal scheduling and resource allocation\\nof agent requests over the LLM, the difficulties in maintaining context during\\ninteractions between agent and LLM, and the complexities inherent in integrating\\nheterogeneous agents with different capabilities and specializations. The rapid\\nincrease of agent quantity and complexity further exacerbates these issues, often\\nleading to bottlenecks and sub-optimal utilization of resources. Inspired by these\\nchallenges, this paper presents AIOS, an LLM agent operating system, which\\nembeds large language model into operating systems (OS) as the brain of the\\nOS, enabling an operating system “with soul”—an important step towards AGI.\\n\\nSpecifically, AIOS is designed to optimize resource allocation, facilitate context\\nswitch across agents, enable concurrent execution of agents, provide tool service\\nfor agents, and maintain access control for agents. We present the architecture\\nof such an operating system, outline the core challenges it aims to resolve, and\\nprovide the basic design and implementation of the AIOS. Our experiments on\\nconcurrent execution of multiple agents demonstrate the reliability and efficiency\\nof our AIOS modules. Through this, we aim to not only improve the performance\\nand efficiency of LLM agents but also to pioneer for better development and\\ndeployment of the AIOS ecosystem in the future. The project is open-source at\\nhttps://github.com/agiresearch/AIOS\\n.\\n\\n1\\nIntroduction\\nIn the field of autonomous agents, research endeavors\\n[1, 2, 3]\\nare directed towards systems that can\\noperate independently, make decisions, and perform tasks with no or minimal human intervention.\\n\\nThese agents are designed to understand instructions, process information, make decisions and take\\naction to achieve a state of autonomy. The advent of large language models (LLMs)\\n[4, 5, 6]\\nhas\\nbrought new possibilities to the agent development\\n[7].'"
            ],
            "application/vnd.google.colaboratory.intrinsic+json": {
              "type": "string"
            }
          },
          "metadata": {},
          "execution_count": 122
        }
      ]
    },
    {
      "cell_type": "code",
      "source": [
        "nodes[30].metadata"
      ],
      "metadata": {
        "colab": {
          "base_uri": "https://localhost:8080/"
        },
        "id": "4CiscbJ9DC-B",
        "outputId": "8bc877a5-81b7-4bbc-cdcc-cf35874cb2d2"
      },
      "execution_count": 123,
      "outputs": [
        {
          "output_type": "execute_result",
          "data": {
            "text/plain": [
              "{'page': [1], 'section': ['Introduction'], 'file_name': 'AIOS.pdf'}"
            ]
          },
          "metadata": {},
          "execution_count": 123
        }
      ]
    },
    {
      "cell_type": "code",
      "source": [
        "from llama_index.core.vector_stores import MetadataFilters,MetadataFilter\n"
      ],
      "metadata": {
        "id": "4t-bAw4CQG1j"
      },
      "execution_count": 67,
      "outputs": []
    },
    {
      "cell_type": "code",
      "source": [
        "filters = MetadataFilters(\n",
        "    filters=[\n",
        "      MetadataFilter(key=\"file_name\", value='AIOS.pdf'),\n",
        "      MetadataFilter(key=\"section\", value=['Introduction']),\n",
        "\n",
        "]\n",
        "    ,condition='and'\n",
        "\n",
        "    )\n",
        "\n",
        "retriever = index_chunk.as_retriever(filters=filters)"
      ],
      "metadata": {
        "id": "5e_5_q14lvLV"
      },
      "execution_count": 148,
      "outputs": []
    },
    {
      "cell_type": "code",
      "source": [
        "docs = retriever.retrieve(\"Who are the authors of the papers\")  # for this post - the prompt I give here is not critical\n",
        "\n",
        "# printing out the metadata\n",
        "for i in range(len(docs)):\n",
        "    print(docs[i].metadata['section'])"
      ],
      "metadata": {
        "colab": {
          "base_uri": "https://localhost:8080/"
        },
        "id": "L8zN-JQhmBed",
        "outputId": "538ba7b1-9dbc-4121-f48d-98a686be4b39"
      },
      "execution_count": 149,
      "outputs": [
        {
          "output_type": "stream",
          "name": "stdout",
          "text": [
            "**********\n",
            "Trace: query\n",
            "    |_retrieve -> 0.125014 seconds\n",
            "      |_embedding -> 0.122924 seconds\n",
            "**********\n",
            "['Introduction']\n",
            "['Introduction']\n"
          ]
        }
      ]
    },
    {
      "cell_type": "code",
      "source": [
        "query_engine=index_chunk.as_query_engine(similarity_top_k=5,filters = filters)"
      ],
      "metadata": {
        "id": "D8l-u2OH69bg"
      },
      "execution_count": 150,
      "outputs": []
    },
    {
      "cell_type": "code",
      "source": [
        "response = query_engine.query(\"Who are the authors of the paper?\")\n",
        "print(response)"
      ],
      "metadata": {
        "colab": {
          "base_uri": "https://localhost:8080/"
        },
        "id": "OQN_C6EI7XDi",
        "outputId": "ef20df57-3ea0-4800-d4c4-bbc68ca73abb"
      },
      "execution_count": 151,
      "outputs": [
        {
          "output_type": "stream",
          "name": "stdout",
          "text": [
            "**********\n",
            "Trace: query\n",
            "    |_query -> 1.089932 seconds\n",
            "      |_retrieve -> 0.185501 seconds\n",
            "        |_embedding -> 0.183662 seconds\n",
            "      |_synthesize -> 0.903702 seconds\n",
            "        |_templating -> 2.2e-05 seconds\n",
            "        |_llm -> 0.895492 seconds\n",
            "**********\n",
            "Kai Mei, Zelong Li, Shuyuan Xu, Ruosong Ye, Yingqiang Ge, Yongfeng Zhang\n"
          ]
        }
      ]
    },
    {
      "cell_type": "markdown",
      "source": [
        "By narrowing the context further, the model responds well."
      ],
      "metadata": {
        "id": "_p6NF155EyKZ"
      }
    },
    {
      "cell_type": "code",
      "source": [
        "filters = MetadataFilters(\n",
        "    filters=[\n",
        "     # MetadataFilter(key=\"file_name\", value='AIOS.pdf'),\n",
        "      MetadataFilter(key=\"section\", value=['Introduction']),\n",
        "\n",
        "]\n",
        "\n",
        "    )\n",
        "\n",
        "retriever = index_chunk.as_retriever(filters=filters)"
      ],
      "metadata": {
        "id": "HEWOK2d0E3PM"
      },
      "execution_count": 157,
      "outputs": []
    },
    {
      "cell_type": "code",
      "source": [
        "query_engine=index_chunk.as_query_engine(similarity_top_k=5,filters = filters)"
      ],
      "metadata": {
        "id": "1ujc1tEcE75D"
      },
      "execution_count": 158,
      "outputs": []
    },
    {
      "cell_type": "code",
      "source": [
        "response = query_engine.query(\"Who are the authors of the papers?\")\n",
        "print(response)"
      ],
      "metadata": {
        "colab": {
          "base_uri": "https://localhost:8080/"
        },
        "id": "CWBpr5RpE-TR",
        "outputId": "5658876a-92b3-454e-d771-25110f59ab6e"
      },
      "execution_count": 159,
      "outputs": [
        {
          "output_type": "stream",
          "name": "stdout",
          "text": [
            "**********\n",
            "Trace: query\n",
            "    |_query -> 1.400861 seconds\n",
            "      |_retrieve -> 0.210936 seconds\n",
            "        |_embedding -> 0.208705 seconds\n",
            "      |_synthesize -> 1.189291 seconds\n",
            "        |_templating -> 2.3e-05 seconds\n",
            "        |_llm -> 1.178552 seconds\n",
            "**********\n",
            "Junlin Wang, Jue Wang, Ben Athiwaratkun, Ce Zhang, James Zou, Kai Mei, Zelong Li, Shuyuan Xu, Ruosong Ye, Yingqiang Ge, Yongfeng Zhang\n"
          ]
        }
      ]
    },
    {
      "cell_type": "markdown",
      "source": [
        "Once again it has worked as expected.\n",
        "\n",
        "Thank you for making it to the end of the tutorial! 🎉 I hope you found everything you needed. Happy coding! 🚀"
      ],
      "metadata": {
        "id": "YS3rSkc2FOpG"
      }
    }
  ]
}